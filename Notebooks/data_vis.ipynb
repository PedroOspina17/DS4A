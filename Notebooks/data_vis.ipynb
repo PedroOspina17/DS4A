{
 "cells": [
  {
   "cell_type": "code",
   "execution_count": null,
   "metadata": {},
   "outputs": [],
   "source": [
    "import pandas as pd\n",
    "import geopandas as gpd\n",
    "import matplotlib.pyplot as plt\n",
    "import folium\n",
    "import numpy as np\n",
    "\n",
    "import branca"
   ]
  },
  {
   "cell_type": "code",
   "execution_count": null,
   "metadata": {},
   "outputs": [],
   "source": [
    "#Load map of Colombia, grained by municipio\n",
    "#All files extracted from zip should be available at data/\n",
    "geo_df = gpd.read_file(\"../data/GeoData/MGN_MPIO_POLITICO.shp\")"
   ]
  },
  {
   "cell_type": "code",
   "execution_count": null,
   "metadata": {},
   "outputs": [],
   "source": [
    "geo_df.columns"
   ]
  },
  {
   "cell_type": "markdown",
   "metadata": {},
   "source": [
    "# Department codes:\n",
    "\n",
    "05= Antioquia,\n",
    "08= Atlántico,\n",
    "11= Bogotá,\n",
    "13= Bolivar,\n",
    "15= Boyaca,\n",
    "17=Caldas,\n",
    "18= Caqueta,\n",
    "19=Cauca,\n",
    "20= Cesar,\n",
    "23= Cordoba,\n",
    "25=Cundinamarca,\n",
    "27= Choco,\n",
    "41= Huila,\n",
    "44= La guajira,\n",
    "47= Magdalena,\n",
    "50= Meta,\n",
    "52= Nariño,\n",
    "54= Norte de Santander,\n",
    "63= Quindio,\n",
    "66= Risaralda,\n",
    "68= Santander,\n",
    "70= Sucre,\n",
    "73= Tolima,\n",
    "76= Valle del Cauca,\n",
    "81= Arauca,\n",
    "85= Casanare,\n",
    "86= Putumayo,\n",
    "88= Archipiélago de San Andrés, Providencia y Santa Catalina,\n",
    "91= Amazonas,\n",
    "94= Guainía,\n",
    "95= Guaviare,\n",
    "97= Vaupés,\n",
    "99= Vichada"
   ]
  },
  {
   "cell_type": "markdown",
   "metadata": {},
   "source": [
    "### A slice of the total df must be taken in order to plot the maps with folium. Attempting to plot the entire map of Colombia grained by municipio would take too long and probably crash.\n",
    "\n",
    "### Suggestion: if you are to plot all of Colombia, use departments (that's another dataset), if you are to plot by municipio then do it for only one departamento."
   ]
  },
  {
   "cell_type": "code",
   "execution_count": null,
   "metadata": {},
   "outputs": [],
   "source": [
    "#Find centroid of municip. so we can make colored plots in folium\n",
    "geo_df['centroid'] = geo_df['geometry'].centroid\n",
    "geo_df['longitude'] = geo_df['centroid'].apply(lambda x: np.array(x)[0])\n",
    "geo_df['latitude'] = geo_df['centroid'].apply(lambda x: np.array(x)[1])\n",
    "geo_df.drop('centroid',axis=1,inplace=True)\n",
    "\n",
    "#Select a single departamento. In this case Amazonas\n",
    "df_dpt = geo_df[geo_df['DPTO_CCDGO'] == '05']"
   ]
  },
  {
   "cell_type": "code",
   "execution_count": null,
   "metadata": {
    "scrolled": false
   },
   "outputs": [],
   "source": [
    "min_cn, max_cn = df_dpt['MPIO_NAREA'].quantile([0.01,0.99]).apply(round, 2)\n",
    "\n",
    "colormap = branca.colormap.LinearColormap(\n",
    "    colors=['white','green','blue'],\n",
    "    vmin=min_cn,\n",
    "    vmax=max_cn\n",
    ")\n",
    "\n",
    "colormap.caption=\"Area of municipality\"\n",
    "\n",
    "m = folium.Map(location=[1.2, -73.63])\n",
    "\n",
    "style_function = lambda x: {\n",
    "    'fillColor': colormap(x['properties']['MPIO_NAREA']),\n",
    "    'color': 'black',\n",
    "    'weight':2,\n",
    "    'fillOpacity':0.5\n",
    "}\n",
    "\n",
    "stategeo = folium.GeoJson(\n",
    "    df_dpt.to_json(),\n",
    "    style_function=style_function,  #Controls color filling (which variable, line color, fill color, etc)\n",
    "    tooltip=folium.GeoJsonTooltip(    #Controls pop-out box when mouse passes over map\n",
    "        fields=['MPIO_CCDGO', 'MPIO_NAREA'],\n",
    "        aliases=['ID', 'MPIO_NAREA'],\n",
    "        localize=True\n",
    "    )\n",
    ").add_to(m)\n",
    "\n",
    "colormap.add_to(m)   #Add the color scale\n",
    "m"
   ]
  },
  {
   "cell_type": "code",
   "execution_count": null,
   "metadata": {},
   "outputs": [],
   "source": [
    "m = folium.Map(location=[-1.373599012000057, -69.66974281299997],\n",
    "                        zoom_start=12)\n",
    "\n",
    "style_function = lambda x: {\n",
    " #   'fillColor': colormap(x['properties']['crime_count']),\n",
    "    'color': 'black',\n",
    "    'weight':2,\n",
    "    'fillOpacity':0.5\n",
    "}\n",
    "\n",
    "stategeo = folium.GeoJson(\n",
    "    df_dpt.to_json(),\n",
    "    name='Chicago beats'    ).add_to(m)\n",
    "\n",
    "#colormap.add_to(m)\n",
    "m"
   ]
  },
  {
   "cell_type": "markdown",
   "metadata": {},
   "source": [
    "## A better and more flexible (however not interactive) option is directly using geopandas plot. This allows easy plotting of data with pandas syntax"
   ]
  },
  {
   "cell_type": "code",
   "execution_count": null,
   "metadata": {},
   "outputs": [],
   "source": [
    "fig,ax=plt.subplots(figsize=(10,10))\n",
    "#Plot municips. in Antioquia colored by area.\n",
    "geo_df[geo_df['DPTO_CCDGO'] == '05'].plot(column='MPIO_NAREA', cmap='Blues', legend=True,ax=ax)\n",
    "\n",
    "ax.set_xticks([])\n",
    "ax.set_yticks([])\n",
    "plt.show()"
   ]
  },
  {
   "cell_type": "code",
   "execution_count": null,
   "metadata": {},
   "outputs": [],
   "source": [
    "nac = pd.read_csv('../data/nac2018.csv',sep=';')\n",
    "nac.head()"
   ]
  },
  {
   "cell_type": "code",
   "execution_count": null,
   "metadata": {},
   "outputs": [],
   "source": [
    "#Convert dpt. and munic. codes to strings and fill with zeros\n",
    "nac['COD_DPTO'] = nac['COD_DPTO'].apply(lambda x : str(x).zfill(2))\n",
    "nac['COD_MUNIC'] = nac['COD_MUNIC'].apply(lambda x : str(x).zfill(3))\n",
    "#Create a single ID for each munic.\n",
    "nac['ID'] = nac['COD_DPTO'] + nac['COD_MUNIC']\n",
    "\n",
    "#Do the same for geo_df\n",
    "geo_df['COD_DPTO'] = geo_df['DPTO_CCDGO'].apply(lambda x : str(x).zfill(2))\n",
    "geo_df['COD_MUNIC'] = geo_df['MPIO_CCDGO'].apply(lambda x : str(x).zfill(3))\n",
    "geo_df['ID'] = geo_df['COD_DPTO'] + geo_df['COD_MUNIC']"
   ]
  },
  {
   "cell_type": "code",
   "execution_count": null,
   "metadata": {
    "scrolled": true
   },
   "outputs": [],
   "source": [
    "#Add row of total births to geo_df\n",
    "new_df = (nac.loc[:,['ID','SIT_PARTO']]  #Select ID and dummy variable to count\n",
    "          .groupby('ID')                 #Group by ID\n",
    "          .count()                       #Count\n",
    "          .merge(geo_df,how='outer',left_index=True,right_on='ID')  #Outer merge with geo_df\n",
    "          .rename(columns={'SIT_PARTO':'BIRTHS_2018'}))             #Rename dummy variable to Birth count\n",
    "\n",
    "new_df = gpd.GeoDataFrame(new_df)  #Convert to geoDF\n",
    "new_df.shape"
   ]
  },
  {
   "cell_type": "code",
   "execution_count": null,
   "metadata": {},
   "outputs": [],
   "source": [
    "#Let's visualize this new variable\n",
    "fig,ax=plt.subplots(figsize=(10,10))\n",
    "new_df[(new_df['COD_DPTO'] == '05') & (new_df['BIRTHS_2018'] < 35000)].plot(column='BIRTHS_2018', cmap='Blues', legend=True,ax=ax)\n",
    "\n",
    "ax.set_title('Number of births per municipio in Colombia')\n",
    "ax.set_xticks([])\n",
    "ax.set_yticks([])\n",
    "plt.show()"
   ]
  },
  {
   "cell_type": "code",
   "execution_count": null,
   "metadata": {},
   "outputs": [],
   "source": []
  }
 ],
 "metadata": {
  "kernelspec": {
   "display_name": "Python 3",
   "language": "python",
   "name": "python3"
  },
  "language_info": {
   "codemirror_mode": {
    "name": "ipython",
    "version": 3
   },
   "file_extension": ".py",
   "mimetype": "text/x-python",
   "name": "python",
   "nbconvert_exporter": "python",
   "pygments_lexer": "ipython3",
   "version": "3.7.3"
  }
 },
 "nbformat": 4,
 "nbformat_minor": 2
}
