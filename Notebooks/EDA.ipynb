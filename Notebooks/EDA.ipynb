{
 "cells": [
  {
   "cell_type": "code",
   "execution_count": null,
   "metadata": {},
   "outputs": [],
   "source": [
    "import pandas as pd\n",
    "import matplotlib.pyplot as plt\n",
    "import numpy as np\n",
    "import seaborn as sns ;sns.set()"
   ]
  },
  {
   "cell_type": "code",
   "execution_count": null,
   "metadata": {},
   "outputs": [],
   "source": [
    "df = pd.read_csv('../Data/CleanData/InitialClean.csv',dtype='object',index_col=0)\n",
    "df.columns"
   ]
  },
  {
   "cell_type": "markdown",
   "metadata": {},
   "source": [
    "## Start looking at some seemingly easy to understand variables:\n",
    "\n",
    "PESO, AREA_RES, EDAD_MADRE, SEXO, TALLA, T_GES"
   ]
  },
  {
   "cell_type": "code",
   "execution_count": null,
   "metadata": {},
   "outputs": [],
   "source": [
    "replacements = {\n",
    "    \"TIPO_PARTO\": {\n",
    "        1 : \"ESPONTANEO\",\n",
    "        2 : \"CESAREA\",\n",
    "        3 : \"INSTRUMENTADO\",\n",
    "        4 : \"IGNORADO\",\n",
    "        9 : \"SIN_INFORMACION\"\n",
    "    },\n",
    "    \n",
    "    \"SEG_SOCIAL\": {\n",
    "        1 : \"CONTRIBUTIVO\",\n",
    "        2 : \"SUBSIDIADO\",\n",
    "        3 : \"EXCEPCION\",\n",
    "        4 : \"ESPECIAL\",\n",
    "        5 : \"NO_ASEGURADO\",\n",
    "        9 : \"SIN_INFORMACION\"\n",
    "    },\n",
    "    \n",
    "    \"MANERA_MUERTE\": {\n",
    "        0: \"SIN_INFORMACION\",\n",
    "        1 : \"NATURAL\",\n",
    "        2 : \"VIOLENTA\",\n",
    "        3 : \"EN_ESTUDIO\"\n",
    "    },\n",
    "    \n",
    "    \"SITIO_EVENTO\":{\n",
    "        1 : 'INSTITUCION DE SALUD',\n",
    "        3 : 'CASA',\n",
    "        4 : 'TRABAJO',\n",
    "        5 : 'VIA PUBLICA',\n",
    "        6 : 'OTRO',\n",
    "        9 : 'SIN_INFORMACION'\n",
    "    },    \n",
    "    \n",
    "    \"CERT_EXPEDIDO_POR\":{\n",
    "        1 : \"MEDICO_TRATANTE\",\n",
    "        2 : \"MEDICO_NO_TRATANTE\",\n",
    "        3 : \"MEDICO_LEGISTA\",\n",
    "        4 : \"PERSONAL_AUTORIZADO\",\n",
    "        5 : \"FUNCIONARIO_REG_CIVIL\",\n",
    "        6 : \"OTRO\"\n",
    "    },\n",
    "    \n",
    "    \"MOMENTO_MUERTE\" : {\n",
    "        1 : \"ANTES\",\n",
    "        2 : \"DURANTE\",\n",
    "        3 : \"DESPUES\",\n",
    "        4 : \"IGNORADO\",\n",
    "        9 : \"SIN_INFORMACION\"\n",
    "    },\n",
    "    \n",
    "    \"TIPO_EMBARAZO\" : {\n",
    "        1 : \"SIMPLE\",\n",
    "        2 : \"DOBLE\",\n",
    "        3 : \"TRIPLE\",\n",
    "        4 : \"CUADRUPLE_MAs\",\n",
    "        5 : \"IGNORADO\"\n",
    "    },\n",
    "    \n",
    "    \"TIEMPO_GESTACION\" : {\n",
    "        1 : \"0-22\",\n",
    "        2 : \"22-27\",\n",
    "        3 : \"28-37\",\n",
    "        4 : \"38-41\",\n",
    "        5 : \"42-MAS\",\n",
    "        6 : \"IGNORADO\",\n",
    "        9 : \"SIN_INFORMACION\"\n",
    "    },\n",
    "    \n",
    "    \"MANERA_MUERTE_VIOLENTA\":{\n",
    "        0 : \"NO_VIOLENTA\",\n",
    "        1 : \"SUICIDIO\",\n",
    "        2 : \"HOMICIDIO\",\n",
    "        3 : \"ACCIDENTE_TRANSITO\",\n",
    "        4 : \"OTRO_ACCIDENTE\",\n",
    "        5 : \"EN_ESTUDIO\"\n",
    "    },\n",
    "    \n",
    "    \"PARTO_ATENDIDO_POR\" : {\n",
    "        1 : \"MEDICO\",\n",
    "        2 : \"ENFERMERA\",\n",
    "        3 : \"AUXILIAR_ENFERMERIA\",\n",
    "        4 : \"PROMOTOR_SALUD\",\n",
    "        5 : \"PARTERA\",\n",
    "        6 : \"OTRO\",\n",
    "        9 : \"SIN_INFORMACION\"\n",
    "    },\n",
    "    \n",
    "    \"RESULTADO_EMB\" : {\n",
    "        1 : \"DEFUNCION_FETAL\",\n",
    "        2 : \"DEFUNCION_NO_FETAL\",\n",
    "        3 : \"NACIDO_VIVO\"\n",
    "    },\n",
    "    \n",
    "    \"SEXO\": {\n",
    "        1 : \"Male\",\n",
    "        2 : \"Female\",\n",
    "        3 : \"Undeterminate\",\n",
    "    },\n",
    "    \"TALLA\": {\n",
    "        2 : \"20-29\",\n",
    "        3 : \"30-39\",\n",
    "        4 : \"40-49\",\n",
    "        5 : \"50-59\",\n",
    "        6 : \"60-more\",\n",
    "        9 : \"N/I\"\n",
    "    },\n",
    "    \"PESO\": {\n",
    "        1 : \"< 1.0\",\n",
    "        2 : \"1.0-1.5\",\n",
    "        3 : \"1.5-1.9\",\n",
    "        4 : \"2.0-2.4\",\n",
    "        5 : \"2.5-2.9\",\n",
    "        6 : \"3.0-3.4\",\n",
    "        7 : \"3.5-3.9\",\n",
    "        8 : \"> 4\",\n",
    "        9 : \"N/I\"\n",
    "    },\n",
    "    'TIEMPO_GESTACION': {\n",
    "        1 : \"< 22\",\n",
    "        2 : \"22-27\",\n",
    "        3 : \"28-37\",\n",
    "        4 : \"38-41\",\n",
    "        5 : \"42-more\",\n",
    "        6 : \"Ignored\",\n",
    "        9 : \"N/I\"\n",
    "    },\n",
    "    'AREA_RESIDENCIA_HAB': {\n",
    "        1 : \"Municipal\\nseat\",\n",
    "        2 : \"Village\",\n",
    "        3 : \"Rural\",\n",
    "        9 : \"N/I\"\n",
    "    },\n",
    "    \"EDAD_MADRE\": {\n",
    "        1 : \"10-14\",\n",
    "        2 : \"15-19\",\n",
    "        3 : \"20-24\",\n",
    "        4 : \"25-29\",\n",
    "        5 : \"30-34\",\n",
    "        6 : \"35-39\",\n",
    "        7 : \"40-44\",\n",
    "        8 : \"45-49\",\n",
    "        9 : \"50-54\",\n",
    "        99 : \"N/I\"\n",
    "    },\n",
    "    \"TIPO_DEFUN\": {\n",
    "        0 : \"Born alive\",\n",
    "        1 : \"Fetal death\",\n",
    "        2 : \"Non-fetal death\"\n",
    "    }\n",
    "}"
   ]
  },
  {
   "cell_type": "code",
   "execution_count": null,
   "metadata": {},
   "outputs": [],
   "source": [
    "cols = ['PESO','AREA_RESIDENCIA_HAB','EDAD_MADRE','SEXO','TALLA','TIEMPO_GESTACION']\n",
    "cols_title = [\"Weight at birth\",\"Residence area\",\"Mothers age\",\\\n",
    "              \"Sex\",\"Size at birth\",\"Gestation time\"]\n",
    "cols_x = ['Weight [Kg]','','','','Size [cm]','Time [Weeks]']\n",
    "\n",
    "fig = plt.figure(figsize=(20,10))\n",
    "for i,col in enumerate(cols):\n",
    "    axi = fig.add_subplot(2,3,i+1)\n",
    "    axi.set_title(cols_title[i])\n",
    "    axi.set_title(col)\n",
    "    cnt_peso = df[col].value_counts()\n",
    "    sns.barplot(cnt_peso.index,cnt_peso.values,ax=axi,color='c')\n",
    "    axi.set_xticks(np.arange(len(replacements[col].values())))\n",
    "    if(i<1):\n",
    "        axi.set_xticklabels(replacements[col].values(),fontsize=9)\n",
    "    else:\n",
    "        axi.set_xticklabels(replacements[col].values())\n",
    "    axi.set_xlabel(cols_x[i])\n",
    "    axi.set_yticklabels([])\n",
    "\n",
    "plt.tight_layout()\n",
    "plt.savefig('../Plots/Fig2.png',dpi=300)\n",
    "plt.show()"
   ]
  },
  {
   "cell_type": "markdown",
   "metadata": {},
   "source": [
    "PESO has quite an interesting distribution. It looks normal if we exclude 1 and 9, but 1 is a large peak. It may be related to underweighting. There is also the fact that 1 represents the 0-1000 g range, while every other number represents a 500 g range. Even then, it is still a prominent peak.\n",
    "\n",
    "EDAD_MADRE is skewed to the right, with the peak at 3 (20-24 yo). It is worrying the quantity of pregnancies from 10-14 yo (bin 1). The range 15-19 is also quite large.\n",
    "\n",
    "Also, most of the births occur at municipal headers (1), SEXO is almost 50/50.\n",
    "\n",
    "T_GES: Has peaks at 1 and 4 (<22 weeks, 38-41 weeks). The latter is about the normal time of a pregnancy, but the first roughly indicates the quantity of early deliveries. It would be interesting to study the influence of this variable on viability of newborn.\n",
    "\n",
    "Most of the TALLA are missing, so it probably is not a very informative variable."
   ]
  },
  {
   "cell_type": "markdown",
   "metadata": {},
   "source": [
    "## Now let us discriminate distributions."
   ]
  },
  {
   "cell_type": "code",
   "execution_count": null,
   "metadata": {},
   "outputs": [],
   "source": [
    "cols = ['PESO','AREA_RESIDENCIA_HAB','EDAD_MADRE','SEXO','TALLA','TIEMPO_GESTACION']\n",
    "cols_title = [\"Weight at birth\",\"Residence area\",\"Mothers age\",\\\n",
    "              \"Sex\",\"Size at birth\",\"Gestation time\"]\n",
    "cols_x = ['Weight [Kg]','','','','Size [cm]','Time [Weeks]']\n",
    "\n",
    "\n",
    "fig = plt.figure(figsize=(20,10))\n",
    "for i,col in enumerate(cols):\n",
    "    axi = fig.add_subplot(2,3,i+1)\n",
    "    cnt = (df[[col,'RESULTADO_EMB']]\n",
    "                .groupby([col,'RESULTADO_EMB'])\n",
    "                .apply(len).reset_index()\n",
    "                .rename(columns={0:'Count'}))\n",
    "\n",
    "    #Compute normalized distribution\n",
    "    totals =  cnt.groupby('RESULTADO_EMB').apply(sum).Count  #Total elements\n",
    "    for ind in totals.index:\n",
    "        cnt.loc[cnt['RESULTADO_EMB']==ind,'Count'] /= totals[ind]\n",
    "    \n",
    "    sns.barplot(data=cnt,x=col,y='Count',hue='RESULTADO_EMB',ax=axi)\n",
    "    \n",
    "    axi.set_title(col)\n",
    "    axi.set_xticks(np.arange(len(replacements[col].values())))\n",
    "    if(i<1):\n",
    "        axi.set_xticklabels(replacements[col].values(),fontsize=9)\n",
    "    else:\n",
    "        axi.set_xticklabels(replacements[col].values())\n",
    "    axi.set_xticklabels(replacements[col].values())\n",
    "    axi.set_xlabel(cols_x[i])\n",
    "    axi.set_ylabel(\"\")\n",
    "    axi.set_yticklabels([])\n",
    "    L=plt.legend()\n",
    "    if(i==2 or i==5):\n",
    "        L=plt.legend(loc=1)\n",
    "    if(i==4):\n",
    "        L=plt.legend(loc=2)\n",
    "    L.get_texts()[0].set_text(replacements[\"TIPO_DEFUN\"][1])\n",
    "    L.get_texts()[1].set_text(replacements[\"TIPO_DEFUN\"][2])\n",
    "    L.get_texts()[2].set_text(replacements[\"TIPO_DEFUN\"][0])\n",
    "\n",
    "plt.tight_layout()\n",
    "plt.savefig('../Plots/Fig3.png',dpi=300)\n",
    "plt.show()"
   ]
  },
  {
   "cell_type": "markdown",
   "metadata": {},
   "source": [
    "The first plot explains the observations on the above cells: The PESO distribution of the newborns IS normal, the peak at 1 is due almost exclusively to fetal deaths (orange). A small peak (green) cal also be seen here, which probably makes PESO a good factor indicating newborn viability. AREA and EDAD_MADRE have very similar distributions. \n",
    "\n",
    "From these plots we can start identifying correlations (at least to proof the consistency of the data). We can see that the peak at 3 in SEXO (undetermined) is exclusively due to fetal deaths. From the T_GES plot we can see that most of the fetal deaths occur before 22 weeks. Depending on the time of differentiation of sex, this correlation may be due to the lack of differentiation at the time of the death of these fetuses.\n",
    "\n",
    "There might be some correlation between TALLA and T_GES. There are two similar peaks in both of the plots, which may indicate some correspondence.\n",
    "\n",
    "There doesn't seem to be substantial differences among distributions in AREA_RES, that is, the fact that some mother lives at a city or in a rural place doesn't seem to determine whether the fetus lives or dies.\n",
    "\n",
    "An additional (and more subtle) insight: in the EDAD_MADRE plot we can see that the distribution for fetal deaths is a bit more spread out than that for the newborns. What this means is that older women do get pregnant, but the probability of them having an abortion increases."
   ]
  },
  {
   "cell_type": "markdown",
   "metadata": {},
   "source": [
    "# Questions (check the boxes as you answer questions)\n",
    "\n",
    "- [x] Do APGAR{1,2} actually predict anything?\n",
    "- [x] Is there any difference between newborns whose mothers reside in a different place where the kids are born (ID_BIRTH != ID_RESID)?\n",
    "- [x] Is the distribution of ages of the fathers different from that of the mothers? Discriminate between newborn, deaths, etc. See if there's any correlation.\n",
    "- [x] Look at GRU_ED1. How is the distribution of ages of newborn deaths?\n",
    "- [x] IDPERTET is cultural-racial identification. Are distributions any different?\n",
    "- [ ] Influence of MUL_PARTO\n",
    "- [ ] Compare NIV_EDUM, NIV_EDUP. Are these distributions any different? Look for combinations of these two, maybe data can already show inequity?\n",
    "- [ ] N_EMB, N_HIJOSM, N_HIJOSV on outcome. Distribution, geographical distribution, correlation with race, culture, age\n",
    "- [ ] Eliminate OCUPACION (check first)\n",
    "- [ ] Look at SITIO_EVENTO. Make data cleaning worth it!\n",
    "- [ ] Corr with TIPO_PARTO\n",
    "\n",
    "I guess that's it for now"
   ]
  },
  {
   "cell_type": "markdown",
   "metadata": {},
   "source": [
    "### Q1: Do APGAR{1,2} actually predict anything?"
   ]
  },
  {
   "cell_type": "code",
   "execution_count": null,
   "metadata": {
    "scrolled": false
   },
   "outputs": [],
   "source": [
    "#Let's first look at APGAR{1,2}\n",
    "\n",
    "#Check for 99s. They should appear ONLY for fetal deaths.\n",
    "num99s = df['APGAR1'].value_counts().iloc[0]\n",
    "print(f\"Number of 99s: {num99s}\")\n",
    "\n",
    "cols = ['APGAR1','APGAR2']\n",
    "for col in cols:\n",
    "    print(col , df.loc[df[col]!='99','RESULTADO_EMB'].unique())\n",
    "\n",
    "\n",
    "fig = plt.figure(figsize=(20,5))\n",
    "for i,col in enumerate(cols):\n",
    "    axi = fig.add_subplot(2,3,i+1)\n",
    "    cnt = (df.loc[df['RESULTADO_EMB'] == 'NACIDO_VIVO',[col,'AREA']].groupby(col)\n",
    "            .apply(len).reset_index().rename(columns={0:'Count'}))\n",
    "    sns.barplot(data=cnt,x=col,y='Count')\n",
    "    axi.set_ylabel('')\n",
    "    axi.set_yticks([])\n",
    "    axi.set_title('APGAR Distribution')"
   ]
  },
  {
   "cell_type": "markdown",
   "metadata": {},
   "source": [
    "So, it turns out both fetal and non-fetal deaths datasets are full of 99s on these columns, so we can't predict anything. We can, however, look a the distribution of this variable.\n",
    "\n",
    "For what can be seen from these plots, it looks like a higher APGAR value is more common (and I guess better because these kids were actually born alive)"
   ]
  },
  {
   "cell_type": "markdown",
   "metadata": {},
   "source": [
    "### Q2: Is there any difference between newborns whose mothers reside in a different place where the kids are born (ID_BIRTH != ID_RESID)?"
   ]
  },
  {
   "cell_type": "code",
   "execution_count": null,
   "metadata": {},
   "outputs": [],
   "source": [
    "#Create new column for this variable.\n",
    "#Actually we'd have to segregate those whose death was violent but lets do it like this for now.\n",
    "df['MOBILITY'] = (df['ID_BIRTH'] != df['ID_RESID'])*1.0\n",
    "\n",
    "cols = ['PESO','AREA_RESIDENCIA_HAB','EDAD_MADRE','SEXO','TALLA','TIEMPO_GESTACION']\n",
    "\n",
    "fig = plt.figure(figsize=(20,10))\n",
    "for i,col in enumerate(cols):\n",
    "    axi = fig.add_subplot(2,3,i+1)\n",
    "    cnt = (df.loc[df['RESULTADO_EMB']=='NACIDO_VIVO',[col,'MOBILITY']]\n",
    "                .groupby([col,'MOBILITY'])\n",
    "                .apply(len).reset_index()\n",
    "                .rename(columns={0:'Count'}))\n",
    "    #Compute normalized distribution\n",
    "    totals =  cnt.groupby('MOBILITY').apply(sum).Count  #Total elements\n",
    "    for ind in totals.index:\n",
    "        cnt.loc[cnt['MOBILITY']==ind,'Count'] /= totals[ind]\n",
    "    \n",
    "    sns.barplot(data=cnt,x=col,y='Count',hue='MOBILITY',ax=axi)\n",
    "    \n",
    "plt.tight_layout()\n",
    "#plt.savefig('../Plots/InitialDiscrimDists.png')\n",
    "plt.show()"
   ]
  },
  {
   "cell_type": "markdown",
   "metadata": {},
   "source": [
    "The insight here is that mothers that travel in order to give birth usually come from rural areas (which is not really surprising though). Every other distribution behaves practically the same.\n",
    "\n",
    "Also, from plot 3 it can be seen that most of the 10-19 yo mothers have to move from their place of residence in order to give birth. These two observations lead us to conjecture that teenage pregnancies are more common in rural areas. Can this information be extracted from the data?"
   ]
  },
  {
   "cell_type": "markdown",
   "metadata": {},
   "source": [
    "### Q3: Is the distribution of ages of the fathers different from that of the mothers? Discriminate between newborn, deaths, etc. See if there's any correlation."
   ]
  },
  {
   "cell_type": "code",
   "execution_count": null,
   "metadata": {},
   "outputs": [],
   "source": [
    "#Make categories for EDAD_PADRE\n",
    "df['EDAD_PADRE_cat'] = pd.cut(df['EDAD_PADRE'].astype(int),bins=range(10,105,5))\n",
    "\n",
    "#Same for EDAD_MADRE\n",
    "\n",
    "#First replace categories by a representative value\n",
    "rep_edadmadre = {'1':12,'2':17,'3':22,'4':27,'5':33,'6':37,'7':41,'8':47,'9':52,'99':99}\n",
    "vals = df['EDAD_MADRE'].replace(rep_edadmadre.keys(),rep_edadmadre.values()).astype('category')\n",
    "   \n",
    "#Now do the same as before\n",
    "df['EDAD_MADRE_cat'] = pd.cut(vals.values,bins=range(10,105,5))\n",
    "\n",
    "#Produce normalized distribution fro both madre and padre\n",
    "madre = df.groupby('EDAD_MADRE_cat')['AREA'].count().rename('madre')\n",
    "madre /= madre.sum()\n",
    "padre = df.groupby('EDAD_PADRE_cat')['AREA'].count().rename('padre')\n",
    "padre /= padre.sum()\n",
    "\n",
    "#Plot\n",
    "fig,ax = plt.subplots(figsize=(10,5))\n",
    "pd.concat([madre,padre],names=['Madre','Padre'],axis=1).plot(kind='bar',ax=ax)\n",
    "ax.set_xlim(right=10)\n",
    "ax.set_xlabel('Age (years)',fontsize=15)\n",
    "ax.set_title('Age distribution',fontsize=15)\n",
    "ax.set_yticks([])\n",
    "\n",
    "plt.savefig('../Plots/Fig4.png',dpi=300, bbox_inches = 'tight')\n",
    "plt.show()"
   ]
  },
  {
   "cell_type": "markdown",
   "metadata": {},
   "source": [
    "We can clearly see that the distributions are different. As expected (using our knowledge of our country), the male parent is usually older than the female parent. The peak is at about the same ages, but the father distribution is considerably less skewed to the right and has a larger spread to the right."
   ]
  },
  {
   "cell_type": "markdown",
   "metadata": {},
   "source": [
    "The second part of the question is to look for correlations with target variable "
   ]
  },
  {
   "cell_type": "code",
   "execution_count": null,
   "metadata": {},
   "outputs": [],
   "source": [
    "padre = df.groupby(['EDAD_PADRE_cat','RESULTADO_EMB'])['AREA'].count().rename('Count').reset_index()\n",
    "\n",
    "padre.loc[padre['Count']!=0,'RESULTADO_EMB'].unique()"
   ]
  },
  {
   "cell_type": "markdown",
   "metadata": {},
   "source": [
    "This can't be done since there is only data for born alive."
   ]
  },
  {
   "cell_type": "markdown",
   "metadata": {},
   "source": [
    "### Q4: Look at GRU_ED1. How is the distribution of ages of newborn deaths?"
   ]
  },
  {
   "cell_type": "code",
   "execution_count": null,
   "metadata": {},
   "outputs": [],
   "source": [
    "counts = df.groupby('GRU_ED1')['AREA'].count()\n",
    "\n",
    "range_size = [1/24.,1., 5., 20., 1., 5.*30, 6.*30] #days\n",
    "count_norm = counts.copy()\n",
    "for i,cat in enumerate(counts.index):\n",
    "    count_norm.loc[cat] /= range_size[i]\n",
    "    \n",
    "fig,ax = plt.subplots(1,2,figsize=(8,4))\n",
    "counts.plot(kind='bar',ax=ax[0])\n",
    "count_norm.plot(kind='bar',ax=ax[1])\n",
    "\n",
    "ax[0].set_title('Count of deaths per category')\n",
    "ax[1].set_title('Probability of death at given time')\n",
    "\n",
    "categories = ['< 1 hour','< 1 day','1-6 days','7-27 days','28-29 days','1-5 months','6-12 months']\n",
    "ax[0].set_xticklabels(categories,rotation=90)\n",
    "ax[1].set_xticklabels(categories,rotation=90)\n",
    "ax[0].set_yticks([])\n",
    "ax[1].set_yticks([])\n",
    "\n",
    "ax[0].set_xlabel('Age range')\n",
    "ax[1].set_xlabel('Age range')\n",
    "\n",
    "plt.tight_layout()\n",
    "plt.savefig('../Plots/Fig5.png',dpi=300, bbox_inches = 'tight')\n",
    "plt.show()"
   ]
  },
  {
   "cell_type": "markdown",
   "metadata": {},
   "source": [
    "We have two very different plots here. The first shows that most of the deaths of < 1 yo people occur between 1-6 days and 1-5 months old. However, if we compare the time ranges where these events occur, we see that the early hours determine crucially the survivance of the newborn, as the probability of death peaks at less than 1 hour.\n",
    "\n",
    "This is interesting since we now know where to look for a problem: what is going on with newborns between 1-5 months? Many of them die at this stage. However, we also know now that we must take special care to less than 1 hour old newborns, since this is where the probability of them dying is higher."
   ]
  },
  {
   "cell_type": "markdown",
   "metadata": {},
   "source": [
    "### Q5: IDPERTET is cultural-racial identification. Are distributions any different?"
   ]
  },
  {
   "cell_type": "code",
   "execution_count": null,
   "metadata": {},
   "outputs": [],
   "source": [
    "g = df.groupby(['IDPERTET','RESULTADO_EMB'])['AREA'].count().rename('count').reset_index()\n",
    "#Normalize\n",
    "for cat in g['IDPERTET'].unique():\n",
    "    tot = g.loc[g['IDPERTET']==cat,'count'].sum()\n",
    "    g.loc[g['IDPERTET']==cat,'count'] /= tot\n",
    "\n",
    "#This excludes the following categories 'Rom','Raizal','Palenquero'\n",
    "#Since they just appear as blank spaces\n",
    "#g = g[g['count']>200] \n",
    "\n",
    "fig,ax = plt.subplots()\n",
    "sns.barplot(data=g,x='IDPERTET',y='count',hue='RESULTADO_EMB',ax=ax)\n",
    "ax.set_xticklabels(['Indigena','Rom','Raizal\\nS.A. Providencia','Palenquero',\n",
    "                    'Afro / Mulato','Ninguno','Sin info'],rotation=90)\n",
    "ax.set_title('Racial/cultural identification')\n",
    "#ax.set_yticks([])\n",
    "#ax.set_ylabel('')\n",
    "ax.set_xlabel('')\n",
    "#ax.set_ylim(0,20000)\n",
    "L = plt.legend(loc=(1,0.76))\n",
    "L.get_texts()[0].set_text(replacements[\"TIPO_DEFUN\"][1])\n",
    "L.get_texts()[1].set_text(replacements[\"TIPO_DEFUN\"][0])\n",
    "L.get_texts()[2].set_text(replacements[\"TIPO_DEFUN\"][2])\n",
    "\n",
    "plt.savefig('../Plots/Fig7.png',dpi=300, bbox_inches = 'tight')\n",
    "plt.show()"
   ]
  },
  {
   "cell_type": "markdown",
   "metadata": {},
   "source": [
    "We can see an important difference: Indigenous and afro people have a larger probability of a post-birth death than people identifying themselves with none of these races. This category is what we may identify in general as \"white\" people. Geographical correlation of these variables is important in orden to more confidently determine whether there is a systematic discrimination issue in the country, or this trend comes from different cultural aspects, among others.\n",
    "\n",
    "It is a shame we don't have data for fetal deaths. This data can however be obtained at a municipality level, so we can really do a study of this kind with geographical correlations.\n",
    "\n",
    "Discuss: is it worthy to make distributions for mother's age, etc, discriminating by this variable?"
   ]
  },
  {
   "cell_type": "markdown",
   "metadata": {},
   "source": [
    "# Let us stop this analysis here, and start thinking on some geographical plots"
   ]
  },
  {
   "cell_type": "code",
   "execution_count": null,
   "metadata": {},
   "outputs": [],
   "source": [
    "import plotly.express as px\n",
    "import geopandas as gpd\n",
    "import numpy as np\n",
    "import pandas as pd\n",
    "import json"
   ]
  },
  {
   "cell_type": "markdown",
   "metadata": {},
   "source": [
    "# Department codes:\n",
    "\n",
    "05= Antioquia,\n",
    "08= Atlántico,\n",
    "11= Bogotá,\n",
    "13= Bolivar,\n",
    "15= Boyaca,\n",
    "17=Caldas,\n",
    "18= Caqueta,\n",
    "19=Cauca,\n",
    "20= Cesar,\n",
    "23= Cordoba,\n",
    "25=Cundinamarca,\n",
    "27= Choco,\n",
    "41= Huila,\n",
    "44= La guajira,\n",
    "47= Magdalena,\n",
    "50= Meta,\n",
    "52= Nariño,\n",
    "54= Norte de Santander,\n",
    "63= Quindio,\n",
    "66= Risaralda,\n",
    "68= Santander,\n",
    "70= Sucre,\n",
    "73= Tolima,\n",
    "76= Valle del Cauca,\n",
    "81= Arauca,\n",
    "85= Casanare,\n",
    "86= Putumayo,\n",
    "88= Archipiélago de San Andrés, Providencia y Santa Catalina,\n",
    "91= Amazonas,\n",
    "94= Guainía,\n",
    "95= Guaviare,\n",
    "97= Vaupés,\n",
    "99= Vichada"
   ]
  },
  {
   "cell_type": "code",
   "execution_count": null,
   "metadata": {
    "scrolled": true
   },
   "outputs": [],
   "source": [
    "geo_df = gpd.read_file(\"../Data/GeoData/MGN_MPIO_POLITICO.shp\")\n",
    "geo_df.columns\n",
    "#MPIO_CCNCT is unique munic identifier: DPTO+MUNIC"
   ]
  },
  {
   "cell_type": "code",
   "execution_count": null,
   "metadata": {},
   "outputs": [],
   "source": [
    "#Reduce the resolution of the polygons in order to save space and make things faster\n",
    "tol = 0.002\n",
    "geo_df['geometry'] = geo_df['geometry'].simplify(tol, preserve_topology=True)\n",
    "\n",
    "#Extract cartographical and convert to geojson\n",
    "geodata = geo_df[['MPIO_CCNCT','MPIO_CNMBR','geometry']].reset_index(drop=True).__geo_interface__\n",
    "\n",
    "#Save file\n",
    "with open('../Data/GeoData/Municip.json', 'w') as f:\n",
    "    json.dump(geodata, f)"
   ]
  },
  {
   "cell_type": "code",
   "execution_count": null,
   "metadata": {},
   "outputs": [],
   "source": [
    "w1 = !ls -la ../Data/GeoData/*shp | awk '{print $5}'\n",
    "w2 = !ls -la ../Data/GeoData/*json | awk '{print $5}'\n",
    "w1,w2 = int(w1[0])/1e6,int(w2[0])/1e6\n",
    "\n",
    "print(f\"Initial (.shp): {w1} MB\\nFinal  (.json): {w2} MB\")"
   ]
  },
  {
   "cell_type": "markdown",
   "metadata": {},
   "source": [
    "Actually dumping direct to a json file would result in a ~220 MB file, so this is really a great size reduction\n",
    "\n",
    "## Now can we start plotting\n",
    "\n",
    "A slice of the total df must be taken in order to plot interactive maps. Attempting to plot the entire map of Colombia grained by municipio would crash.\n",
    "\n",
    "Suggestion: if you are to plot all of Colombia, use departments (that's another dataset), but if you really are to plot by municipio then do it for only one departamento, or use non-interactive options such as gdp.plot"
   ]
  },
  {
   "cell_type": "code",
   "execution_count": null,
   "metadata": {},
   "outputs": [],
   "source": [
    "with open('../Data/GeoData/Municip.json', 'r') as f:\n",
    "    geojson = json.loads(f.read())"
   ]
  },
  {
   "cell_type": "code",
   "execution_count": null,
   "metadata": {},
   "outputs": [],
   "source": [
    "dpto = '05'\n",
    "df_ = geo_df[geo_df['DPTO_CCDGO']==dpto]\n",
    "\n",
    "lon,lat = np.array(df_.iloc[0]['geometry'].centroid)\n",
    "dat = df_[['DPTO_CCDGO','MPIO_CNMBR','MPIO_CCNCT','MPIO_NAREA']]\n",
    "\n",
    "px.choropleth_mapbox(dat,\n",
    "        locations='MPIO_CCNCT',\n",
    "        color='MPIO_NAREA',\n",
    "        geojson=geojson,\n",
    "        zoom=6,\n",
    "        mapbox_style=\"carto-positron\", \n",
    "        featureidkey = 'properties.MPIO_CCNCT',\n",
    "        center={\"lat\":lat, \"lon\":lon},\n",
    "        color_continuous_scale=\"PuRd\",\n",
    "        opacity=0.5,)"
   ]
  },
  {
   "cell_type": "code",
   "execution_count": null,
   "metadata": {},
   "outputs": [],
   "source": []
  }
 ],
 "metadata": {
  "kernelspec": {
   "display_name": "DS4A",
   "language": "python",
   "name": "ds4a"
  },
  "language_info": {
   "codemirror_mode": {
    "name": "ipython",
    "version": 3
   },
   "file_extension": ".py",
   "mimetype": "text/x-python",
   "name": "python",
   "nbconvert_exporter": "python",
   "pygments_lexer": "ipython3",
   "version": "3.8.3"
  }
 },
 "nbformat": 4,
 "nbformat_minor": 2
}
