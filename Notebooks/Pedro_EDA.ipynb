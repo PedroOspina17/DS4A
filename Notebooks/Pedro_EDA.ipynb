{
 "cells": [
  {
   "cell_type": "code",
   "execution_count": null,
   "metadata": {},
   "outputs": [],
   "source": [
    "import pandas as pd\n",
    "import numpy as np\n",
    "import matplotlib.pyplot as plt\n",
    "import seaborn as sns"
   ]
  },
  {
   "cell_type": "code",
   "execution_count": null,
   "metadata": {
    "scrolled": true
   },
   "outputs": [],
   "source": [
    "df = pd.read_csv(\"../Data/CleanData/Test2.csv\")\n",
    "print(df.columns)\n",
    "\n",
    "\n",
    "df.head()"
   ]
  },
  {
   "cell_type": "code",
   "execution_count": null,
   "metadata": {},
   "outputs": [],
   "source": [
    "df.describe()"
   ]
  },
  {
   "cell_type": "code",
   "execution_count": null,
   "metadata": {},
   "outputs": [],
   "source": [
    "df[\"C_MCM1\"].unique()"
   ]
  },
  {
   "cell_type": "markdown",
   "metadata": {},
   "source": [
    "# Entries to ignore\n",
    "\n",
    "Information about died mothers, we are going to be focused on baby deaths\n",
    "\n",
    "# Fields to ignore\n",
    "\n",
    "Since our study is going to be focused on babys, the following fields could be omited:\n",
    "\n",
    "    - NIVEL_EDU_FALLECIDO\n",
    "    - OCUPACION\n",
    "    - PROFESION\n",
    "    - EDAD_PADRE\n",
    "    - NIV_EDUP\n",
    "    - ULTCURPAD\n",
    "    - ULTCURFAL\n",
    "    - MUNOCURRENCIA ?? ES EL MISMO QUE MUN ?\n",
    "    \n",
    "    - GRU_ED2 -- Gru_ED1 contains more detailed info.\n",
    "    - MUERTEPORO\n",
    "    "
   ]
  },
  {
   "cell_type": "markdown",
   "metadata": {},
   "source": [
    "# Variables description and values\n",
    "\n",
    "<br>\n",
    "<link rel=\"stylesheet\" href=\"https://maxcdn.bootstrapcdn.com/bootstrap/3.4.1/css/bootstrap.min.css\">\n",
    "<script src=\"https://ajax.googleapis.com/ajax/libs/jquery/3.5.1/jquery.min.js\"></script>\n",
    "<script src=\"https://maxcdn.bootstrapcdn.com/bootstrap/3.4.1/js/bootstrap.min.js\"></script>\n",
    "\n",
    "\n",
    "<div class=\"container\">  \n",
    "  <p>Click on the button to toggle between showing and hiding features.</p>\n",
    "  <button type=\"button\" class=\"btn btn-info\" data-toggle=\"collapse\" data-target=\"#demo\">Show/Hide</button>\n",
    "  <div id=\"demo\" class=\"collapse\">\n",
    "    \n",
    "\n",
    "**Tipo de parto (TIPO_PARTO)**\n",
    "- 1 = Espontáneo\n",
    "- 2 = Cesárea\n",
    "- 3 = Instrumentado\n",
    "- 4 = Ignorado\n",
    "- 9 = Sin información.\n",
    "\n",
    "\n",
    "**Seguridad social (SEG_SOCIAL)**\n",
    "- 1 = Contributivo\n",
    "- 2 = Subsidiado\n",
    "- 3 = Excepción\n",
    "- 4 = Especial\n",
    "- 5 = No asegurado\n",
    "- 9 = Sin información\n",
    "\n",
    "\n",
    "**Probale manera de muerte (MANERA_MUERTE)**\n",
    "- 0 = sin info\n",
    "- 1 = Natural\n",
    "- 2 = Violenta\n",
    "- 3 = En estudio\n",
    "\n",
    "**Probable manera muerte - Cuando es violenta (MANERA_MUERTE_VIOLENTA)**\n",
    "\n",
    "- **0 = No violenta ?**\n",
    "- 1 = Suicidio\n",
    "- 2 = Homicidio\n",
    "- 3 = Accidente de tránsito\n",
    "- 4 = Otro accidente\n",
    "- 5 = En estudio\n",
    "\n",
    "\n",
    "\n",
    "**Certificado de defunción expedido por (CERT_EXPEDIDO_POR)**\n",
    "- 1 = Médico tratante\n",
    "- 2 = Médico no tratante\n",
    "- 3 = Médico legista\n",
    "- 4 = Personal de salud autorizado\n",
    "- 5 = Funcionario del registro civil\n",
    "- 6 = Otro\n",
    "\n",
    "\n",
    "**Momento de la muerte (MOMENTO_MUERTE)**\n",
    "- 1 = Antes\n",
    "- 2 = Durante\n",
    "- 3 = Después\n",
    "- 4 = Ignorado\n",
    "- 9 = Sin información\n",
    "\n",
    "**Area residencia (AREA_RESIDENCIA)**\n",
    "- 1 = Cabecera municipal\n",
    "- 2 = Centro poblado (Inspección, corregimiento o caserío)\n",
    "- 3 = Rural disperso\n",
    "- 9 = Sin información\n",
    "\n",
    "**Tipo embarazo (TIPO_EMBARAZO)**\n",
    "- 1 = Simple\n",
    "- 2 = Doble\n",
    "- 3 = Triple\n",
    "- 4 = Cuádruple o más\n",
    "- 5 = Ignorado\n",
    "\n",
    "**Tiempo de gestación (TIEMPO_GESTACION)**\n",
    "- 1 = Menos de 22 semanas\n",
    "- 2 = De 22 a 27 semanas\n",
    "- 3 = De 28 a 37 semanas\n",
    "- 4 = De 38 a 41 semanas\n",
    "- 5 = De 42 y más semanas\n",
    "- 6 = Ignorado\n",
    "- 9 = Sin información\n",
    "\n",
    "**PARTO_ATENDIDO_POR** \n",
    "- 1 = Médico\n",
    "- 2 = Enfermero(a)\n",
    "- 3 = Auxiliar de enfermería\n",
    "- 4 = Promotor(a) de salud\n",
    "- 5 = Partera\n",
    "- 6 = Otro persona\n",
    "- 9 = Sin información\n",
    "   \n",
    "**Reultado del embaraso (RESULTADO_EMB)**\n",
    "- 1 = Defuncion fetal\n",
    "- 2 = Defuncion no fetal\n",
    "- 3 = Nacido vivo\n",
    "      \n",
    "**Sexo del fallecido (SEXO)**\n",
    "- 1 = Masculino\n",
    "- 2 = Femenino\n",
    "- 3 = Indeterminado\n",
    "      \n",
    "  </div>\n",
    "</div>\n",
    "\n",
    "\n",
    "\n",
    "## Distribution unified"
   ]
  },
  {
   "cell_type": "code",
   "execution_count": null,
   "metadata": {},
   "outputs": [],
   "source": [
    "columnsOfInterest = [\"GRU_ED1\",\"TIPO_PARTO\",\"EDAD_MADRE\",\"NUM_CONSUL\",\"TIEMPO_GESTACION\",\"PESO\",\"TALLA\",\"TIPO_PARTO\",\"NIV_EDUM\",\"EST_CIVM\",\"MANERA_MUERTE\",\"N_EMB\",\"N_HIJOSM\",\"N_HIJOSV\"]\n",
    "\n",
    "plt.figure(figsize=(18,18))\n",
    "for i,column in enumerate(columnsOfInterest):\n",
    "    plt.subplot(len(columnsOfInterest)/2,2,i+1)\n",
    "    sns.distplot(df[column])\n",
    "plt.tight_layout()"
   ]
  },
  {
   "cell_type": "markdown",
   "metadata": {},
   "source": [
    "## Distribution by pregnancy outcome (Variable of interest)"
   ]
  },
  {
   "cell_type": "code",
   "execution_count": null,
   "metadata": {
    "scrolled": false
   },
   "outputs": [],
   "source": [
    "\n",
    "plt.figure(figsize=(18,5))\n",
    "for i,column in enumerate(columnsOfInterest):\n",
    "    g = sns.FacetGrid(df,col=\"RESULTADO_EMB\",height=5, aspect=1,sharex=False,sharey=False)\n",
    "    g = g.map(sns.distplot,column)"
   ]
  },
  {
   "cell_type": "markdown",
   "metadata": {},
   "source": [
    "# Missing values percentages\n",
    "\n",
    "\n",
    "## By column"
   ]
  },
  {
   "cell_type": "code",
   "execution_count": null,
   "metadata": {},
   "outputs": [],
   "source": [
    "missingValuesList = [9,99,999,'SIN_INFORMACION']\n",
    "\n",
    "isnull = df.isnull()\n",
    "ismissing = df.isin(missingValuesList)\n",
    "\n",
    "valoresFaltantes = pd.DataFrame((isnull | ismissing).sum()/df.shape[0],columns=[\"PORCENTAJE_FALTANTES\"]) \\\n",
    "                        .reset_index().sort_values(by=\"PORCENTAJE_FALTANTES\",ascending=False)\n",
    "lowerTh, upperTh = valoresFaltantes[\"PORCENTAJE_FALTANTES\"].quantile([0.3,0.7])\n",
    "valoresFaltantes"
   ]
  },
  {
   "cell_type": "markdown",
   "metadata": {},
   "source": [
    "### The most complete fields (Apparently)"
   ]
  },
  {
   "cell_type": "code",
   "execution_count": null,
   "metadata": {},
   "outputs": [],
   "source": [
    "print(\"Taking lower threshold of: \",lowerTh)\n",
    "valoresFaltantes[valoresFaltantes[\"PORCENTAJE_FALTANTES\"] <= lowerTh]\n"
   ]
  },
  {
   "cell_type": "markdown",
   "metadata": {},
   "source": [
    "### The most incomplete fields (Apparently)"
   ]
  },
  {
   "cell_type": "code",
   "execution_count": null,
   "metadata": {},
   "outputs": [],
   "source": [
    "print(\"Taking higher threshold of: \",upperTh)\n",
    "valoresFaltantes[valoresFaltantes[\"PORCENTAJE_FALTANTES\"] >= upperTh]"
   ]
  },
  {
   "cell_type": "markdown",
   "metadata": {},
   "source": [
    "## By row"
   ]
  },
  {
   "cell_type": "code",
   "execution_count": null,
   "metadata": {},
   "outputs": [],
   "source": [
    "        \n",
    "df[\"missingValuePercent\"] = df.apply(lambda x: (x.isnull() | x.isin(missingValuesList)).sum() / len(x), axis=1)\n",
    "lowerThByRow, upperThByRow = df[\"missingValuePercent\"].quantile([0.2,0.8])\n",
    "df[\"missingValuePercent\"].head()"
   ]
  },
  {
   "cell_type": "markdown",
   "metadata": {},
   "source": [
    "### The most complete fields (Apparently)"
   ]
  },
  {
   "cell_type": "code",
   "execution_count": null,
   "metadata": {},
   "outputs": [],
   "source": [
    "print(\"Taking lower threshold of: \",lowerThByRow)\n",
    "df[df[\"missingValuePercent\"] <= lowerThByRow]\n"
   ]
  },
  {
   "cell_type": "markdown",
   "metadata": {},
   "source": [
    "### The most incomplete fields (Apparently)"
   ]
  },
  {
   "cell_type": "code",
   "execution_count": null,
   "metadata": {},
   "outputs": [],
   "source": [
    "print(\"Taking higher threshold of: \",upperThByRow)\n",
    "df[df[\"missingValuePercent\"] >= upperThByRow]"
   ]
  },
  {
   "cell_type": "code",
   "execution_count": null,
   "metadata": {},
   "outputs": [],
   "source": [
    "df.iloc[0][(df.iloc[0].isnull() | df.iloc[0].isin(missingValuesList))] # To check what's going on qith those rows"
   ]
  },
  {
   "cell_type": "markdown",
   "metadata": {},
   "source": [
    "## Some others experiments"
   ]
  },
  {
   "cell_type": "code",
   "execution_count": null,
   "metadata": {},
   "outputs": [],
   "source": [
    "df[\"GRU_ED1\"].value_counts()  ## DIG DEEPER INTO THIS !!! WHY IS THE AGE LOW ON CATEGORIES FROM 1 TO 7 (CHILDS)"
   ]
  },
  {
   "cell_type": "code",
   "execution_count": null,
   "metadata": {
    "scrolled": true
   },
   "outputs": [],
   "source": [
    "df[\"SITIO_EVENTO\"].value_counts()\n",
    "\n",
    "# ToDo: Compute the amount of deaths of birth on home, public spaces and other different of hospitals"
   ]
  },
  {
   "cell_type": "code",
   "execution_count": null,
   "metadata": {},
   "outputs": [],
   "source": [
    "result = {}\n",
    "for e in df.columns:\n",
    "    result[e] = df[e].unique()\n",
    "result"
   ]
  },
  {
   "cell_type": "code",
   "execution_count": null,
   "metadata": {},
   "outputs": [],
   "source": [
    "\n",
    "df['NUM_CONSUL'].value_counts()"
   ]
  },
  {
   "cell_type": "code",
   "execution_count": null,
   "metadata": {},
   "outputs": [],
   "source": [
    "df['NUM_CONSUL'].value_counts()"
   ]
  },
  {
   "cell_type": "code",
   "execution_count": null,
   "metadata": {},
   "outputs": [],
   "source": [
    "df['TIPO_PARTO'].plot(kind=\"hist\")"
   ]
  },
  {
   "cell_type": "code",
   "execution_count": null,
   "metadata": {},
   "outputs": [],
   "source": [
    "df['PESO'].plot(kind=\"hist\")"
   ]
  },
  {
   "cell_type": "code",
   "execution_count": null,
   "metadata": {
    "scrolled": false
   },
   "outputs": [],
   "source": [
    "infoToPlot = df.groupby([\"RESULTADO_EMB\",\"PESO\"]).count().reset_index()\n",
    "# g = sns.FacetGrid(, column=\"TALLA\",row=\"TIPO_DEFUN\")\n",
    "# g = g.map(sns.lineplot, )\n",
    "# [\"TALLA\"].plot()\n",
    "sns.scatterplot(data=df,x=\"PESO\",y=\"TALLA\", hue=\"RESULTADO_EMB\")\n",
    "\n",
    "# infoToPlot"
   ]
  },
  {
   "cell_type": "code",
   "execution_count": null,
   "metadata": {},
   "outputs": [],
   "source": [
    "replacements = {\n",
    "    \n",
    "    \"TIPO_PARTO\": {\n",
    "        1 : \"ESPONTANEO\",\n",
    "        2 : \"CESAREA\",\n",
    "        3 : \"INSTRUMENTADO\",\n",
    "        4 : \"IGNORADO\",\n",
    "        9 : \"SIN_INFORMACION\"\n",
    "    },\n",
    "    \n",
    "    \"SEG_SOCIAL\": {\n",
    "        1 : \"CONTRIBUTIVO\",\n",
    "        2 : \"SUBSIDIADO\",\n",
    "        3 : \"EXCEPCION\",\n",
    "        4 : \"ESPECIAL\",\n",
    "        5 : \"NO_ASEGURADO\",\n",
    "        9 : \"SIN_INFORMACION\"\n",
    "    },\n",
    "    \n",
    "    \"MANERA_MUERTE\": {\n",
    "        0: \"SIN_INFORMACION\",\n",
    "        1 : \"NATURAL\",\n",
    "        2 : \"VIOLENTA\",\n",
    "        3 : \"EN_ESTUDIO\"\n",
    "    },\n",
    "    \n",
    "    \"SITIO_EVENTO\":{\n",
    "        1 : 'INSTITUCION DE SALUD',\n",
    "        3 : 'CASA',\n",
    "        4 : 'TRABAJO',\n",
    "        5 : 'VIA PUBLICA',\n",
    "        6 : 'OTRO',\n",
    "        9 : 'SIN_INFORMACION'\n",
    "    },    \n",
    "    \n",
    "    \"CERT_EXPEDIDO_POR\":{\n",
    "        1 : \"MEDICO_TRATANTE\",\n",
    "        2 : \"MEDICO_NO_TRATANTE\",\n",
    "        3 : \"MEDICO_LEGISTA\",\n",
    "        4 : \"PERSONAL_AUTORIZADO\",\n",
    "        5 : \"FUNCIONARIO_REG_CIVIL\",\n",
    "        6 : \"OTRO\"\n",
    "    },\n",
    "    \n",
    "    \"MOMENTO_MUERTE\" : {\n",
    "        1 : \"ANTES\",\n",
    "        2 : \"DURANTE\",\n",
    "        3 : \"DESPUES\",\n",
    "        4 : \"IGNORADO\",\n",
    "        9 : \"SIN_INFORMACION\"\n",
    "    },\n",
    "    \n",
    "    \"TIPO_EMBARAZO\" : {\n",
    "        1 : \"SIMPLE\",\n",
    "        2 : \"DOBLE\",\n",
    "        3 : \"TRIPLE\",\n",
    "        4 : \"CUADRUPLE_MAs\",\n",
    "        5 : \"IGNORADO\"\n",
    "    },\n",
    "    \n",
    "    \"TIEMPO_GESTACION\" : {\n",
    "        1 : \"0-22\",\n",
    "        2 : \"22-27\",\n",
    "        3 : \"28-37\",\n",
    "        4 : \"38-41\",\n",
    "        5 : \"42-MAS\",\n",
    "        6 : \"IGNORADO\",\n",
    "        9 : \"SIN_INFORMACION\"\n",
    "    },\n",
    "    \n",
    "    \"MANERA_MUERTE_VIOLENTA\":{\n",
    "        0 : \"NO_VIOLENTA\",\n",
    "        1 : \"SUICIDIO\",\n",
    "        2 : \"HOMICIDIO\",\n",
    "        3 : \"ACCIDENTE_TRANSITO\",\n",
    "        4 : \"OTRO_ACCIDENTE\",\n",
    "        5 : \"EN_ESTUDIO\"\n",
    "    },\n",
    "    \n",
    "    \"PARTO_ATENDIDO_POR\" : {\n",
    "        1 : \"MEDICO\",\n",
    "        2 : \"ENFERMERA\",\n",
    "        3 : \"AUXILIAR_ENFERMERIA\",\n",
    "        4 : \"PROMOTOR_SALUD\",\n",
    "        5 : \"PARTERA\",\n",
    "        6 : \"OTRO\",\n",
    "        9 : \"SIN_INFORMACION\"\n",
    "    },\n",
    "    \n",
    "    \"RESULTADO_EMB\" : {\n",
    "        1 : \"DEFUNCION_FETAL\",\n",
    "        2 : \"DEFUNCION_NO_FETAL\",\n",
    "        3 : \"NACIDO_VIVO\"\n",
    "    },\n",
    "    \n",
    "    \"SEXO\": {\n",
    "        1 : \"MASCULINO\",\n",
    "        2 : \"FEMENINO\",\n",
    "        3 : \"INDETERMINADO\",\n",
    "    }\n",
    "}"
   ]
  },
  {
   "cell_type": "code",
   "execution_count": null,
   "metadata": {},
   "outputs": [],
   "source": [
    "def replaceValues(df,toNumbers = True):\n",
    "    dfReplaced = df.copy()\n",
    "    for field in replacements:\n",
    "        print(field)\n",
    "        if(toNumbers):\n",
    "            dfReplaced[field] = dfReplaced[field].replace(replacements[field].values(),replacements[field].keys())            \n",
    "        else:\n",
    "            dfReplaced[field] = dfReplaced[field].replace(replacements[field])\n",
    "    return dfReplaced"
   ]
  },
  {
   "cell_type": "code",
   "execution_count": null,
   "metadata": {},
   "outputs": [],
   "source": [
    "temp = replaceValues(df,toNumbers=False)"
   ]
  },
  {
   "cell_type": "code",
   "execution_count": null,
   "metadata": {},
   "outputs": [],
   "source": [
    "temp.head()"
   ]
  },
  {
   "cell_type": "code",
   "execution_count": null,
   "metadata": {},
   "outputs": [],
   "source": [
    "replaceValues(temp,toNumbers=True)"
   ]
  }
 ],
 "metadata": {
  "kernelspec": {
   "display_name": "Python 3",
   "language": "python",
   "name": "python3"
  },
  "language_info": {
   "codemirror_mode": {
    "name": "ipython",
    "version": 3
   },
   "file_extension": ".py",
   "mimetype": "text/x-python",
   "name": "python",
   "nbconvert_exporter": "python",
   "pygments_lexer": "ipython3",
   "version": "3.7.7"
  }
 },
 "nbformat": 4,
 "nbformat_minor": 4
}
