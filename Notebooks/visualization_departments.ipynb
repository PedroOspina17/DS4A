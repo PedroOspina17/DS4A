{
 "cells": [
  {
   "cell_type": "code",
   "execution_count": null,
   "metadata": {},
   "outputs": [],
   "source": [
    "import pandas as pd\n",
    "import geopandas as gpd\n",
    "import matplotlib.pyplot as plt\n",
    "import folium\n",
    "import numpy as np\n",
    "import branca"
   ]
  },
  {
   "cell_type": "code",
   "execution_count": null,
   "metadata": {},
   "outputs": [],
   "source": [
    "df = pd.read_csv(\"../Data/CleanData/InitialClean.csv\")\n",
    "\n",
    "df[[\"DEFUNCION_FETAL\",\"DEFUNCION_NO_FETAL\",\"NACIDO_VIVO\"]]=pd.get_dummies(df[\"RESULTADO_EMB\"])"
   ]
  },
  {
   "cell_type": "code",
   "execution_count": null,
   "metadata": {},
   "outputs": [],
   "source": []
  },
  {
   "cell_type": "code",
   "execution_count": null,
   "metadata": {},
   "outputs": [],
   "source": [
    "mortality = df.groupby(\"COD_DPTO\",as_index=False)[[\"DEFUNCION_FETAL\",\"DEFUNCION_NO_FETAL\",\"NACIDO_VIVO\"]].mean().reset_index()\n",
    "mortality.rename(columns={\"DEFUNCION_FETAL\":\"fetal\",\"DEFUNCION_NO_FETAL\":\"no_fetal\",\"NACIDO_VIVO\":\"vivo\"},inplace=True)\n",
    "mortality[\"deaths\"]=mortality[\"fetal\"]+mortality[\"no_fetal\"]\n",
    "mortality.head(3)"
   ]
  },
  {
   "cell_type": "code",
   "execution_count": null,
   "metadata": {},
   "outputs": [],
   "source": [
    "geo_df = gpd.read_file(\"../Data/GeoData/Departamentos/MGN_DPTO_POLITICO.shp\")"
   ]
  },
  {
   "cell_type": "code",
   "execution_count": null,
   "metadata": {
    "scrolled": true
   },
   "outputs": [],
   "source": [
    "geo_df.columns"
   ]
  },
  {
   "cell_type": "code",
   "execution_count": null,
   "metadata": {},
   "outputs": [],
   "source": [
    "geo_df[\"DPTO_CCDGO\"] = geo_df[\"DPTO_CCDGO\"].astype(int)"
   ]
  },
  {
   "cell_type": "code",
   "execution_count": null,
   "metadata": {},
   "outputs": [],
   "source": [
    "gdf = (geo_df.set_index('DPTO_CCDGO').join(mortality.set_index('COD_DPTO'))).reset_index()\n",
    "gdf.head(3)"
   ]
  },
  {
   "cell_type": "code",
   "execution_count": null,
   "metadata": {},
   "outputs": [],
   "source": [
    "#Find centroid of municip. so we can make colored plots in folium\n",
    "gdf['centroid'] = gdf['geometry'].centroid\n",
    "gdf['longitude'] = gdf['centroid'].apply(lambda x: np.array(x)[0])\n",
    "gdf['latitude'] = gdf['centroid'].apply(lambda x: np.array(x)[1])\n",
    "gdf.drop('centroid',axis=1,inplace=True)"
   ]
  },
  {
   "cell_type": "code",
   "execution_count": null,
   "metadata": {},
   "outputs": [],
   "source": [
    "min_cn, max_cn = gdf[\"deaths\"].quantile([0.01,0.99]).apply(round, 2)\n",
    "\n",
    "colormap = branca.colormap.LinearColormap(\n",
    "    colors=['white','green','blue'],\n",
    "    vmin=min_cn,\n",
    "    vmax=max_cn\n",
    ")\n",
    "\n",
    "colormap.caption=\"Department mortality\"\n",
    "\n",
    "m = folium.Map(location=[1.2, -73.63])\n",
    "\n",
    "style_function = lambda x: {\n",
    "    'fillColor': colormap(x['properties']['deaths']),\n",
    "    'color': 'black',\n",
    "    'weight':2,\n",
    "    'fillOpacity':0.5\n",
    "}\n",
    "\n",
    "stategeo = folium.GeoJson(\n",
    "    gdf.to_json(),\n",
    "    style_function=style_function,  #Controls color filling (which variable, line color, fill color, etc)\n",
    "    tooltip=folium.GeoJsonTooltip(    #Controls pop-out box when mouse passes over map\n",
    "        fields=['DPTO_CCDGO', 'deaths'],\n",
    "        aliases=['ID', 'deaths'],\n",
    "        localize=True\n",
    "    )\n",
    ").add_to(m)\n",
    "\n",
    "colormap.add_to(m)   #Add the color scale\n",
    "m"
   ]
  },
  {
   "cell_type": "code",
   "execution_count": null,
   "metadata": {},
   "outputs": [],
   "source": [
    "fig,ax=plt.subplots(figsize=(10,10))\n",
    "#Plot municips. in Antioquia colored by area.\n",
    "gdf.plot(column='deaths', cmap='Reds', legend=True,ax=ax)\n",
    "\n",
    "ax.set_title(\"Muertos fetales o no-fetales por embarazo\")\n",
    "ax.set_xticks([])\n",
    "ax.set_yticks([])\n",
    "plt.show()"
   ]
  },
  {
   "cell_type": "code",
   "execution_count": null,
   "metadata": {},
   "outputs": [],
   "source": [
    "fig,ax=plt.subplots(figsize=(10,10))\n",
    "#Plot municips. in Antioquia colored by area.\n",
    "gdf.plot(column='fetal', cmap='Reds', legend=True,ax=ax)\n",
    "\n",
    "ax.set_title(\"Muertos fetales por embarazo\")\n",
    "ax.set_xticks([])\n",
    "ax.set_yticks([])\n",
    "plt.show()"
   ]
  },
  {
   "cell_type": "code",
   "execution_count": null,
   "metadata": {},
   "outputs": [],
   "source": [
    "fig,ax=plt.subplots(figsize=(10,10))\n",
    "#Plot municips. in Antioquia colored by area.\n",
    "gdf.plot(column='no_fetal', cmap='Reds', legend=True,ax=ax)\n",
    "\n",
    "ax.set_title(\"Muertos no-fetales por embarazo\")\n",
    "ax.set_xticks([])\n",
    "ax.set_yticks([])\n",
    "plt.show()"
   ]
  },
  {
   "cell_type": "code",
   "execution_count": null,
   "metadata": {},
   "outputs": [],
   "source": [
    "fig,ax=plt.subplots(figsize=(10,10))\n",
    "#Plot municips. in Antioquia colored by area.\n",
    "gdf.plot(column='vivo', cmap='Reds', legend=True,ax=ax)\n",
    "\n",
    "ax.set_title(\"Nacimientos por embarazo\")\n",
    "ax.set_xticks([])\n",
    "ax.set_yticks([])\n",
    "plt.show()"
   ]
  },
  {
   "cell_type": "code",
   "execution_count": null,
   "metadata": {},
   "outputs": [],
   "source": []
  }
 ],
 "metadata": {
  "kernelspec": {
   "display_name": "Python 3",
   "language": "python",
   "name": "python3"
  },
  "language_info": {
   "codemirror_mode": {
    "name": "ipython",
    "version": 3
   },
   "file_extension": ".py",
   "mimetype": "text/x-python",
   "name": "python",
   "nbconvert_exporter": "python",
   "pygments_lexer": "ipython3",
   "version": "3.7.3"
  }
 },
 "nbformat": 4,
 "nbformat_minor": 2
}
