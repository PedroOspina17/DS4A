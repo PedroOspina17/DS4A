{
 "cells": [
  {
   "cell_type": "code",
   "execution_count": null,
   "metadata": {},
   "outputs": [],
   "source": [
    "import pandas as pd\n",
    "import matplotlib.pyplot as plt\n",
    "import numpy as np"
   ]
  },
  {
   "cell_type": "code",
   "execution_count": null,
   "metadata": {},
   "outputs": [],
   "source": [
    "# print(len(pd.read_csv('../Data/CleanData/Unified/nacUnified.csv',sep=',',dtype='object').columns))\n",
    "# print(len(pd.read_csv('../Data/CleanData/Unified/fetalUnified.csv',sep=',',dtype='object').columns))\n",
    "# print(len(pd.read_csv('../Data/CleanData/Unified/nofetalUnified.csv',sep=',',dtype='object').columns))"
   ]
  },
  {
   "cell_type": "code",
   "execution_count": null,
   "metadata": {},
   "outputs": [],
   "source": [
    "nac = pd.read_csv('../Data/CleanData/Unified/nacUnified.csv',sep=',')\n",
    "fet = pd.read_csv('../Data/CleanData/Unified/fetalUnified.csv',sep=',')\n",
    "nofet = pd.read_csv('../Data/CleanData/Unified/nofetalUnified.csv',sep=',') "
   ]
  },
  {
   "cell_type": "markdown",
   "metadata": {},
   "source": [
    "## Rename some columns: Change (AREANAC, A_DEFUN,...) -> AREA\n",
    "\n",
    "Convencion: todas variables se refieren al parto (lugar, mes, etc) a menos que se especifique"
   ]
  },
  {
   "cell_type": "code",
   "execution_count": null,
   "metadata": {},
   "outputs": [],
   "source": [
    "nac.info()"
   ]
  },
  {
   "cell_type": "code",
   "execution_count": null,
   "metadata": {},
   "outputs": [],
   "source": [
    "nac.columns"
   ]
  },
  {
   "cell_type": "code",
   "execution_count": null,
   "metadata": {},
   "outputs": [],
   "source": [
    "nac.columns = ['IGNORE','COD_DPTO', 'COD_MUNIC', 'AREA', 'SIT', 'OTRO_SIT', 'NOM_INST',\n",
    "     'COD_INST','SEXO', 'PESO', 'TALLA', 'ANO', 'MES', 'PARTO_ATENDIDO_POR', \n",
    "     'PARTO_ATENDIDO_POR_OTRO','TIEMPO_GESTACION', 'NUM_CONSUL','TIPO_PARTO', 'TIPO_EMBARAZO', 'APGAR1', \n",
    "     'APGAR2', 'IDHEMOCLAS', 'IDFACTORRH', 'IDPUEBLOIN', 'EDAD_MADRE', \n",
    "     'ESTADO_CIVIL_M', 'NIV_EDUCATIVO_M','ULT_GRADO_MADRE', 'PAIS_RESIDENCIA', 'DEPTO_RESIDENCIA', 'MUN_RECIDENCIA', \n",
    "     'AREA_RESIDENCIA_HAB', 'N_HIJOSV','FECHA_NAC_HIJO_VIVO', 'NUMERO_EMBARAZOS', 'SEG_SOCIAL', \n",
    "     'TIPO_ADM_SALUD', 'NOMBRE_ADM_SALUD','EDAD_PADRE','NIV_EDUCATIVO_P', 'ULT_GRADO_PADRE',\n",
    "     'PROFESION_QUIEN_CERTIFICA', 'FILE_YEAR', 'ORIGINAL_FILE', 'IDPERTET']\n",
    "\n",
    "fet.columns = ['IGNORE','COD_DPTO', 'COD_MUNIC', 'AREA', 'SIT', 'OTRO_SIT',\n",
    "        'COD_INST', 'NOM_INST','RESULTADO_EMB', 'ANO', 'MES', 'HORA', 'MINUTOS', \n",
    "        'SEXO', 'PAIS_RESIDENCIA', 'DEPTO_RESIDENCIA', 'MUN_RECIDENCIA', 'AREA_RESIDENCIA_HAB', 'SEG_SOCIAL',\n",
    "        'TIPO_ADM_SALUD', 'NOMBRE_ADM_SALUD', 'MANERA_MUERTE', 'CERT_EXPEDIDO_POR', 'MOMENTO_MUERTE', \n",
    "        'TIPO_PARTO', 'TIPO_EMBARAZO', 'TIEMPO_GESTACION', 'PESO', 'EDAD_MADRE', 'N_HIJOSV',\n",
    "        'N_HIJOSM', 'ESTADO_CIVIL_M','NIV_EDUCATIVO_M', 'ULT_GRADO_MADRE', 'MANERA_MUERTE_VIOLENTA', 'CODOCUR', \n",
    "        'CODMUNOC', 'C_MUERTEA', 'C_MUERTEB', 'C_MUERTEC', 'C_MUERTED', \n",
    "        'C_MUERTEE', 'ASIS_MED', 'C_DIR1', 'C_DIR12', 'C_ANT1', 'C_ANT12',\n",
    "        'C_ANT2', 'C_ANT22', 'C_ANT3', 'C_ANT32', 'C_PAT1', 'C_PAT2', 'C_BAS1', \n",
    "        'C_MCM1', 'PROFESION_QUIEN_CERTIFICA', 'CAUSA_666', 'CAU_HOMOL', 'FILE_YEAR',\n",
    "        'ORIGINAL_FILE', 'IDADMISALUD', 'CAUSA_667']\n",
    "\n",
    "nofet.columns = ['IGNORE','COD_DPTO', 'COD_MUNIC', 'AREA', 'SIT', 'OTRO_SIT',\n",
    "        'COD_INST', 'NOM_INST','RESULTADO_EMB', 'ANO', 'MES', 'HORA', 'MINUTOS', \n",
    "        'SEXO', 'EST_CIVIL', 'GRU_ED1', 'GRU_ED2', 'NIVEL_EDU_FALLECIDO', 'ULTCURFAL', \n",
    "        'MUERTEPORO', 'SIMUERTEPO', 'OCUPACION', 'IDPERTET', 'PAIS_RESIDENCIA', \n",
    "        'DEPTO_RESIDENCIA', 'MUN_RECIDENCIA', 'AREA_RESIDENCIA_HAB', 'SEG_SOCIAL', 'TIPO_ADM_SALUD', \n",
    "        'NOMBRE_ADM_SALUD', 'MANERA_MUERTE', 'CERT_EXPEDIDO_POR', 'MOMENTO_MUERTE', 'TIPO_PARTO', \n",
    "        'TIPO_EMBARAZO', 'TIEMPO_GESTACION', 'PESO', 'EDAD_MADRE', 'N_HIJOSV', 'N_HIJOSM',\n",
    "        'ESTADO_CIVIL_M','NIV_EDUCATIVO_M', 'ULT_GRADO_MADRE', 'EMB_FAL', 'EMB_SEM', 'EMB_MES',\n",
    "        'MANERA_MUERTE_VIOLENTA', 'CODOCUR', 'CODMUNOC', 'C_MUERTEA', 'C_MUERTEB', 'C_MUERTEC',\n",
    "        'C_MUERTED', 'C_MUERTEE', 'ASIS_MED', 'C_DIR1', 'C_DIR12', 'C_ANT1', \n",
    "        'C_ANT12', 'C_ANT2', 'C_ANT22', 'C_ANT3', 'C_ANT32', 'C_PAT1', 'C_PAT2', \n",
    "        'C_BAS1', 'C_MCM1','PROFESION_QUIEN_CERTIFICA', 'CAUSA_666', 'CAU_HOMOL', 'FILE_YEAR',\n",
    "       'ORIGINAL_FILE', 'IDPUEBLOIN', 'IDADMISALUD', 'CAUSA_667']\n",
    "                 \n",
    "nac['RESULTADO_EMB'] = 3\n",
    "nac[\"NACIDO_VIVO\"] = 1\n",
    "fet[\"NACIDO_VIVO\"] = 0\n",
    "nofet[\"NACIDO_VIVO\"] = 0"
   ]
  },
  {
   "cell_type": "code",
   "execution_count": null,
   "metadata": {},
   "outputs": [],
   "source": [
    "nac.shape , fet.shape , nofet.shape"
   ]
  },
  {
   "cell_type": "markdown",
   "metadata": {},
   "source": [
    "### El df nofet contiene datos de muertes de mayores de edad. A partir de aquí: seleccionar solo las entradas correspondientes a menores de 1 año. (GRU_ED1 < 07 , GRU_ED2 = 01)"
   ]
  },
  {
   "cell_type": "code",
   "execution_count": null,
   "metadata": {},
   "outputs": [],
   "source": []
  },
  {
   "cell_type": "code",
   "execution_count": null,
   "metadata": {},
   "outputs": [],
   "source": [
    "#Asegurarse que variables son consistentes (deberían tener igual cantidad de entradas para este query)\n",
    "print(nofet[nofet['GRU_ED2'].astype(int) == 1].shape)\n",
    "print(nofet[nofet['GRU_ED1'].astype(int) < 7].shape)"
   ]
  },
  {
   "cell_type": "code",
   "execution_count": null,
   "metadata": {},
   "outputs": [],
   "source": [
    "#That checked, slice the df\n",
    "nofet = nofet[nofet['GRU_ED2'].astype(int) == 1]\n",
    "nofet.head()"
   ]
  },
  {
   "cell_type": "markdown",
   "metadata": {},
   "source": [
    "\n",
    "\n",
    "## Replacement dicts\n"
   ]
  },
  {
   "cell_type": "code",
   "execution_count": null,
   "metadata": {},
   "outputs": [],
   "source": [
    "replacements = {\n",
    "    \n",
    "    \"TIPO_PARTO\": {\n",
    "        1 : \"ESPONTANEO\",\n",
    "        2 : \"CESAREA\",\n",
    "        3 : \"INSTRUMENTADO\",\n",
    "        4 : \"IGNORADO\",\n",
    "        9 : \"SIN_INFORMACION\"\n",
    "    },\n",
    "    \n",
    "    \"SEG_SOCIAL\": {\n",
    "        1 : \"CONTRIBUTIVO\",\n",
    "        2 : \"SUBSIDIADO\",\n",
    "        3 : \"EXCEPCION\",\n",
    "        4 : \"ESPECIAL\",\n",
    "        5 : \"NO_ASEGURADO\",\n",
    "        9 : \"SIN_INFORMACION\"\n",
    "    },\n",
    "    \n",
    "    \"MANERA_MUERTE\": {\n",
    "        0 : \"SIN_INFORMACION\",\n",
    "        1 : \"NATURAL\",\n",
    "        2 : \"VIOLENTA\",\n",
    "        3 : \"EN_ESTUDIO\"\n",
    "    },\n",
    "    \n",
    "    \"SITIO_EVENTO\":{\n",
    "        1 : 'INSTITUCION_SALUD',\n",
    "        3 : 'CASA',\n",
    "        4 : 'TRABAJO',\n",
    "        5 : 'VIA_PUBLICA',\n",
    "        6 : 'OTRO',\n",
    "        9 : 'SIN_INFORMACION'\n",
    "    },    \n",
    "    \n",
    "    \"CERT_EXPEDIDO_POR\":{\n",
    "        1 : \"MEDICO_TRATANTE\",\n",
    "        2 : \"MEDICO_NO_TRATANTE\",\n",
    "        3 : \"MEDICO_LEGISTA\",\n",
    "        4 : \"PERSONAL_AUTORIZADO\",\n",
    "        5 : \"FUNCIONARIO_REG_CIVIL\",\n",
    "        6 : \"OTRO\"\n",
    "    },\n",
    "    \n",
    "    \"MOMENTO_MUERTE\" : {\n",
    "        1 : \"ANTES\",\n",
    "        2 : \"DURANTE\",\n",
    "        3 : \"DESPUES\",\n",
    "        4 : \"IGNORADO\",\n",
    "        9 : \"SIN_INFORMACION\"\n",
    "    },\n",
    "    \n",
    "    \"TIPO_EMBARAZO\" : {\n",
    "        1 : \"SIMPLE\",\n",
    "        2 : \"DOBLE\",\n",
    "        3 : \"TRIPLE\",\n",
    "        4 : \"CUADRUPLE_MAs\",\n",
    "        5 : \"IGNORADO\"\n",
    "    },\n",
    "    \n",
    "    \"TIEMPO_GESTACION\" : {\n",
    "        1 : \"0-22\",\n",
    "        2 : \"22-27\",\n",
    "        3 : \"28-37\",\n",
    "        4 : \"38-41\",\n",
    "        5 : \"42-MAS\",\n",
    "        6 : \"IGNORADO\",\n",
    "        9 : \"SIN_INFORMACION\"\n",
    "    },\n",
    "    \n",
    "    \"MANERA_MUERTE_VIOLENTA\":{\n",
    "        0 : \"NO_VIOLENTA\",\n",
    "        1 : \"SUICIDIO\",\n",
    "        2 : \"HOMICIDIO\",\n",
    "        3 : \"ACCIDENTE_TRANSITO\",\n",
    "        4 : \"OTRO_ACCIDENTE\",\n",
    "        5 : \"EN_ESTUDIO\"\n",
    "    },\n",
    "    \n",
    "    \"PARTO_ATENDIDO_POR\" : {\n",
    "        1 : \"MEDICO\",\n",
    "        2 : \"ENFERMERA\",\n",
    "        3 : \"AUXILIAR_ENFERMERIA\",\n",
    "        4 : \"PROMOTOR_SALUD\",\n",
    "        5 : \"PARTERA\",\n",
    "        6 : \"OTRO\",\n",
    "        9 : \"SIN_INFORMACION\"\n",
    "    },\n",
    "    \"PROFESION_QUIEN_CERTIFICA\" : {\n",
    "        1 : \"MEDICO\",\n",
    "        2 : \"ENFERMERA\",\n",
    "        3 : \"AUXILIAR_ENFERMERIA\",\n",
    "        4 : \"PROMOTOR_SALUD\",\n",
    "        5 : \"FUNCIONARIO_REG_CIVIL\",\n",
    "        6 : \"MEDICO_LEGISTA\",\n",
    "        9 : \"SIN_INFORMACION\"\n",
    "    },\n",
    "    \n",
    "    \"RESULTADO_EMB\" : {\n",
    "        1 : \"DEFUNCION_FETAL\",\n",
    "        2 : \"DEFUNCION_NO_FETAL\",\n",
    "        3 : \"NACIDO_VIVO\"\n",
    "    },\n",
    "    \n",
    "    \"SEXO\": {\n",
    "        1 : \"MASCULINO\",\n",
    "        2 : \"FEMENINO\",\n",
    "        3 : \"INDETERMINADO\",\n",
    "    },\n",
    "    \n",
    "    \"NIV_EDUCATIVO_M\":{\n",
    "         1:\"PREESCOLAR\",\n",
    "         2:\"PRIMARIA\",\n",
    "         3:\"SECUNDARIA\",\n",
    "         4:\"SECUNDARIA\",\n",
    "         5:\"MEDIA_TECNICA\",\n",
    "         6:\"NORMALISTA\",\n",
    "         7:\"TECNICA_PROFESIONAL\",\n",
    "         8:\"TECNOLOGICA\",\n",
    "         9:\"PROFESIONAL\",\n",
    "        10:\"ESPECIALIZACION\",\n",
    "        11:\"MAESTRIA\",\n",
    "        12:\"DOCTORADO\",\n",
    "        13:\"NINGUNO\",\n",
    "        99:\"SIN_INFORMACION\"\n",
    "    },\n",
    "    \"NIV_EDUCATIVO_P\":{\n",
    "         1:\"PREESCOLAR\",\n",
    "         2:\"PRIMARIA\",\n",
    "         3:\"SECUNDARIA\",\n",
    "         4:\"SECUNDARIA\",\n",
    "         5:\"MEDIA_TECNICA\",\n",
    "         6:\"NORMALISTA\",\n",
    "         7:\"TECNICA_PROFESIONAL\",\n",
    "         8:\"TECNOLOGICA\",\n",
    "         9:\"PROFESIONAL\",\n",
    "        10:\"ESPECIALIZACION\",\n",
    "        11:\"MAESTRIA\",\n",
    "        12:\"DOCTORADO\",\n",
    "        13:\"NINGUNO\",\n",
    "        99:\"SIN_INFORMACION\"\n",
    "    }\n",
    "}"
   ]
  },
  {
   "cell_type": "markdown",
   "metadata": {},
   "source": [
    "# Estandarizar sitio de parto (defunción)"
   ]
  },
  {
   "cell_type": "markdown",
   "metadata": {},
   "source": [
    "### fet y nofet:\n",
    "Sitio donde ocurrió la defunción\n",
    "1 Hospital/clínica\n",
    "2 Centro /puesto de salud\n",
    "3 Casa /domicilio\n",
    "4 Lugar de trabajo\n",
    "5 Vía pública\n",
    "6 Otro\n",
    "9 Sin información\n",
    "\n",
    "### nac:\n",
    "Sitio de la Parto\n",
    "1 = Institución de salud\n",
    "2 = Domicilio\n",
    "3 = Otro\n",
    "9 = Sin información"
   ]
  },
  {
   "cell_type": "code",
   "execution_count": null,
   "metadata": {},
   "outputs": [],
   "source": [
    "#Mezcla hospital y centro de salud en fet y nofet\n",
    "fet['SIT'].replace('2','1',inplace=True)\n",
    "nofet['SIT'].replace('2','1',inplace=True)\n",
    "\n",
    "nac['SIT'].replace('3','6',inplace=True) #otro = 6\n",
    "nac['SIT'].replace('2','3',inplace=True) #domicilio = 3\n",
    "\n",
    "dfs = [nac,fet,nofet]\n",
    "\n",
    "#SITIO EVENTO: nueva columna para poner todos los valores (sumariza SIT y OTRO_SIT)\n",
    "for df_i in dfs:\n",
    "    df_i['OTRO_SIT'].replace(' ',9)\n",
    "    df_i['SITIO_EVENTO'] = df_i['SIT'].astype('object')\n",
    "    #Reemplaza valores en \"replacing\"\n",
    "#     df_i['SITIO_EVENTO'].replace(replacements[\"SITIO_EVENTO\"].keys(),replacements[\"SITIO_EVENTO\"].values(),inplace=True)\n",
    "    #Simple cleaning\n",
    "#     df_i['OTRO_SIT'].replace(' ','SIN_INFORMACION',inplace=True) \n",
    "#     df_i['OTRO_SIT'] = df_i['OTRO_SIT'].str.upper().str.strip()"
   ]
  },
  {
   "cell_type": "markdown",
   "metadata": {},
   "source": [
    "### Concatenate all 3 dfs. From now on I assume all data is standarized among dfs"
   ]
  },
  {
   "cell_type": "code",
   "execution_count": null,
   "metadata": {
    "scrolled": true
   },
   "outputs": [],
   "source": [
    "df = (pd.concat([nac,fet,nofet],sort=True)  \n",
    "      .replace(' ',np.nan)    #replace missing values\n",
    "      .reset_index(drop=True)) #reset index and drop old indices\n",
    "df.shape"
   ]
  },
  {
   "cell_type": "code",
   "execution_count": null,
   "metadata": {
    "scrolled": true
   },
   "outputs": [],
   "source": [
    "df.info()"
   ]
  },
  {
   "cell_type": "code",
   "execution_count": null,
   "metadata": {},
   "outputs": [],
   "source": [
    "df.columns"
   ]
  },
  {
   "cell_type": "markdown",
   "metadata": {},
   "source": [
    "## Fill N_EMB, N_HIJOSV and N_HIJOSM. Use N_EMB = N_HIJOSV + N_HIJOSM"
   ]
  },
  {
   "cell_type": "code",
   "execution_count": null,
   "metadata": {
    "scrolled": false
   },
   "outputs": [],
   "source": [
    "df[\"N_HIJOSM\"].replace('Sin información',99,inplace=True)\n",
    "\n",
    "#Convert these columns to float\n",
    "df[['NUMERO_EMBARAZOS','N_HIJOSV','N_HIJOSM']] = df[['NUMERO_EMBARAZOS','N_HIJOSV','N_HIJOSM']].astype(float)\n",
    "\n",
    "#Print number of missing values in these columns\n",
    "print('Before:\\n',df[['NUMERO_EMBARAZOS','N_HIJOSV','N_HIJOSM']].isna().sum())  \n",
    "\n",
    "df_tmp = df[df['NUMERO_EMBARAZOS'].isna()]  #df with nan values for N_EMB\n",
    "df.loc[df['NUMERO_EMBARAZOS'].isna(),['NUMERO_EMBARAZOS']] = df_tmp['N_HIJOSM'] + df_tmp['N_HIJOSV']\n",
    "\n",
    "df_tmp = df[df['N_HIJOSM'].isna()]  #df with nan values for N_HIJOSM\n",
    "df.loc[df['N_HIJOSM'].isna(),['N_HIJOSM']] = df_tmp['NUMERO_EMBARAZOS'] - df_tmp['N_HIJOSV']\n",
    "\n",
    "df_tmp = df[df['N_HIJOSV'].isna()]  #same for N_HIJOSV\n",
    "df.loc[df['N_HIJOSV'].isna(),['N_HIJOSV']] = df_tmp['NUMERO_EMBARAZOS'] - df_tmp['N_HIJOSM']\n",
    "\n",
    "df.replace('NO_INFONO_INFO','NO_INFO',inplace=True)\n",
    "print('\\nAfter:\\n',df[['NUMERO_EMBARAZOS','N_HIJOSV','N_HIJOSM']].isna().sum()) "
   ]
  },
  {
   "cell_type": "markdown",
   "metadata": {},
   "source": [
    "## Create unique code for munic.\n",
    "\n",
    "### dpto: 05 + munic: 001 => 05001 new code"
   ]
  },
  {
   "cell_type": "code",
   "execution_count": null,
   "metadata": {},
   "outputs": [],
   "source": [
    "#Create unique munic and dpto codes (nacim, resid, death)\n",
    "def id_municip(df,coldpto,colmunic,nameNew):\n",
    "    #Convert dpt. and munic. codes to strings and fill with zeros   \n",
    "    df[coldpto] = df[coldpto].apply(lambda x : str(x).zfill(2))\n",
    "    df[colmunic] = df[colmunic].apply(lambda x : str(x).zfill(3))\n",
    "    #Create a single ID for each munic.\n",
    "    df[nameNew] = df[coldpto] + df[colmunic]\n",
    "    return df.drop(colmunic,axis=1)  #Drop munic. code, the new code is enough\n",
    "\n",
    "df = id_municip(df,'COD_DPTO','COD_MUNIC','ID_BIRTH')\n",
    "df = id_municip(df,'DEPTO_RESIDENCIA', 'MUN_RECIDENCIA','ID_RESID')\n",
    "df = id_municip(df,'CODOCUR','CODMUNOC','ID_VIOL').replace('nannan',np.nan)\n",
    "\n",
    "df.shape"
   ]
  },
  {
   "cell_type": "code",
   "execution_count": null,
   "metadata": {},
   "outputs": [],
   "source": [
    "cols = [c for c in df.columns if c.startswith(\"C_M\")]\n",
    "df[(~df[cols].isnull()).any(axis=1)][cols].head()"
   ]
  },
  {
   "cell_type": "code",
   "execution_count": null,
   "metadata": {},
   "outputs": [],
   "source": [
    "#Unir C_MUERTE(A,B..,E) en una sola columna. Esta variable es como se determinó la causa de muerte\n",
    "#Tal vez esto no es tan importante, así que las voy a unir y tirar las otras\n",
    "cols = [f'C_MUERTE{i}' for i in ['A','B','C','D','E']]\n",
    "df['C_MUERTE'] = df[cols].fillna('_').astype(str).sum(axis=1)\n",
    "df.drop(cols,axis=1,inplace=True)\n",
    "df.shape"
   ]
  },
  {
   "cell_type": "code",
   "execution_count": null,
   "metadata": {},
   "outputs": [],
   "source": [
    "df[\"C_MUERTE\"].value_counts()"
   ]
  },
  {
   "cell_type": "code",
   "execution_count": null,
   "metadata": {},
   "outputs": [],
   "source": []
  },
  {
   "cell_type": "code",
   "execution_count": null,
   "metadata": {},
   "outputs": [],
   "source": [
    "#Crear una sola columna para DATE\n",
    "print(df[['ANO', 'MES', 'HORA', 'MINUTOS']].isna().any())  #Make sure only HORA, MINUTOS are missing\n",
    "\n",
    "#Convertir data a strings\n",
    "tmp = df[['ANO', 'MES', 'HORA', 'MINUTOS']].fillna(0).astype(float).astype(int).astype(str)\n",
    "tmp[\"HORA\"] = tmp[\"HORA\"].replace(\"98\",\"0\").replace(\"99\",\"0\")\n",
    "tmp[\"MINUTOS\"] = tmp[\"MINUTOS\"].replace(\"98\",\"0\").replace(\"99\",\"0\")\n",
    "#Sumar con formato Y/M/D H:Min\n",
    "date = tmp['ANO'] + '/' + tmp['MES'] + ' ' + tmp['HORA'] + ':' + tmp['MINUTOS']   \n",
    "\n",
    "df['DATE'] = pd.to_datetime(date) #Convert to datetime\n",
    "df.drop(['ANO', 'MES', 'HORA', 'MINUTOS'],axis=1,inplace=True)  #Drop old columns\n",
    "df[\"DATE\"].head()"
   ]
  },
  {
   "cell_type": "code",
   "execution_count": null,
   "metadata": {},
   "outputs": [],
   "source": [
    "## For now, fill missing values\n",
    "\n",
    "#for this vars: no data == 9\n",
    "vars9 = ['PESO','TALLA','PARTO_ATENDIDO_POR','TIEMPO_GESTACION','TIPO_PARTO','TIPO_EMBARAZO','IDHEMOCLAS', \n",
    "         'IDFACTORRH','IDPERTET','ESTADO_CIVIL_M','AREA_RESIDENCIA_HAB','TIPO_ADM_SALUD','ULT_GRADO_PADRE',\n",
    "         'CERT_EXPEDIDO_POR','MOMENTO_MUERTE','MANERA_MUERTE_VIOLENTA','ASIS_MED','EST_CIVIL',\n",
    "         'PROFESION_QUIEN_CERTIFICA','IDPUEBLOIN']\n",
    "for var in vars9:\n",
    "    df[var].fillna(9,inplace=True)\n",
    "    \n",
    "#for this vars: no data == 99\n",
    "vars99 = ['NUM_CONSUL','APGAR1', 'APGAR2','EDAD_MADRE','NIV_EDUCATIVO_M','N_HIJOSV',\n",
    "          'NIV_EDUCATIVO_P','N_HIJOSM','NUMERO_EMBARAZOS','PAIS_RESIDENCIA']\n",
    "for var in vars99:\n",
    "    df[var].fillna(99,inplace=True)\n",
    "    \n",
    "df['ID_VIOL'].fillna('01999',inplace=True)\n",
    "df['EDAD_PADRE'].fillna(999,inplace=True)\n",
    "df['MANERA_MUERTE'].fillna(0,inplace=True)\n",
    "\n",
    "df.loc[:,df.isna().any()].columns"
   ]
  },
  {
   "cell_type": "markdown",
   "metadata": {},
   "source": [
    "### solo tienen sentido para nofet: GRU_ED1 y 2, NIVEL_EDU_FALLECIDO, ULTCURFAL, MUERTEPORO, SIMUERTEPO, OCUPACION, EMB_FAL, EMB_SEM, EMB_MES"
   ]
  },
  {
   "cell_type": "markdown",
   "metadata": {},
   "source": [
    "## Let's clean the SIT and OTRO_SIT variables. These indicate where the event (birth, death) happened, and can be joined into a single column. Cleaning of this var needs to be done as there are some spelling mistakes or different expressions for the same place."
   ]
  },
  {
   "cell_type": "code",
   "execution_count": null,
   "metadata": {},
   "outputs": [],
   "source": [
    "#Let's do some real cleaning\n",
    "\n",
    "#Si alguna de las palabras en uniq_vals está contenida en \"WORD\", reemplaza WORD por dicha palabra\n",
    "uniq_vals = ['AMBUL','CARRO','LANCHA','CARRETERA','VEREDA','TAXI','BUS','PARTERA',\n",
    "             'TRABAJO','CASA','VIA','LANCHA','CARCEL','BONGO','HOTEL',\n",
    "             'HOSPITAL','IGLESIA','VEHICULO','DE SALUD','INDIGENA','RESTAURANTE',\n",
    "             'CLINICA','CALLE','HUERTA','BARRIO','CLINISANITAS',\n",
    "             'PATRULLA','BANO','RESGUARDO','BOTE','CABILDO','DOMICILIO','V/',\n",
    "             'ALMACEN','VERDA','FINCA','CANOA','PLAYA','VIVIENDA','PARQUEADERO','RURAL','RIO',\n",
    "             'INTERPERIE','ALVERGUE','PUENTE','RIO','PUESTODE SALUD','CENTRODE SALUD','IPS','AUTOMOVIL',\n",
    "             'PANGA','PORTE PUBLICO','SININFORMACION','POLICIA','SERVICIO PUBLICO','FLOTA','MUELLE',\n",
    "             'CAMIONETA','CAMPO','COMUNIDAD','SIN INFORMACION','GERIATRICO','ANCIAN','GERONTO','HOGAR',\n",
    "             'ONCOLOGICA','RESIDENCIA','FUNDACION','CAMINO','ASILO','OFICINA','AULA','BOSQUE','PARROQUIA',\n",
    "             'OTRO','COMERCI','PUBLICO','BAR','LICOR','CULTIVO','DEPORTE','ANSIANATO','TABERNA','CANTINA',\n",
    "             'FABRICA']\n",
    "\n",
    "#Reemplaza explicitamente otras ocurrencias\n",
    "to_replace = {'SIN ESTABLECER':'SIN_INFORMACION','VIA':'CALLE','AVENIDA':'CALLE',\n",
    "              'AUTOPISTA':'CALLE','V/':'VEREDA','VERDA':'VEREDA','AUTOMOVIL':'VEHICULO',\n",
    "              'MEDIO DE TRASPORTE ACUATICO (C':'BOTE','BARCO':'BOTE','UTOMOVIL':'VEHICULO',\n",
    "              'CARRO':'VEHICULO','CANOA':'BOTE','CARETERA':'CALLE','VIVIENDA':'CASA',\n",
    "              'SIN INFROMACION':'SIN_INFORMACION','AMBUL':'AMBULANCIA','SE DESCONOCE':'SIN_INFORMACION',\n",
    "              'PANGA':'BOTE',\n",
    "              'CENTRO DE SLUD':'INSTITUCION DE SALUD','EMBARCACION':'BOTE','CENTRO PENITENCIARIO':'CARCEL',\n",
    "              'TRANSMILENIO':'TRASPORTE PUBLICO','ALVERGUE':'ALBERGUE','CLINISANITAS':'INSTITUCION DE SALUD',\n",
    "              'BUS':'TRANSPORTE PUBLICO','CHALUPA':'BOTE','SININFORMACION':'SIN_INFORMACION',\n",
    "              'SERVICIO PUBLICO':'TRANSPORTE PUBLICO','FLOTA':'TRANSPORTE PUBLICO','CARRETERA':'CALLE',\n",
    "              'CAMIONETA':'VEHICULO','PORTE PUBLICO':'TRANSPORTE PUBLICO','DESCONOCIDO':'SIN_INFORMACION',\n",
    "              'DE SALUD':'INSTITUCION DE SALUD','LANCHA':'BOTE','INDIGENA':'COMUNIDAD INDIGENA',\n",
    "              'DOMICILIO':'CASA','BONGO':'BOTE','RESIDENCIA':'CASA','HOSPITAL':'INSTITUCION DE SALUD',\n",
    "              'SIN INFORMACION':'SIN_INFORMACION','GERIATRICO':'HOGAR GERIATRICO','ANCIAN':'HOGAR GERIATRICO',\n",
    "              'GERONTO':'HOGAR GERIATRICO','ONCOLOGICA':'INSTITUCION DE SALUD','PARROQUIA':'IGLESIA',\n",
    "              'FINCA':'RURAL','VEREDA':'RURAL','COMERCI':'COMERCIO','PUBLICO':'OTRO LUGAR PUBLICO',\n",
    "              'CULTIVO':'AREA DE CULTIVO','LICOR':'BAR','DEPORTE':'AREA DEPORTE',\n",
    "              'ANSIANATO':'HOGAR GERIATRICO','TABERNA':'BAR','CANTINA':'BAR'}\n",
    "\n",
    "def clean_otrosit(df,uniq_vals,to_replace):\n",
    "    import unicodedata\n",
    "    def replace_isin(x):\n",
    "        #Elimina caracteres especiales\n",
    "        s = ''.join((c for c in unicodedata.normalize('NFD',x) if unicodedata.category(c) != 'Mn'))\n",
    "        #Convierte a word de uniq_vals\n",
    "        for word in uniq_vals:\n",
    "            if word in s:\n",
    "                return word\n",
    "        return s\n",
    "\n",
    "    #Toma solo valores para los que 'SITIO_EVENTO' indique OTRO\n",
    "    a = df[df['SITIO_EVENTO']=='OTRO']['OTRO_SIT'].copy()\n",
    "    a = a.apply(lambda x: replace_isin(x))\n",
    "    a.replace(to_replace.keys(),to_replace.values(),inplace=True) #Reemplaza explicitamente de dict\n",
    "\n",
    "    init_len = df['OTRO_SIT'].unique().shape[0] #Amount of unique values before replacements\n",
    "    \n",
    "    #Set new values\n",
    "    cp_df = df.copy()\n",
    "    cp_df.loc[a.index,'SITIO_EVENTO'] = a.values\n",
    "\n",
    "    final_len = cp_df['SITIO_EVENTO'].unique().shape[0]  #unique values after\n",
    "    \n",
    "    #Print summary of cleaning\n",
    "    print(f\"Initial unique values: {init_len}\\nFinal unique values: {final_len}\")\n",
    "    \n",
    "    #Test cleaning. Check everything looks ok\n",
    "    print(cp_df[cp_df['SITIO_EVENTO']!='INSTITUCION DE SALUD'][['SITIO_EVENTO','OTRO_SIT','SIT']].head(10))\n",
    "\n",
    "    #Now, we can drop OTRO_SIT AND SIT\n",
    "    cp_df.drop(columns=['OTRO_SIT','SIT'],inplace=True)\n",
    "    return cp_df\n",
    "\n",
    "df = clean_otrosit(df,uniq_vals,to_replace)"
   ]
  },
  {
   "cell_type": "markdown",
   "metadata": {},
   "source": [
    "## It may be possible to clean some columns that contain no information after the slicing of the nofet df. (ocupacion, nivel edu fallecido, etc)"
   ]
  },
  {
   "cell_type": "code",
   "execution_count": null,
   "metadata": {},
   "outputs": [],
   "source": [
    "#First drop columns that only contain NaNs. I expect this from variables related to pregnancy when dead\n",
    "# print(\"Empty columns:\")\n",
    "# print(df.loc[:,df.isna().all()].columns.to_list())\n",
    "\n",
    "# df = df.loc[:,~df.isna().all()]\n",
    "print()\n",
    "### Check other columns that are suspicios of not containing any relevant information.\n",
    "#GRU_ED2 because it should always be == 1 or NaN\n",
    "for col in ['EST_CIVIL','GRU_ED2','NIVEL_EDU_FALLECIDO','ULTCURFAL','MANERA_MUERTE_VIOLENTA']:\n",
    "    print(col ,df[col].unique())"
   ]
  },
  {
   "cell_type": "markdown",
   "metadata": {},
   "source": [
    "### Can only drop EST_CIVIL, GRU_ED2. Interestingly enough, there is someone in 6th grade (probably a spelling mistake). I'll drop these 2 columns as well"
   ]
  },
  {
   "cell_type": "code",
   "execution_count": null,
   "metadata": {},
   "outputs": [],
   "source": [
    "# df = df.drop(columns=[])"
   ]
  },
  {
   "cell_type": "code",
   "execution_count": null,
   "metadata": {},
   "outputs": [],
   "source": [
    "df.info()"
   ]
  },
  {
   "cell_type": "code",
   "execution_count": null,
   "metadata": {},
   "outputs": [],
   "source": [
    "def replaceValues(df,toNumbers = True):\n",
    "    dfReplaced = df.copy()\n",
    "    for field in replacements:\n",
    "        print(field)\n",
    "        if(toNumbers):\n",
    "            dfReplaced[field] = dfReplaced[field].replace(replacements[field].keys(),\n",
    "                                                          replacements[field].values())            \n",
    "        else:\n",
    "            dfReplaced[field] = (dfReplaced[field].astype(float).astype(int)\n",
    "                                 .replace(replacements[field].keys(),replacements[field].values())) \n",
    "    return dfReplaced\n",
    "\n",
    "df = replaceValues(df,toNumbers=False)"
   ]
  },
  {
   "cell_type": "code",
   "execution_count": null,
   "metadata": {},
   "outputs": [],
   "source": [
    "df[\"PROFESION_QUIEN_CERTIFICA\"].unique()"
   ]
  },
  {
   "cell_type": "code",
   "execution_count": null,
   "metadata": {},
   "outputs": [],
   "source": [
    "df[list(replacements.keys())]"
   ]
  },
  {
   "cell_type": "markdown",
   "metadata": {},
   "source": [
    "### Let's look at rough percentages of non-informative values"
   ]
  },
  {
   "cell_type": "code",
   "execution_count": null,
   "metadata": {
    "scrolled": true
   },
   "outputs": [],
   "source": [
    "#Look at percentage of missing values\n",
    "\n",
    "dic = {}\n",
    "for i,col in enumerate(df.columns):\n",
    "    if 'DATE' not in col:\n",
    "        num_miss = df[df[col].isin([9,99,999,'9','99','999',np.nan,'SIN_INFORMACION'])].shape[0]\n",
    "        num_tot = df.shape[0]\n",
    "        dic[col]=[i,num_miss*100/num_tot]\n",
    "\n",
    "((pd.DataFrame(dic,index=['id','Porcentaje faltantes']).T)\n",
    " .sort_values('Porcentaje faltantes',ascending=False).head(60).drop(columns='id'))"
   ]
  },
  {
   "cell_type": "code",
   "execution_count": null,
   "metadata": {},
   "outputs": [],
   "source": [
    "trash = ['EST_CIVIL','GRU_ED2','NIVEL_EDU_FALLECIDO','ULTCURFAL','MUERTEPORO','ULTCURFAL'\n",
    "         ,'SIMUERTEPO','OCUPACION', 'EMB_FAL', 'EMB_SEM', 'EMB_MES',\n",
    "         'C_MUERTE','C_ANT1','C_ANT12','C_ANT2','C_ANT22','C_ANT3','MANERA_MUERTE_VIOLENTA',\n",
    "         'C_BAS1','C_DIR1','C_ANT32','C_DIR12','C_MCM1','C_PAT1','C_PAT2','IGNORE',\n",
    "        'PARTO_ATENDIDO_POR_OTRO','CAUSA_667','CAUSA_666','CAU_HOMOL','IDADMISALUD']\n",
    "\n",
    "df.drop(columns=trash,inplace=True)"
   ]
  },
  {
   "cell_type": "code",
   "execution_count": null,
   "metadata": {},
   "outputs": [],
   "source": [
    "df.info()"
   ]
  },
  {
   "cell_type": "code",
   "execution_count": null,
   "metadata": {},
   "outputs": [],
   "source": [
    "colsToConvert = df.dtypes[df.dtypes == np.float64].index\n",
    "df[colsToConvert]\n",
    "# df[colsToConvert].astype(int)\n",
    "# df[colsToConvert] = df[colsToConvert].astype(int)"
   ]
  },
  {
   "cell_type": "code",
   "execution_count": null,
   "metadata": {},
   "outputs": [],
   "source": [
    "for col in colsToConvert:\n",
    "    print(col,df[col].unique())"
   ]
  },
  {
   "cell_type": "code",
   "execution_count": null,
   "metadata": {},
   "outputs": [],
   "source": [
    "# Falta revisar outliers en \n",
    "\n",
    "# NUMERO_EMBARAZOS \n",
    "# NUM_CONSUL\n",
    "# N_HIJOSM \n",
    "# N_HIJOSV "
   ]
  },
  {
   "cell_type": "code",
   "execution_count": null,
   "metadata": {},
   "outputs": [],
   "source": [
    "print(df.columns)\n",
    "print(df.shape)\n"
   ]
  },
  {
   "cell_type": "markdown",
   "metadata": {},
   "source": [
    "### Save in order to reuse this data cleaning later on other notebooks."
   ]
  },
  {
   "cell_type": "code",
   "execution_count": null,
   "metadata": {},
   "outputs": [],
   "source": [
    "df.to_csv(\"../Data/CleanData/CleanDB_FULL.csv\")"
   ]
  },
  {
   "cell_type": "code",
   "execution_count": null,
   "metadata": {},
   "outputs": [],
   "source": [
    "# df\n"
   ]
  },
  {
   "cell_type": "code",
   "execution_count": null,
   "metadata": {},
   "outputs": [],
   "source": []
  }
 ],
 "metadata": {
  "kernelspec": {
   "display_name": "Python 3",
   "language": "python",
   "name": "python3"
  },
  "language_info": {
   "codemirror_mode": {
    "name": "ipython",
    "version": 3
   },
   "file_extension": ".py",
   "mimetype": "text/x-python",
   "name": "python",
   "nbconvert_exporter": "python",
   "pygments_lexer": "ipython3",
   "version": "3.7.7"
  }
 },
 "nbformat": 4,
 "nbformat_minor": 2
}
