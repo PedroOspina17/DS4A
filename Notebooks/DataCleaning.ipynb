{
 "cells": [
  {
   "cell_type": "code",
   "execution_count": null,
   "metadata": {},
   "outputs": [],
   "source": [
    "import pandas as pd\n",
    "import matplotlib.pyplot as plt\n",
    "import numpy as np"
   ]
  },
  {
   "cell_type": "code",
   "execution_count": null,
   "metadata": {},
   "outputs": [],
   "source": [
    "nac = pd.read_csv('../data/nac2018.csv',sep=';',dtype='object',nrows=20000)\n",
    "fet = pd.read_csv('../data/fetal2018.csv',sep=';',dtype='object',nrows=20000)\n",
    "nofet = pd.read_csv('../data/nofetal2018.csv',sep=';',dtype='object',nrows=20000)"
   ]
  },
  {
   "cell_type": "markdown",
   "metadata": {},
   "source": [
    "## Rename some columns: Change (AREANAC, A_DEFUN,...) -> AREA\n",
    "\n",
    "Convencion: todas variables se refieren al parto (lugar, mes, etc) a menos que se especifique"
   ]
  },
  {
   "cell_type": "code",
   "execution_count": null,
   "metadata": {},
   "outputs": [],
   "source": [
    "nac.columns = ['COD_DPTO', 'COD_MUNIC', 'AREA', 'SIT', 'OTRO_SIT', 'SEXO',\n",
    "       'PESO', 'TALLA', 'ANO', 'MES', 'PARTO_ATENDIDO_POR', 'TIEMPO_GESTACION', 'NUM_CONSUL',\n",
    "       'TIPO_PARTO', 'TIPO_EMBARAZO', 'APGAR1', 'APGAR2', 'IDHEMOCLAS',\n",
    "       'IDFACTORRH', 'IDPERTET', 'EDAD_MADRE', 'EST_CIVM', 'NIV_EDUM',\n",
    "       'ULTCURMAD', 'PAIS_RESIDENCIA', 'DEPTO_RESIDENCIA', 'MUN_RECIDENCIA', 'AREA_RESIDENCIA_HAB', 'N_HIJOSV',\n",
    "       'FECHA_NACM', 'N_EMB', 'SEG_SOCIAL', 'IDCLASADMI', 'EDAD_PADRE',\n",
    "       'NIV_EDUP', 'ULTCURPAD', 'PROFESION']\n",
    "\n",
    "fet.columns = ['COD_DPTO', 'COD_MUNIC', 'AREA', 'SIT', 'OTRO_SIT',\n",
    "       'RESULTADO_EMB', 'ANO', 'MES', 'HORA', 'MINUTOS', 'SEXO', 'PAIS_RESIDENCIA',\n",
    "       'DEPTO_RESIDENCIA', 'MUN_RECIDENCIA', 'AREA_RESIDENCIA_HAB', 'SEG_SOCIAL', 'IDADMISALUD',\n",
    "       'MANERA_MUERTE', 'CERT_EXPEDIDO_POR', 'MOMENTO_MUERTE', 'TIPO_PARTO', 'TIPO_EMBARAZO', 'TIEMPO_GESTACION',\n",
    "       'PESO', 'EDAD_MADRE', 'N_HIJOSV', 'N_HIJOSM', 'EST_CIVM',\n",
    "       'NIV_EDUM', 'ULTCURMAD', 'MANERA_MUERTE_VIOLENTA', 'CODOCUR', 'CODMUNOC', 'C_MUERTEA',\n",
    "       'C_MUERTEB', 'C_MUERTEC', 'C_MUERTED', 'C_MUERTEE', 'ASIS_MED',\n",
    "       'C_DIR1', 'C_DIR12', 'C_ANT1', 'C_ANT12', 'C_ANT2', 'C_ANT22', 'C_ANT3',\n",
    "       'C_ANT32', 'C_PAT1', 'C_PAT2', 'C_BAS1', 'C_MCM1', 'CAUSA_667',\n",
    "       'PROFESION', 'CAU_HOMOL']\n",
    "\n",
    "nofet.columns = ['COD_DPTO', 'COD_MUNIC', 'AREA', 'SIT', 'OTRO_SIT',\n",
    "       'RESULTADO_EMB', 'ANO', 'MES', 'HORA', 'MINUTOS', 'SEXO', 'EST_CIVIL',\n",
    "       'GRU_ED1', 'GRU_ED2', 'NIVEL_EDU_FALLECIDO', 'ULTCURFAL', 'MUERTEPORO',\n",
    "       'SIMUERTEPO', 'OCUPACION', 'IDPERTET', 'PAIS_RESIDENCIA', 'DEPTO_RESIDENCIA',\n",
    "       'MUN_RECIDENCIA', 'AREA_RESIDENCIA_HAB', 'SEG_SOCIAL', 'IDADMISALUD', 'MANERA_MUERTE',\n",
    "       'CERT_EXPEDIDO_POR', 'MOMENTO_MUERTE', 'TIPO_PARTO', 'TIPO_EMBARAZO', 'TIEMPO_GESTACION', 'PESO',\n",
    "       'EDAD_MADRE', 'N_HIJOSV', 'N_HIJOSM', 'EST_CIVM', 'NIV_EDUM',\n",
    "       'ULTCURMAD', 'EMB_FAL', 'EMB_SEM', 'EMB_MES', 'MANERA_MUERTE_VIOLENTA', 'CODOCUR',\n",
    "       'CODMUNOC', 'C_MUERTEA', 'C_MUERTEB', 'C_MUERTEC', 'C_MUERTED',\n",
    "       'C_MUERTEE', 'ASIS_MED', 'C_DIR1', 'C_DIR12', 'C_ANT1', 'C_ANT12',\n",
    "       'C_ANT2', 'C_ANT22', 'C_ANT3', 'C_ANT32', 'C_PAT1', 'C_PAT2', 'C_BAS1',\n",
    "       'C_MCM1', 'CAUSA_667', 'PROFESION', 'CAU_HOMOL']\n",
    "\n",
    "nac['RESULTADO_EMB'] = 3\n",
    "nac[\"NacidoVivo\"] = 1\n",
    "fet[\"NacidoVivo\"] = 0\n",
    "nofet[\"NacidoVivo\"] = 0"
   ]
  },
  {
   "cell_type": "code",
   "execution_count": null,
   "metadata": {},
   "outputs": [],
   "source": [
    "nac.head()"
   ]
  },
  {
   "cell_type": "code",
   "execution_count": null,
   "metadata": {},
   "outputs": [],
   "source": [
    "fet.head()"
   ]
  },
  {
   "cell_type": "code",
   "execution_count": null,
   "metadata": {},
   "outputs": [],
   "source": [
    "nofet.head()"
   ]
  },
  {
   "cell_type": "markdown",
   "metadata": {},
   "source": [
    "Otro sitio: No nació en hospital, donde?\n",
    "\n",
    "IDPERTET: Raza, cultura.\n",
    "\n",
    "PROFESION: Prof. de quien certifica nacimiento\n",
    "\n",
    "IDADMISALUD ??\n",
    "\n",
    "FECHA_NACM: Fecha de nacim ultimo hijo vivo\n",
    "\n",
    "APGAR: APGAR test values viablility of newborn https://es.wikipedia.org/wiki/Test_de_Apgar\n",
    "\n",
    "IDHEMOCLAS + IDFACTORRH: Blood type\n",
    "\n",
    "nofetal df contiene datos de madre. murio? como? etc. (EMB_FAL,EMB_SEM ?)\n",
    "\n",
    "Estado civil del muerto ???\n",
    "\n",
    "GRU_EDU{1,2}: edad del fallecido. mayor detalle en 1\n",
    "\n",
    "all other C_{} are death causes"
   ]
  },
  {
   "cell_type": "markdown",
   "metadata": {},
   "source": [
    "\n",
    "\n",
    "## Replacement dicts\n"
   ]
  },
  {
   "cell_type": "code",
   "execution_count": null,
   "metadata": {},
   "outputs": [],
   "source": [
    "replacements = {\n",
    "    \n",
    "    \"TIPO_PARTO\": {\n",
    "        1 : \"ESPONTANEO\",\n",
    "        2 : \"CESAREA\",\n",
    "        3 : \"INSTRUMENTADO\",\n",
    "        4 : \"IGNORADO\",\n",
    "        9 : \"SIN_INFORMACION\"\n",
    "    },\n",
    "    \n",
    "    \"SEG_SOCIAL\": {\n",
    "        1 : \"CONTRIBUTIVO\",\n",
    "        2 : \"SUBSIDIADO\",\n",
    "        3 : \"EXCEPCION\",\n",
    "        4 : \"ESPECIAL\",\n",
    "        5 : \"NO_ASEGURADO\",\n",
    "        9 : \"SIN_INFORMACION\"\n",
    "    },\n",
    "    \n",
    "    \"MANERA_MUERTE\": {\n",
    "        0: \"SIN_INFORMACION\",\n",
    "        1 : \"NATURAL\",\n",
    "        2 : \"VIOLENTA\",\n",
    "        3 : \"EN_ESTUDIO\"\n",
    "    },\n",
    "    \n",
    "    \"SITIO_EVENTO\":{\n",
    "        1 : 'INSTITUCION DE SALUD',\n",
    "        3 : 'CASA',\n",
    "        4 : 'TRABAJO',\n",
    "        5 : 'VIA PUBLICA',\n",
    "        6 : 'OTRO',\n",
    "        9 : 'SIN_INFORMACION'\n",
    "    },    \n",
    "    \n",
    "    \"CERT_EXPEDIDO_POR\":{\n",
    "        1 : \"MEDICO_TRATANTE\",\n",
    "        2 : \"MEDICO_NO_TRATANTE\",\n",
    "        3 : \"MEDICO_LEGISTA\",\n",
    "        4 : \"PERSONAL_AUTORIZADO\",\n",
    "        5 : \"FUNCIONARIO_REG_CIVIL\",\n",
    "        6 : \"OTRO\"\n",
    "    },\n",
    "    \n",
    "    \"MOMENTO_MUERTE\" : {\n",
    "        1 : \"ANTES\",\n",
    "        2 : \"DURANTE\",\n",
    "        3 : \"DESPUES\",\n",
    "        4 : \"IGNORADO\",\n",
    "        9 : \"SIN_INFORMACION\"\n",
    "    },\n",
    "    \n",
    "    \"TIPO_EMBARAZO\" : {\n",
    "        1 : \"SIMPLE\",\n",
    "        2 : \"DOBLE\",\n",
    "        3 : \"TRIPLE\",\n",
    "        4 : \"CUADRUPLE_MAs\",\n",
    "        5 : \"IGNORADO\"\n",
    "    },\n",
    "    \n",
    "    \"TIEMPO_GESTACION\" : {\n",
    "        1 : \"0-22\",\n",
    "        2 : \"22-27\",\n",
    "        3 : \"28-37\",\n",
    "        4 : \"38-41\",\n",
    "        5 : \"42-MAS\",\n",
    "        6 : \"IGNORADO\",\n",
    "        9 : \"SIN_INFORMACION\"\n",
    "    },\n",
    "    \n",
    "    \"MANERA_MUERTE_VIOLENTA\":{\n",
    "        0 : \"NO_VIOLENTA\",\n",
    "        1 : \"SUICIDIO\",\n",
    "        2 : \"HOMICIDIO\",\n",
    "        3 : \"ACCIDENTE_TRANSITO\",\n",
    "        4 : \"OTRO_ACCIDENTE\",\n",
    "        5 : \"EN_ESTUDIO\"\n",
    "    },\n",
    "    \n",
    "    \"PARTO_ATENDIDO_POR\" : {\n",
    "        1 : \"MEDICO\",\n",
    "        2 : \"ENFERMERA\",\n",
    "        3 : \"AUXILIAR_ENFERMERIA\",\n",
    "        4 : \"PROMOTOR_SALUD\",\n",
    "        5 : \"PARTERA\",\n",
    "        6 : \"OTRO\",\n",
    "        9 : \"SIN_INFORMACION\"\n",
    "    },\n",
    "    \n",
    "    \"RESULTADO_EMB\" : {\n",
    "        1 : \"DEFUNCION_FETAL\",\n",
    "        2 : \"DEFUNCION_NO_FETAL\",\n",
    "        3 : \"NACIDO_VIVO\"\n",
    "    },\n",
    "    \n",
    "    \"SEXO\": {\n",
    "        1 : \"MASCULINO\",\n",
    "        2 : \"FEMENINO\",\n",
    "        3 : \"INDETERMINADO\",\n",
    "    }\n",
    "}"
   ]
  },
  {
   "cell_type": "markdown",
   "metadata": {},
   "source": [
    "# Estandarizar sitio de parto (defunción)"
   ]
  },
  {
   "cell_type": "markdown",
   "metadata": {},
   "source": [
    "### fet y nofet:\n",
    "Sitio donde ocurrió la defunción\n",
    "1 Hospital/clínica\n",
    "2 Centro /puesto de salud\n",
    "3 Casa /domicilio\n",
    "4 Lugar de trabajo\n",
    "5 Vía pública\n",
    "6 Otro\n",
    "9 Sin información\n",
    "\n",
    "### nac:\n",
    "Sitio de la Parto\n",
    "1 = Institución de salud\n",
    "2 = Domicilio\n",
    "3 = Otro\n",
    "9 = Sin información"
   ]
  },
  {
   "cell_type": "code",
   "execution_count": null,
   "metadata": {},
   "outputs": [],
   "source": [
    "#Mezcla hospital y centro de salud en fet y nofet\n",
    "fet['SIT'].replace('2','1',inplace=True)\n",
    "nofet['SIT'].replace('2','1',inplace=True)\n",
    "\n",
    "nac['SIT'].replace('3','6',inplace=True) #otro = 6\n",
    "nac['SIT'].replace('2','3',inplace=True) #domicilio = 3\n",
    "\n",
    "dfs = [nac,fet,nofet]\n",
    "\n",
    "#dict para reemplazar por nombres\n",
    "\n",
    "#SITIO EVENTO: nueva columna para poner todos los valores (sumariza SIT y OTRO_SIT)\n",
    "for df_i in dfs:\n",
    "    df_i['OTRO_SIT'].replace(' ','SIN_INFORMACION')\n",
    "    df_i['SITIO_EVENTO'] = df_i['SIT'].astype('object')\n",
    "    #Reemplaza valores en \"replacing\"\n",
    "    df_i['SITIO_EVENTO'].replace(replacements[\"SITIO_EVENTO\"].keys(),replacements[\"SITIO_EVENTO\"].values(),inplace=True)\n",
    "    #Simple cleaning\n",
    "    df_i['OTRO_SIT'].replace(' ','SIN_INFORMACION',inplace=True) \n",
    "    df_i['OTRO_SIT'] = df_i['OTRO_SIT'].str.upper().str.strip()"
   ]
  },
  {
   "cell_type": "markdown",
   "metadata": {},
   "source": [
    "### Concatenate all 3 dfs. From now on I assume all data is standarized among dfs"
   ]
  },
  {
   "cell_type": "code",
   "execution_count": null,
   "metadata": {
    "scrolled": true
   },
   "outputs": [],
   "source": [
    "df = (pd.concat([nac,fet,nofet])  \n",
    "      .replace(' ',np.nan)    #replace missing values\n",
    "      .reset_index(drop=True)) #reset index and drop old indices\n",
    "df.shape"
   ]
  },
  {
   "cell_type": "code",
   "execution_count": null,
   "metadata": {},
   "outputs": [],
   "source": [
    "df.columns"
   ]
  },
  {
   "cell_type": "markdown",
   "metadata": {},
   "source": [
    "## Fill N_EMB, N_HIJOSV and N_HIJOSM. Use N_EMB = N_HIJOSV + N_HIJOSM"
   ]
  },
  {
   "cell_type": "code",
   "execution_count": null,
   "metadata": {
    "scrolled": false
   },
   "outputs": [],
   "source": [
    "#Convert these columns to float\n",
    "df[['N_EMB','N_HIJOSV','N_HIJOSM']] = df[['N_EMB','N_HIJOSV','N_HIJOSM']].astype(float)\n",
    "\n",
    "#Print number of missing values in these columns\n",
    "print('Before:\\n',df[['N_EMB','N_HIJOSV','N_HIJOSM']].isna().sum())  \n",
    "\n",
    "df_tmp = df[df['N_EMB'].isna()]  #df with nan values for N_EMB\n",
    "df.loc[df['N_EMB'].isna(),['N_EMB']] = df_tmp['N_HIJOSM'] + df_tmp['N_HIJOSV']\n",
    "\n",
    "df_tmp = df[df['N_HIJOSM'].isna()]  #df with nan values for N_HIJOSM\n",
    "df.loc[df['N_HIJOSM'].isna(),['N_HIJOSM']] = df_tmp['N_EMB'] - df_tmp['N_HIJOSV']\n",
    "\n",
    "df_tmp = df[df['N_HIJOSV'].isna()]  #same for N_HIJOSV\n",
    "df.loc[df['N_HIJOSV'].isna(),['N_HIJOSV']] = df_tmp['N_EMB'] - df_tmp['N_HIJOSM']\n",
    "\n",
    "df.replace('NO_INFONO_INFO','NO_INFO',inplace=True)\n",
    "print('\\nAfter:\\n',df[['N_EMB','N_HIJOSV','N_HIJOSM']].isna().sum()) "
   ]
  },
  {
   "cell_type": "markdown",
   "metadata": {},
   "source": [
    "## Create unique code for munic.\n",
    "\n",
    "### dpto: 05 + munic: 001 => 05001 new code"
   ]
  },
  {
   "cell_type": "code",
   "execution_count": null,
   "metadata": {},
   "outputs": [],
   "source": [
    "#Create unique munic and dpto codes (nacim, resid, death)\n",
    "def id_municip(df,coldpto,colmunic,nameNew):\n",
    "    #Convert dpt. and munic. codes to strings and fill with zeros   \n",
    "    df[coldpto] = df[coldpto].apply(lambda x : str(x).zfill(2))\n",
    "    df[colmunic] = df[colmunic].apply(lambda x : str(x).zfill(3))\n",
    "    #Create a single ID for each munic.\n",
    "    df[nameNew] = df[coldpto] + df[colmunic]\n",
    "    return df.drop(colmunic,axis=1)  #Drop munic. code, the new code is enough\n",
    "\n",
    "df = id_municip(df,'COD_DPTO','COD_MUNIC','ID_BIRTH')\n",
    "df = id_municip(df,'DEPTO_RESIDENCIA', 'MUN_RECIDENCIA','ID_RESID')\n",
    "df = id_municip(df,'CODOCUR','CODMUNOC','ID_VIOL').replace('nannan',np.nan)\n",
    "\n",
    "df.shape"
   ]
  },
  {
   "cell_type": "code",
   "execution_count": null,
   "metadata": {},
   "outputs": [],
   "source": [
    "cols = [c for c in df.columns if c.startswith(\"C_M\")]\n",
    "df[(~df[cols].isnull()).any(axis=1)][cols]"
   ]
  },
  {
   "cell_type": "code",
   "execution_count": null,
   "metadata": {},
   "outputs": [],
   "source": [
    "#Unir C_MUERTE(A,B..,E) en una sola columna. Esta variable es como se determinó la causa de muerte\n",
    "#Tal vez esto no es tan importante, así que las voy a unir y tirar las otras\n",
    "cols = [f'C_MUERTE{i}' for i in ['A','B','C','D','E']]\n",
    "df['C_MUERTE'] = df[cols].fillna('_').astype(str).sum(axis=1)\n",
    "df.drop(cols,axis=1,inplace=True)\n",
    "df.shape\n",
    "df[\"C_MUERTE\"]"
   ]
  },
  {
   "cell_type": "code",
   "execution_count": null,
   "metadata": {},
   "outputs": [],
   "source": [
    "#Crear una sola columna para DATE\n",
    "print(df[['ANO', 'MES', 'HORA', 'MINUTOS']].isna().any())  #Make sure only HORA, MINUTOS are missing\n",
    "\n",
    "#Convertir data a strings\n",
    "tmp = df[['ANO', 'MES', 'HORA', 'MINUTOS']].fillna(0).astype(int).astype(str)\n",
    "#Sumar con formato Y/M/D H:Min\n",
    "date = tmp['ANO'] + '/' + tmp['MES'] + ' ' + tmp['HORA'] + ':' + tmp['MINUTOS']   \n",
    "\n",
    "df['DATE'] = pd.to_datetime(date) #Convert to datetime\n",
    "df.drop(['ANO', 'MES', 'HORA', 'MINUTOS'],axis=1,inplace=True)  #Drop old columns\n",
    "df[\"DATE\"]"
   ]
  },
  {
   "cell_type": "code",
   "execution_count": null,
   "metadata": {},
   "outputs": [],
   "source": [
    "## For now, fill missing values\n",
    "\n",
    "#for this vars: no data == 9\n",
    "vars9 = ['PESO','TALLA','PARTO_ATENDIDO_POR','TIEMPO_GESTACION','TIPO_PARTO','TIPO_EMBARAZO','IDHEMOCLAS', \n",
    "         'IDFACTORRH','IDPERTET','EST_CIVM','AREA_RESIDENCIA_HAB','IDCLASADMI','ULTCURPAD',\n",
    "         'CERT_EXPEDIDO_POR','MOMENTO_MUERTE','MANERA_MUERTE_VIOLENTA','ASIS_MED','EST_CIVIL',]\n",
    "for var in vars9:\n",
    "    df[var].fillna(9,inplace=True)\n",
    "    \n",
    "#for this vars: no data == 99\n",
    "vars99 = ['NUM_CONSUL','APGAR1', 'APGAR2','EDAD_MADRE','NIV_EDUM','N_HIJOSV',\n",
    "          'NIV_EDUP','N_HIJOSM','N_EMB']\n",
    "for var in vars99:\n",
    "    df[var].fillna(99,inplace=True)\n",
    "    \n",
    "df['ID_VIOL'].fillna('01999',inplace=True)\n",
    "df['EDAD_PADRE'].fillna(999,inplace=True)\n",
    "df['MANERA_MUERTE'].fillna(0,inplace=True)\n",
    "\n",
    "df.loc[:,df.isna().any()].columns"
   ]
  },
  {
   "cell_type": "markdown",
   "metadata": {},
   "source": [
    "### solo tienen sentido para nofet: GRU_ED1 y 2, NIVEL_EDU_FALLECIDO, ULTCURFAL, MUERTEPORO, SIMUERTEPO, OCUPACION, EMB_FAL, EMB_SEM, EMB_MES"
   ]
  },
  {
   "cell_type": "markdown",
   "metadata": {},
   "source": [
    "## Let's clean the SIT and OTRO_SIT variables. These indicate where the event (birth, death) happened, and can be joined into a single column. Cleaning of this var needs to be done as there are some spelling mistakes or different expressions for the same place."
   ]
  },
  {
   "cell_type": "code",
   "execution_count": null,
   "metadata": {},
   "outputs": [],
   "source": [
    "#Let's do some real cleaning\n",
    "\n",
    "#Si alguna de las palabras en uniq_vals está contenida en \"WORD\", reemplaza WORD por dicha palabra\n",
    "uniq_vals = ['AMBUL','CARRO','LANCHA','CARRETERA','VEREDA','TAXI','BUS','PARTERA',\n",
    "             'TRABAJO','CASA','VIA','LANCHA','CARCEL','BONGO','HOTEL',\n",
    "             'HOSPITAL','IGLESIA','VEHICULO','DE SALUD','INDIGENA','RESTAURANTE',\n",
    "             'CLINICA','CALLE','HUERTA','BARRIO','CLINISANITAS',\n",
    "             'PATRULLA','BANO','RESGUARDO','BOTE','CABILDO','DOMICILIO','V/',\n",
    "             'ALMACEN','VERDA','FINCA','CANOA','PLAYA','VIVIENDA','PARQUEADERO','RURAL','RIO',\n",
    "             'INTERPERIE','ALVERGUE','PUENTE','RIO','PUESTODE SALUD','CENTRODE SALUD','IPS','AUTOMOVIL',\n",
    "             'PANGA','PORTE PUBLICO','SININFORMACION','POLICIA','SERVICIO PUBLICO','FLOTA','MUELLE',\n",
    "             'CAMIONETA','CAMPO','COMUNIDAD','SIN INFORMACION','GERIATRICO','ANCIAN','GERONTO','HOGAR',\n",
    "             'ONCOLOGICA','RESIDENCIA','FUNDACION','CAMINO','ASILO','OFICINA','AULA','BOSQUE','PARROQUIA',\n",
    "             'OTRO','COMERCI','PUBLICO','BAR','LICOR','CULTIVO','DEPORTE','ANSIANATO','TABERNA','CANTINA',\n",
    "             'FABRICA']\n",
    "\n",
    "#Reemplaza explicitamente otras ocurrencias\n",
    "to_replace = {'SIN INFORMACION':'NO_INFO','SIN ESTABLECER':'NO_INFO','VIA':'CALLE','AVENIDA':'CALLE',\n",
    "              'AUTOPISTA':'CALLE','V/':'VEREDA','VERDA':'VEREDA','AUTOMOVIL':'VEHICULO',\n",
    "              'MEDIO DE TRASPORTE ACUATICO (C':'BOTE','BARCO':'BOTE','UTOMOVIL':'VEHICULO',\n",
    "              'CARRO':'VEHICULO','CANOA':'BOTE','CARETERA':'CALLE','VIVIENDA':'CASA',\n",
    "              'SIN INFROMACION':'NO_INFO','AMBUL':'AMBULANCIA','SE DESCONOCE':'NO_INFO','PANGA':'BOTE',\n",
    "              'CENTRO DE SLUD':'INSTITUCION DE SALUD','EMBARCACION':'BOTE','CENTRO PENITENCIARIO':'CARCEL',\n",
    "              'TRANSMILENIO':'TRASPORTE PUBLICO','ALVERGUE':'ALBERGUE','CLINISANITAS':'INSTITUCION DE SALUD',\n",
    "              'BUS':'TRANSPORTE PUBLICO','CHALUPA':'BOTE','SININFORMACION':'NO_INFO',\n",
    "              'SERVICIO PUBLICO':'TRANSPORTE PUBLICO','FLOTA':'TRANSPORTE PUBLICO','CARRETERA':'CALLE',\n",
    "              'CAMIONETA':'VEHICULO','PORTE PUBLICO':'TRANSPORTE PUBLICO','DESCONOCIDO':'NO_INFO',\n",
    "              'DE SALUD':'INSTITUCION DE SALUD','LANCHA':'BOTE','INDIGENA':'COMUNIDAD INDIGENA',\n",
    "              'DOMICILIO':'CASA','BONGO':'BOTE','RESIDENCIA':'CASA','HOSPITAL':'INSTITUCION DE SALUD',\n",
    "              'SIN INFORMACION':'NO_INFO','GERIATRICO':'HOGAR GERIATRICO','ANCIAN':'HOGAR GERIATRICO',\n",
    "              'GERONTO':'HOGAR GERIATRICO','ONCOLOGICA':'INSTITUCION DE SALUD','PARROQUIA':'IGLESIA',\n",
    "              'FINCA':'RURAL','VEREDA':'RURAL','COMERCI':'COMERCIO','PUBLICO':'OTRO LUGAR PUBLICO',\n",
    "              'CULTIVO':'AREA DE CULTIVO','LICOR':'BAR','DEPORTE':'AREA DEPORTE',\n",
    "              'ANSIANATO':'HOGAR GERIATRICO','TABERNA':'BAR','CANTINA':'BAR'}\n",
    "\n",
    "def clean_otrosit(df,uniq_vals,to_replace):\n",
    "    import unicodedata\n",
    "    def replace_isin(x):\n",
    "        #Elimina caracteres especiales\n",
    "        s = ''.join((c for c in unicodedata.normalize('NFD',x) if unicodedata.category(c) != 'Mn'))\n",
    "        #Convierte a word de uniq_vals\n",
    "        for word in uniq_vals:\n",
    "            if word in s:\n",
    "                return word\n",
    "        return s\n",
    "\n",
    "    #Toma solo valores para los que 'SITIO_EVENTO' indique OTRO\n",
    "    a = df[df['SITIO_EVENTO']=='OTRO']['OTRO_SIT'].copy()\n",
    "    a = a.apply(lambda x: replace_isin(x))\n",
    "    a.replace(to_replace.keys(),to_replace.values(),inplace=True) #Reemplaza explicitamente de dict\n",
    "\n",
    "    init_len = df['OTRO_SIT'].unique().shape[0] #Amount of unique values before replacements\n",
    "    \n",
    "    #Set new values\n",
    "    cp_df = df.copy()\n",
    "    cp_df.loc[a.index,'SITIO_EVENTO'] = a.values\n",
    "\n",
    "    final_len = cp_df['SITIO_EVENTO'].unique().shape[0]  #unique values after\n",
    "    \n",
    "    #Print summary of cleaning\n",
    "    print(f\"Initial unique values: {init_len}\\nFinal unique values: {final_len}\")\n",
    "    \n",
    "    #Test cleaning. Check everything looks ok\n",
    "    print(cp_df[cp_df['SITIO_EVENTO']!='INSTITUCION DE SALUD'][['SITIO_EVENTO','OTRO_SIT','SIT']].head(10))\n",
    "\n",
    "    #Now, we can drop OTRO_SIT AND SIT\n",
    "    cp_df.drop(columns=['OTRO_SIT','SIT'],inplace=True)\n",
    "    return cp_df\n",
    "\n",
    "df = clean_otrosit(df,uniq_vals,to_replace)\n",
    "df['SITIO_EVENTO']"
   ]
  },
  {
   "cell_type": "markdown",
   "metadata": {},
   "source": [
    "### El df nofet contiene datos de muertes de mayores de edad. Tal vez lo mejor sea limitar los datos a menores de 1 año?"
   ]
  },
  {
   "cell_type": "code",
   "execution_count": null,
   "metadata": {},
   "outputs": [],
   "source": [
    "df[\"GRU_ED2\"].value_counts()"
   ]
  },
  {
   "cell_type": "markdown",
   "metadata": {},
   "source": [
    "### Lets create some dummy files in order to reuse this data cleaning later on other datasets."
   ]
  },
  {
   "cell_type": "code",
   "execution_count": null,
   "metadata": {},
   "outputs": [],
   "source": [
    "\n",
    "df.to_csv(\"../Data/CleanData/Test2.csv\")"
   ]
  },
  {
   "cell_type": "code",
   "execution_count": null,
   "metadata": {},
   "outputs": [],
   "source": [
    "def replaceValues(df,toNumbers = True):\n",
    "    dfReplaced = df.copy()\n",
    "    for field in replacements:\n",
    "        print(field)\n",
    "        if(toNumbers):\n",
    "            dfReplaced[field] = dfReplaced[field].replace(replacements[field].values(),replacements[field].keys())            \n",
    "        else:\n",
    "            dfReplaced[field] = dfReplaced[field].replace(replacements[field])\n",
    "    return dfReplaced"
   ]
  },
  {
   "cell_type": "code",
   "execution_count": null,
   "metadata": {},
   "outputs": [],
   "source": [
    "dfDescriptions = replaceValues(df,toNumbers=False)\n",
    "\n",
    "df.to_csv(\"../Data/CleanData/Test2_Desc.csv\")"
   ]
  },
  {
   "cell_type": "code",
   "execution_count": null,
   "metadata": {},
   "outputs": [],
   "source": []
  }
 ],
 "metadata": {
  "kernelspec": {
   "display_name": "Python 3",
   "language": "python",
   "name": "python3"
  },
  "language_info": {
   "codemirror_mode": {
    "name": "ipython",
    "version": 3
   },
   "file_extension": ".py",
   "mimetype": "text/x-python",
   "name": "python",
   "nbconvert_exporter": "python",
   "pygments_lexer": "ipython3",
   "version": "3.7.7"
  }
 },
 "nbformat": 4,
 "nbformat_minor": 2
}
