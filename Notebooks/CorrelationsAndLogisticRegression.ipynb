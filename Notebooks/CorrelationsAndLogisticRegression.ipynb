{
 "cells": [
  {
   "cell_type": "markdown",
   "metadata": {},
   "source": [
    "# Obtains the correlation matrix and the logistic regression model with their respective coefficient graphs.\n",
    "\n",
    "### Note: This was run on Colab, so files are probably not available in local directories"
   ]
  },
  {
   "cell_type": "code",
   "execution_count": 29,
   "metadata": {
    "colab": {},
    "colab_type": "code",
    "id": "LkjA8aNxOp6u"
   },
   "outputs": [],
   "source": [
    "#from google.colab import drive\n",
    "#drive.mount('/content/drive', force_remount=True)"
   ]
  },
  {
   "cell_type": "markdown",
   "metadata": {
    "colab_type": "text",
    "id": "A9xycG44JLUj"
   },
   "source": [
    "#This code gets the correlation matrix and the logistic regression model"
   ]
  },
  {
   "cell_type": "code",
   "execution_count": null,
   "metadata": {
    "colab": {},
    "colab_type": "code",
    "id": "6NtNOXENKzlc"
   },
   "outputs": [],
   "source": [
    "#!pip install geopandas"
   ]
  },
  {
   "cell_type": "code",
   "execution_count": null,
   "metadata": {
    "colab": {
     "base_uri": "https://localhost:8080/",
     "height": 54
    },
    "colab_type": "code",
    "id": "6p-87HqvuRaT",
    "outputId": "858d1829-d769-4e17-cd0a-d9bdf09f68b2"
   },
   "outputs": [
    {
     "name": "stderr",
     "output_type": "stream",
     "text": [
      "/usr/local/lib/python3.6/dist-packages/statsmodels/tools/_testing.py:19: FutureWarning: pandas.util.testing is deprecated. Use the functions in the public API at pandas.testing instead.\n",
      "  import pandas.util.testing as tm\n"
     ]
    }
   ],
   "source": [
    "#Importing the needed libraries\n",
    "import pandas as pd\n",
    "import numpy as np\n",
    "import geopandas as gpd\n",
    "\n",
    "\n",
    "import seaborn as sns; sns.set()\n",
    "import matplotlib.pyplot as plt\n",
    "\n",
    "import statsmodels.formula.api as smf\n",
    "import statsmodels.api as sm\n",
    "\n",
    "from sklearn.model_selection import train_test_split\n",
    "from sklearn import metrics\n",
    "\n",
    "from matplotlib.gridspec import GridSpec\n",
    "from matplotlib.colors import ListedColormap\n",
    "from matplotlib.colors import LinearSegmentedColormap\n",
    "from matplotlib.cm import ScalarMappable\n"
   ]
  },
  {
   "cell_type": "code",
   "execution_count": null,
   "metadata": {
    "colab": {
     "base_uri": "https://localhost:8080/",
     "height": 54
    },
    "colab_type": "code",
    "id": "aoKU6wmeuVOK",
    "outputId": "fd2fe33f-0f0b-432a-a93e-3a3b9c55ced7"
   },
   "outputs": [
    {
     "name": "stderr",
     "output_type": "stream",
     "text": [
      "/usr/local/lib/python3.6/dist-packages/IPython/core/interactiveshell.py:2718: DtypeWarning: Columns (10,51) have mixed types.Specify dtype option on import or set low_memory=False.\n",
      "  interactivity=interactivity, compiler=compiler, result=result)\n"
     ]
    }
   ],
   "source": [
    "#Importing the dataframe with which are we actually gonna work\n",
    "\n",
    "#A random Sample of 20% of the clean, complete dataset, with the columns of the categorical variables with numerical values and\n",
    "#with the column of \"DS_ORIG\" where 1.0 = born, 2.0 = fetal, 3.0 = deceased. Shape = (1579068, 65)\n",
    "#df = pd.read_csv(\"/content/drive/My Drive/DS4AProject/CleanDB_FULL_DsOrigin_RandomSample_NumCat.csv\") \n",
    "df = pd.read_csv(\"CleanDB_FULL_DsOrigin_RandomSample_NumCat.csv\") "
   ]
  },
  {
   "cell_type": "code",
   "execution_count": null,
   "metadata": {
    "colab": {
     "base_uri": "https://localhost:8080/",
     "height": 453
    },
    "colab_type": "code",
    "id": "7-a_-fUk4-_Z",
    "outputId": "c88c7b31-dfea-4b38-cec9-4b0774e210ba"
   },
   "outputs": [
    {
     "name": "stdout",
     "output_type": "stream",
     "text": [
      "Dataframe size:  (1579068, 66)\n"
     ]
    },
    {
     "data": {
      "text/html": [
       "<div>\n",
       "<style scoped>\n",
       "    .dataframe tbody tr th:only-of-type {\n",
       "        vertical-align: middle;\n",
       "    }\n",
       "\n",
       "    .dataframe tbody tr th {\n",
       "        vertical-align: top;\n",
       "    }\n",
       "\n",
       "    .dataframe thead th {\n",
       "        text-align: right;\n",
       "    }\n",
       "</style>\n",
       "<table border=\"1\" class=\"dataframe\">\n",
       "  <thead>\n",
       "    <tr style=\"text-align: right;\">\n",
       "      <th></th>\n",
       "      <th>Unnamed: 0</th>\n",
       "      <th>Unnamed: 0.1</th>\n",
       "      <th>APGAR1</th>\n",
       "      <th>APGAR2</th>\n",
       "      <th>AREA</th>\n",
       "      <th>AREA_RESIDENCIA_HAB</th>\n",
       "      <th>ASIS_MED</th>\n",
       "      <th>CERT_EXPEDIDO_POR</th>\n",
       "      <th>CODOCUR</th>\n",
       "      <th>COD_DPTO</th>\n",
       "      <th>COD_INST</th>\n",
       "      <th>DEPTO_RESIDENCIA</th>\n",
       "      <th>EDAD_MADRE</th>\n",
       "      <th>EDAD_PADRE</th>\n",
       "      <th>ESTADO_CIVIL_M</th>\n",
       "      <th>FECHA_NAC_HIJO_VIVO</th>\n",
       "      <th>FILE_YEAR</th>\n",
       "      <th>GRU_ED1</th>\n",
       "      <th>IDFACTORRH</th>\n",
       "      <th>IDHEMOCLAS</th>\n",
       "      <th>IDPERTET</th>\n",
       "      <th>IDPUEBLOIN</th>\n",
       "      <th>MANERA_MUERTE</th>\n",
       "      <th>MOMENTO_MUERTE</th>\n",
       "      <th>NACIDO_VIVO</th>\n",
       "      <th>NIV_EDUCATIVO_M</th>\n",
       "      <th>NIV_EDUCATIVO_P</th>\n",
       "      <th>NOMBRE_ADM_SALUD</th>\n",
       "      <th>NOM_INST</th>\n",
       "      <th>NUMERO_EMBARAZOS</th>\n",
       "      <th>NUM_CONSUL</th>\n",
       "      <th>N_HIJOSM</th>\n",
       "      <th>N_HIJOSV</th>\n",
       "      <th>ORIGINAL_FILE</th>\n",
       "      <th>PAIS_RESIDENCIA</th>\n",
       "      <th>PARTO_ATENDIDO_POR</th>\n",
       "      <th>PESO</th>\n",
       "      <th>PROFESION_QUIEN_CERTIFICA</th>\n",
       "      <th>RESULTADO_EMB</th>\n",
       "      <th>SEG_SOCIAL</th>\n",
       "      <th>SEXO</th>\n",
       "      <th>SITIO_EVENTO</th>\n",
       "      <th>TALLA</th>\n",
       "      <th>TIEMPO_GESTACION</th>\n",
       "      <th>TIPO_ADM_SALUD</th>\n",
       "      <th>TIPO_EMBARAZO</th>\n",
       "      <th>TIPO_PARTO</th>\n",
       "      <th>ULT_GRADO_MADRE</th>\n",
       "      <th>ULT_GRADO_PADRE</th>\n",
       "      <th>ID_BIRTH</th>\n",
       "      <th>ID_RESID</th>\n",
       "      <th>ID_VIOL</th>\n",
       "      <th>DATE</th>\n",
       "      <th>DS_ORIG</th>\n",
       "      <th>CERT_EXP_POR_CAT</th>\n",
       "      <th>MANERA_MUERTE_CAT</th>\n",
       "      <th>MOMENTO_MUERTE_CAT</th>\n",
       "      <th>PARTO_ATENDIDO_POR_CAT</th>\n",
       "      <th>PROFESION_QUIEN_CERTIFICA_CAT</th>\n",
       "      <th>SEG_SOCIAL_CAT</th>\n",
       "      <th>SEXO_CAT</th>\n",
       "      <th>SITIO_EVENTO_CAT</th>\n",
       "      <th>TIEMPO_GESTACION_CAT</th>\n",
       "      <th>TIPO_PARTO_CAT</th>\n",
       "      <th>TIPO_EMBARAZO_CAT</th>\n",
       "      <th>NACIDO_VIVO_INV</th>\n",
       "    </tr>\n",
       "  </thead>\n",
       "  <tbody>\n",
       "    <tr>\n",
       "      <th>0</th>\n",
       "      <td>0</td>\n",
       "      <td>0</td>\n",
       "      <td>9.0</td>\n",
       "      <td>10.0</td>\n",
       "      <td>1</td>\n",
       "      <td>1.0</td>\n",
       "      <td>9.0</td>\n",
       "      <td>9</td>\n",
       "      <td>NaN</td>\n",
       "      <td>76</td>\n",
       "      <td>NaN</td>\n",
       "      <td>76</td>\n",
       "      <td>3.0</td>\n",
       "      <td>24.0</td>\n",
       "      <td>1.0</td>\n",
       "      <td>10/05/2014</td>\n",
       "      <td>2018</td>\n",
       "      <td>NaN</td>\n",
       "      <td>1.0</td>\n",
       "      <td>3.0</td>\n",
       "      <td>9.0</td>\n",
       "      <td>5.0</td>\n",
       "      <td>SIN_INFORMACION</td>\n",
       "      <td>SIN_INFORMACION</td>\n",
       "      <td>1</td>\n",
       "      <td>SECUNDARIA</td>\n",
       "      <td>SIN_INFORMACION</td>\n",
       "      <td>NaN</td>\n",
       "      <td>NaN</td>\n",
       "      <td>2.0</td>\n",
       "      <td>5.0</td>\n",
       "      <td>0.0</td>\n",
       "      <td>2.0</td>\n",
       "      <td>../Data/newData/nac/nac2018.txt</td>\n",
       "      <td>170.0</td>\n",
       "      <td>MEDICO</td>\n",
       "      <td>5.0</td>\n",
       "      <td>MEDICO</td>\n",
       "      <td>NACIDO_VIVO</td>\n",
       "      <td>SUBSIDIADO</td>\n",
       "      <td>FEMENINO</td>\n",
       "      <td>INSTITUCION_SALUD</td>\n",
       "      <td>5.0</td>\n",
       "      <td>38-41</td>\n",
       "      <td>2.0</td>\n",
       "      <td>SIMPLE</td>\n",
       "      <td>ESPONTANEO</td>\n",
       "      <td>9</td>\n",
       "      <td>99.0</td>\n",
       "      <td>76001</td>\n",
       "      <td>76001</td>\n",
       "      <td>1999</td>\n",
       "      <td>2018-07-01</td>\n",
       "      <td>1.0</td>\n",
       "      <td>9</td>\n",
       "      <td>9</td>\n",
       "      <td>9</td>\n",
       "      <td>1</td>\n",
       "      <td>1</td>\n",
       "      <td>3</td>\n",
       "      <td>1</td>\n",
       "      <td>1</td>\n",
       "      <td>4</td>\n",
       "      <td>1</td>\n",
       "      <td>1</td>\n",
       "      <td>0</td>\n",
       "    </tr>\n",
       "    <tr>\n",
       "      <th>1</th>\n",
       "      <td>1</td>\n",
       "      <td>1</td>\n",
       "      <td>8.0</td>\n",
       "      <td>9.0</td>\n",
       "      <td>1</td>\n",
       "      <td>1.0</td>\n",
       "      <td>9.0</td>\n",
       "      <td>9</td>\n",
       "      <td>NaN</td>\n",
       "      <td>8</td>\n",
       "      <td>8.00104e+10</td>\n",
       "      <td>8</td>\n",
       "      <td>2.0</td>\n",
       "      <td>19.0</td>\n",
       "      <td>1.0</td>\n",
       "      <td>NaN</td>\n",
       "      <td>2016</td>\n",
       "      <td>NaN</td>\n",
       "      <td>1.0</td>\n",
       "      <td>3.0</td>\n",
       "      <td>9.0</td>\n",
       "      <td>6.0</td>\n",
       "      <td>SIN_INFORMACION</td>\n",
       "      <td>SIN_INFORMACION</td>\n",
       "      <td>1</td>\n",
       "      <td>SECUNDARIA</td>\n",
       "      <td>SECUNDARIA</td>\n",
       "      <td>COOSALUD E.S.S. -  ARS COOPERATIVA EMPRESA SOL...</td>\n",
       "      <td>IPS UNIVERSITARIA SEDE CAMINO EL BOSQUE DE MARIA</td>\n",
       "      <td>1.0</td>\n",
       "      <td>4.0</td>\n",
       "      <td>0.0</td>\n",
       "      <td>1.0</td>\n",
       "      <td>../Data/newData/nac/nac2016.txt</td>\n",
       "      <td>170.0</td>\n",
       "      <td>MEDICO</td>\n",
       "      <td>7.0</td>\n",
       "      <td>MEDICO</td>\n",
       "      <td>NACIDO_VIVO</td>\n",
       "      <td>SUBSIDIADO</td>\n",
       "      <td>FEMENINO</td>\n",
       "      <td>INSTITUCION_SALUD</td>\n",
       "      <td>5.0</td>\n",
       "      <td>38-41</td>\n",
       "      <td>2.0</td>\n",
       "      <td>SIMPLE</td>\n",
       "      <td>ESPONTANEO</td>\n",
       "      <td>10</td>\n",
       "      <td>11.0</td>\n",
       "      <td>8001</td>\n",
       "      <td>8001</td>\n",
       "      <td>1999</td>\n",
       "      <td>2016-07-01</td>\n",
       "      <td>1.0</td>\n",
       "      <td>9</td>\n",
       "      <td>9</td>\n",
       "      <td>9</td>\n",
       "      <td>1</td>\n",
       "      <td>1</td>\n",
       "      <td>3</td>\n",
       "      <td>1</td>\n",
       "      <td>1</td>\n",
       "      <td>4</td>\n",
       "      <td>1</td>\n",
       "      <td>1</td>\n",
       "      <td>0</td>\n",
       "    </tr>\n",
       "    <tr>\n",
       "      <th>2</th>\n",
       "      <td>2</td>\n",
       "      <td>2</td>\n",
       "      <td>8.0</td>\n",
       "      <td>9.0</td>\n",
       "      <td>1</td>\n",
       "      <td>1.0</td>\n",
       "      <td>9.0</td>\n",
       "      <td>9</td>\n",
       "      <td>NaN</td>\n",
       "      <td>8</td>\n",
       "      <td>8.758e+10</td>\n",
       "      <td>8</td>\n",
       "      <td>2.0</td>\n",
       "      <td>22.0</td>\n",
       "      <td>2.0</td>\n",
       "      <td>1900-01-01</td>\n",
       "      <td>2014</td>\n",
       "      <td>NaN</td>\n",
       "      <td>1.0</td>\n",
       "      <td>2.0</td>\n",
       "      <td>9.0</td>\n",
       "      <td>6.0</td>\n",
       "      <td>SIN_INFORMACION</td>\n",
       "      <td>SIN_INFORMACION</td>\n",
       "      <td>1</td>\n",
       "      <td>SECUNDARIA</td>\n",
       "      <td>SECUNDARIA</td>\n",
       "      <td>COMFACOR - CAJA DE COMPENSACION FAMILIAR DE CO...</td>\n",
       "      <td>CLINICA PORVENIR</td>\n",
       "      <td>1.0</td>\n",
       "      <td>5.0</td>\n",
       "      <td>0.0</td>\n",
       "      <td>1.0</td>\n",
       "      <td>../Data/newData/nac/nac2014.txt</td>\n",
       "      <td>170.0</td>\n",
       "      <td>MEDICO</td>\n",
       "      <td>6.0</td>\n",
       "      <td>MEDICO</td>\n",
       "      <td>NACIDO_VIVO</td>\n",
       "      <td>SUBSIDIADO</td>\n",
       "      <td>MASCULINO</td>\n",
       "      <td>INSTITUCION_SALUD</td>\n",
       "      <td>5.0</td>\n",
       "      <td>38-41</td>\n",
       "      <td>2.0</td>\n",
       "      <td>SIMPLE</td>\n",
       "      <td>CESAREA</td>\n",
       "      <td>11</td>\n",
       "      <td>7.0</td>\n",
       "      <td>8758</td>\n",
       "      <td>8758</td>\n",
       "      <td>1999</td>\n",
       "      <td>2014-09-01</td>\n",
       "      <td>1.0</td>\n",
       "      <td>9</td>\n",
       "      <td>9</td>\n",
       "      <td>9</td>\n",
       "      <td>1</td>\n",
       "      <td>1</td>\n",
       "      <td>3</td>\n",
       "      <td>2</td>\n",
       "      <td>1</td>\n",
       "      <td>4</td>\n",
       "      <td>2</td>\n",
       "      <td>1</td>\n",
       "      <td>0</td>\n",
       "    </tr>\n",
       "    <tr>\n",
       "      <th>3</th>\n",
       "      <td>3</td>\n",
       "      <td>3</td>\n",
       "      <td>8.0</td>\n",
       "      <td>9.0</td>\n",
       "      <td>1</td>\n",
       "      <td>1.0</td>\n",
       "      <td>9.0</td>\n",
       "      <td>9</td>\n",
       "      <td>NaN</td>\n",
       "      <td>11</td>\n",
       "      <td>1.10011e+11</td>\n",
       "      <td>11</td>\n",
       "      <td>2.0</td>\n",
       "      <td>19.0</td>\n",
       "      <td>1.0</td>\n",
       "      <td>1900-01-01</td>\n",
       "      <td>2014</td>\n",
       "      <td>NaN</td>\n",
       "      <td>1.0</td>\n",
       "      <td>3.0</td>\n",
       "      <td>9.0</td>\n",
       "      <td>6.0</td>\n",
       "      <td>SIN_INFORMACION</td>\n",
       "      <td>SIN_INFORMACION</td>\n",
       "      <td>1</td>\n",
       "      <td>SECUNDARIA</td>\n",
       "      <td>SECUNDARIA</td>\n",
       "      <td>CRUZ BLANCA  EPS S.A.</td>\n",
       "      <td>CLINICA DEL OCCIDENTE S.A.</td>\n",
       "      <td>1.0</td>\n",
       "      <td>10.0</td>\n",
       "      <td>0.0</td>\n",
       "      <td>1.0</td>\n",
       "      <td>../Data/newData/nac/nac2014.txt</td>\n",
       "      <td>170.0</td>\n",
       "      <td>MEDICO</td>\n",
       "      <td>6.0</td>\n",
       "      <td>MEDICO</td>\n",
       "      <td>NACIDO_VIVO</td>\n",
       "      <td>CONTRIBUTIVO</td>\n",
       "      <td>FEMENINO</td>\n",
       "      <td>INSTITUCION_SALUD</td>\n",
       "      <td>5.0</td>\n",
       "      <td>38-41</td>\n",
       "      <td>1.0</td>\n",
       "      <td>SIMPLE</td>\n",
       "      <td>ESPONTANEO</td>\n",
       "      <td>11</td>\n",
       "      <td>11.0</td>\n",
       "      <td>11001</td>\n",
       "      <td>11001</td>\n",
       "      <td>1999</td>\n",
       "      <td>2014-08-01</td>\n",
       "      <td>1.0</td>\n",
       "      <td>9</td>\n",
       "      <td>9</td>\n",
       "      <td>9</td>\n",
       "      <td>1</td>\n",
       "      <td>1</td>\n",
       "      <td>1</td>\n",
       "      <td>1</td>\n",
       "      <td>1</td>\n",
       "      <td>4</td>\n",
       "      <td>1</td>\n",
       "      <td>1</td>\n",
       "      <td>0</td>\n",
       "    </tr>\n",
       "    <tr>\n",
       "      <th>4</th>\n",
       "      <td>4</td>\n",
       "      <td>4</td>\n",
       "      <td>9.0</td>\n",
       "      <td>9.0</td>\n",
       "      <td>1</td>\n",
       "      <td>1.0</td>\n",
       "      <td>9.0</td>\n",
       "      <td>9</td>\n",
       "      <td>NaN</td>\n",
       "      <td>47</td>\n",
       "      <td>4.7189e+11</td>\n",
       "      <td>47</td>\n",
       "      <td>2.0</td>\n",
       "      <td>21.0</td>\n",
       "      <td>2.0</td>\n",
       "      <td>2006-06-06</td>\n",
       "      <td>2009</td>\n",
       "      <td>NaN</td>\n",
       "      <td>1.0</td>\n",
       "      <td>4.0</td>\n",
       "      <td>9.0</td>\n",
       "      <td>6.0</td>\n",
       "      <td>SIN_INFORMACION</td>\n",
       "      <td>SIN_INFORMACION</td>\n",
       "      <td>1</td>\n",
       "      <td>SECUNDARIA</td>\n",
       "      <td>SECUNDARIA</td>\n",
       "      <td>NaN</td>\n",
       "      <td>HOSPITAL SAN CRISTOBAL</td>\n",
       "      <td>2.0</td>\n",
       "      <td>3.0</td>\n",
       "      <td>0.0</td>\n",
       "      <td>2.0</td>\n",
       "      <td>../Data/newData/nac/nac2009.txt</td>\n",
       "      <td>170.0</td>\n",
       "      <td>MEDICO</td>\n",
       "      <td>7.0</td>\n",
       "      <td>ENFERMERA</td>\n",
       "      <td>NACIDO_VIVO</td>\n",
       "      <td>NO_ASEGURADO</td>\n",
       "      <td>FEMENINO</td>\n",
       "      <td>INSTITUCION_SALUD</td>\n",
       "      <td>5.0</td>\n",
       "      <td>38-41</td>\n",
       "      <td>9.0</td>\n",
       "      <td>SIMPLE</td>\n",
       "      <td>ESPONTANEO</td>\n",
       "      <td>6</td>\n",
       "      <td>11.0</td>\n",
       "      <td>47189</td>\n",
       "      <td>47189</td>\n",
       "      <td>1999</td>\n",
       "      <td>2009-03-01</td>\n",
       "      <td>1.0</td>\n",
       "      <td>9</td>\n",
       "      <td>9</td>\n",
       "      <td>9</td>\n",
       "      <td>1</td>\n",
       "      <td>2</td>\n",
       "      <td>2</td>\n",
       "      <td>1</td>\n",
       "      <td>1</td>\n",
       "      <td>4</td>\n",
       "      <td>1</td>\n",
       "      <td>1</td>\n",
       "      <td>0</td>\n",
       "    </tr>\n",
       "  </tbody>\n",
       "</table>\n",
       "</div>"
      ],
      "text/plain": [
       "   Unnamed: 0  Unnamed: 0.1  ...  TIPO_EMBARAZO_CAT  NACIDO_VIVO_INV\n",
       "0           0             0  ...                  1                0\n",
       "1           1             1  ...                  1                0\n",
       "2           2             2  ...                  1                0\n",
       "3           3             3  ...                  1                0\n",
       "4           4             4  ...                  1                0\n",
       "\n",
       "[5 rows x 66 columns]"
      ]
     },
     "execution_count": 5,
     "metadata": {
      "tags": []
     },
     "output_type": "execute_result"
    }
   ],
   "source": [
    "print(\"Dataframe size: \",df.shape)\n",
    "df.head()"
   ]
  },
  {
   "cell_type": "code",
   "execution_count": null,
   "metadata": {
    "colab": {
     "base_uri": "https://localhost:8080/",
     "height": 72
    },
    "colab_type": "code",
    "id": "i7mf_ZiDuoYy",
    "outputId": "3f556e6d-4b2e-4545-ca10-c162d7ba2942"
   },
   "outputs": [
    {
     "name": "stdout",
     "output_type": "stream",
     "text": [
      "Percentage of live births in the df 93.10903646961373\n",
      "Percentage of fetal deaths in the df 5.760423236998027\n",
      "Percentage of deaths in the df 1.1305402933882518\n"
     ]
    }
   ],
   "source": [
    "#Getting the percentage of each category in the dataframe (live births, fetal deaths, deaths) \n",
    "\n",
    "print(\"Percentage of live births in the df\",(df[df[\"DS_ORIG\"] == 1].shape[0]/df.shape[0])*100)\n",
    "print(\"Percentage of fetal deaths in the df\",(df[df[\"DS_ORIG\"] == 2].shape[0]/df.shape[0])*100)\n",
    "print(\"Percentage of deaths in the df\",(df[df[\"DS_ORIG\"] == 3].shape[0]/df.shape[0])*100)"
   ]
  },
  {
   "cell_type": "markdown",
   "metadata": {
    "colab_type": "text",
    "id": "hAT45FPT1LkD"
   },
   "source": [
    "#Correlation matrix"
   ]
  },
  {
   "cell_type": "code",
   "execution_count": null,
   "metadata": {
    "colab": {
     "base_uri": "https://localhost:8080/",
     "height": 924
    },
    "colab_type": "code",
    "id": "dha56LnR0_Ey",
    "outputId": "1cd563ee-1ec2-429b-864e-41a877dc8dbd"
   },
   "outputs": [
    {
     "name": "stdout",
     "output_type": "stream",
     "text": [
      "                          NUMBER OF PREGNANCIES  ...      SIZE\n",
      "NUMBER OF PREGNANCIES                  1.000000  ...  0.280479\n",
      "N. MEDICAL CONSULTATIONS               0.287301  ...  0.815134\n",
      "MOTHER AGE                             0.329918  ...  0.105460\n",
      "FATHER AGE                             0.291065  ...  0.851595\n",
      "N. FEMALE CHILDREN                     0.717851  ...  0.227176\n",
      "N. MALE CHILDREN                       0.735193  ...  0.181812\n",
      "WEIGHT                                -0.006956  ... -0.018372\n",
      "SIZE                                   0.280479  ...  1.000000\n",
      "\n",
      "[8 rows x 8 columns]\n"
     ]
    },
    {
     "data": {
      "text/plain": [
       "Text(0.5, 1.0, 'Correlations between continuous variables')"
      ]
     },
     "execution_count": 7,
     "metadata": {
      "tags": []
     },
     "output_type": "execute_result"
    },
    {
     "data": {
      "image/png": "[encoded data removed]",
      "text/plain": [
       "<Figure size 792x648 with 2 Axes>"
      ]
     },
     "metadata": {
      "tags": []
     },
     "output_type": "display_data"
    }
   ],
   "source": [
    "data_full_E = [ df[\"NUMERO_EMBARAZOS\"].astype(float), df[\"NUM_CONSUL\"].astype(float),df['EDAD_MADRE'].astype(float),\n",
    "        df['EDAD_PADRE'].astype(float),\n",
    "         df['N_HIJOSM'].astype(float),df[\"N_HIJOSV\"].astype(float),df['PESO'].astype(float),\n",
    "        df[\"TALLA\"].astype(float)]\n",
    "\n",
    "headers_full_E = [\"NUMBER OF PREGNANCIES\",\"N. MEDICAL CONSULTATIONS\",'MOTHER AGE','FATHER AGE','N. FEMALE CHILDREN',\"N. MALE CHILDREN\",'WEIGHT',\"SIZE\"]\n",
    "df3_full_E = pd.concat(data_full_E, axis=1, keys=headers_full_E)\n",
    "print(df3_full_E.corr(method=\"pearson\")) \n",
    "\n",
    "\n",
    "mask = np.zeros_like(df3_full_E.corr(), dtype=np.bool)\n",
    "mask[np.triu_indices_from(mask)] = True    # Want diagonal elements as well\n",
    "mask[np.diag_indices_from(mask)] = False    # Set up the matplotlib figure\n",
    "f, ax = plt.subplots(figsize=(11, 9))    # Generate a custom diverging colormap\n",
    "cmap = sns.diverging_palette(168,22,s=94,l=56, as_cmap=True)    # Draw the heatmap with the mask and correct aspect ratio\n",
    "sns_plot = sns.heatmap(df3_full_E.corr(), mask=mask, cmap=cmap, vmin=-1, vmax=1, center=0,\n",
    "                       square=True, linewidths=.5, cbar_kws={\"shrink\": .5})\n",
    "plt.title(\"Correlations between continuous variables\")\n"
   ]
  },
  {
   "cell_type": "markdown",
   "metadata": {
    "colab_type": "text",
    "id": "vmt-KBzW6PKR"
   },
   "source": [
    "#Splitting the dataframe to solve the problem of live births vs. stillbirths"
   ]
  },
  {
   "cell_type": "code",
   "execution_count": null,
   "metadata": {
    "colab": {
     "base_uri": "https://localhost:8080/",
     "height": 35
    },
    "colab_type": "code",
    "id": "exI9qQbXxOei",
    "outputId": "abf40ef8-8798-4290-c08f-2a63e455d390"
   },
   "outputs": [
    {
     "data": {
      "text/plain": [
       "(1561216, 66)"
      ]
     },
     "execution_count": 8,
     "metadata": {
      "tags": []
     },
     "output_type": "execute_result"
    }
   ],
   "source": [
    "#Getting the dataframe from the live births and fetal deaths only \n",
    "\n",
    "df_v = df[df[\"DS_ORIG\"]==1]\n",
    "df_f = df[df[\"DS_ORIG\"]==2]\n",
    "df_v_f = pd.concat([df_v,df_f])\n",
    "df_v_f.shape"
   ]
  },
  {
   "cell_type": "code",
   "execution_count": null,
   "metadata": {
    "colab": {
     "base_uri": "https://localhost:8080/",
     "height": 54
    },
    "colab_type": "code",
    "id": "ZQwxp-eHzPr1",
    "outputId": "1d4e918a-7f10-4b10-ba6d-b94843d1233a"
   },
   "outputs": [
    {
     "name": "stdout",
     "output_type": "stream",
     "text": [
      "Percentage of live births in the df_v_f 94.17370818643928\n",
      "Percentage of fetal deaths in the df_v_f 5.826291813560712\n"
     ]
    }
   ],
   "source": [
    "#Getting percentage of these categories to ensure representation of both categories\n",
    "\n",
    "print(\"Percentage of live births in the df_v_f\",(df_v_f[df_v_f[\"DS_ORIG\"] == 1].shape[0]/df_v_f.shape[0])*100)\n",
    "print(\"Percentage of fetal deaths in the df_v_f\",(df_v_f[df_v_f[\"DS_ORIG\"] == 2].shape[0]/df_v_f.shape[0])*100)"
   ]
  },
  {
   "cell_type": "markdown",
   "metadata": {
    "colab_type": "text",
    "id": "uM9ViD2m-P5d"
   },
   "source": [
    "#Getting the random samples for train and test"
   ]
  },
  {
   "cell_type": "code",
   "execution_count": null,
   "metadata": {
    "colab": {
     "base_uri": "https://localhost:8080/",
     "height": 54
    },
    "colab_type": "code",
    "id": "dXsw7Qp8zi67",
    "outputId": "c7c2067e-dcf7-47c3-e65e-f8372a4f31c1"
   },
   "outputs": [
    {
     "name": "stdout",
     "output_type": "stream",
     "text": [
      "Dataframe train shape:  (1248972, 66)\n",
      "Dataframe test shape:  (312244, 66)\n"
     ]
    }
   ],
   "source": [
    "#Getting the random samples for train and test\n",
    "\n",
    "df_v_f_train, df_v_f_test = train_test_split(df_v_f, train_size=0.8, shuffle = True, random_state=40)\n",
    "print(\"Dataframe train shape: \",df_v_f_train.shape)\n",
    "print(\"Dataframe test shape: \",df_v_f_test.shape)"
   ]
  },
  {
   "cell_type": "code",
   "execution_count": null,
   "metadata": {
    "colab": {
     "base_uri": "https://localhost:8080/",
     "height": 109
    },
    "colab_type": "code",
    "id": "P2jYkBHp-SIW",
    "outputId": "bc67405b-95ba-4b24-cbea-5b29390da62e"
   },
   "outputs": [
    {
     "name": "stdout",
     "output_type": "stream",
     "text": [
      "['SECUNDARIA' 'PROFESIONAL' 'SIN_INFORMACION' 'TECNICA_PROFESIONAL'\n",
      " 'PRIMARIA' 'ESPECIALIZACION' 'MEDIA_TECNICA' 'TECNOLOGICA' 'NINGUNO'\n",
      " 'PREESCOLAR' 'MAESTRIA' 'NORMALISTA' 'DOCTORADO']\n",
      "[ 3  4  9  7  2 10  5  8  1  6]\n",
      "(1231124, 67)\n"
     ]
    }
   ],
   "source": [
    "#Adding a column to categorize by numbers the column \"NIV_EDUCATIVO_M\"\n",
    "\n",
    "print(df_v_f_train[\"NIV_EDUCATIVO_M\"].unique())\n",
    "NIV_EDUCATIVO_M_dict = {\n",
    "    \"SIN_INFORMACION\" : 9, \"PREESCOLAR\":1 , \"PRIMARIA\":2 ,\n",
    "    \"SECUNDARIA\": 3 ,\"PROFESIONAL\":4, \"MEDIA_TECNICA\" : 5,\"NORMALISTA\":6,\"TECNICA_PROFESIONAL\":7, \"TECNOLOGICA\":8,\"ESPECIALIZACION\":10,\"Maestría\":10,\"Doctorado\":10}\n",
    "df_v_f_train = df_v_f_train[df_v_f_train['NIV_EDUCATIVO_M'].isin(NIV_EDUCATIVO_M_dict.keys())].copy()\n",
    "df_v_f_train['NIV_EDUCATIVO_M_CAT'] = df_v_f_train['NIV_EDUCATIVO_M'].apply(lambda x: NIV_EDUCATIVO_M_dict[x])\n",
    "print(df_v_f_train['NIV_EDUCATIVO_M_CAT'].unique()) \n",
    "print(df_v_f_train.shape)\n",
    "\n",
    "#df_v_f_train.head()"
   ]
  },
  {
   "cell_type": "markdown",
   "metadata": {
    "colab_type": "text",
    "id": "avnOlZeO8Md2"
   },
   "source": [
    "#Defining a new dataframe with the specific kind of variables (category, float) from each category\n"
   ]
  },
  {
   "cell_type": "code",
   "execution_count": null,
   "metadata": {
    "colab": {
     "base_uri": "https://localhost:8080/",
     "height": 245
    },
    "colab_type": "code",
    "id": "w-xxUzOf7t9v",
    "outputId": "96c74647-b6b8-4f82-b2de-c860591b8edd"
   },
   "outputs": [
    {
     "name": "stdout",
     "output_type": "stream",
     "text": [
      "(1231124, 22)\n"
     ]
    },
    {
     "data": {
      "text/html": [
       "<div>\n",
       "<style scoped>\n",
       "    .dataframe tbody tr th:only-of-type {\n",
       "        vertical-align: middle;\n",
       "    }\n",
       "\n",
       "    .dataframe tbody tr th {\n",
       "        vertical-align: top;\n",
       "    }\n",
       "\n",
       "    .dataframe thead th {\n",
       "        text-align: right;\n",
       "    }\n",
       "</style>\n",
       "<table border=\"1\" class=\"dataframe\">\n",
       "  <thead>\n",
       "    <tr style=\"text-align: right;\">\n",
       "      <th></th>\n",
       "      <th>DEPTO_RESIDENCIA</th>\n",
       "      <th>NUMERO_EMBARAZOS</th>\n",
       "      <th>NUM_CONSUL</th>\n",
       "      <th>N_HIJOSM</th>\n",
       "      <th>N_HIJOSV</th>\n",
       "      <th>TIPO_ADM_SALUD</th>\n",
       "      <th>SEXO_CAT</th>\n",
       "      <th>NACIDO_VIVO_INV</th>\n",
       "      <th>CERT_EXP_POR_CAT</th>\n",
       "      <th>MANERA_MUERTE_CAT</th>\n",
       "      <th>MOMENTO_MUERTE_CAT</th>\n",
       "      <th>PARTO_ATENDIDO_POR_CAT</th>\n",
       "      <th>PROFESION_QUIEN_CERTIFICA_CAT</th>\n",
       "      <th>SEG_SOCIAL_CAT</th>\n",
       "      <th>SITIO_EVENTO_CAT</th>\n",
       "      <th>TIEMPO_GESTACION_CAT</th>\n",
       "      <th>TIPO_PARTO_CAT</th>\n",
       "      <th>TIPO_EMBARAZO_CAT</th>\n",
       "      <th>NIV_EDUCATIVO_M_CAT</th>\n",
       "      <th>AREA_RESIDENCIA_HAB_CAT</th>\n",
       "      <th>AREA_CAT</th>\n",
       "      <th>ASIS_MED_CAT</th>\n",
       "    </tr>\n",
       "  </thead>\n",
       "  <tbody>\n",
       "    <tr>\n",
       "      <th>1517086</th>\n",
       "      <td>19</td>\n",
       "      <td>1.0</td>\n",
       "      <td>5.0</td>\n",
       "      <td>0.0</td>\n",
       "      <td>1.0</td>\n",
       "      <td>2.0</td>\n",
       "      <td>1</td>\n",
       "      <td>0</td>\n",
       "      <td>9</td>\n",
       "      <td>9</td>\n",
       "      <td>9</td>\n",
       "      <td>1</td>\n",
       "      <td>1</td>\n",
       "      <td>3</td>\n",
       "      <td>1</td>\n",
       "      <td>3</td>\n",
       "      <td>2</td>\n",
       "      <td>1</td>\n",
       "      <td>3</td>\n",
       "      <td>2.0</td>\n",
       "      <td>1</td>\n",
       "      <td>9.0</td>\n",
       "    </tr>\n",
       "    <tr>\n",
       "      <th>631514</th>\n",
       "      <td>54</td>\n",
       "      <td>1.0</td>\n",
       "      <td>4.0</td>\n",
       "      <td>0.0</td>\n",
       "      <td>1.0</td>\n",
       "      <td>1.0</td>\n",
       "      <td>2</td>\n",
       "      <td>0</td>\n",
       "      <td>9</td>\n",
       "      <td>9</td>\n",
       "      <td>9</td>\n",
       "      <td>1</td>\n",
       "      <td>1</td>\n",
       "      <td>1</td>\n",
       "      <td>1</td>\n",
       "      <td>3</td>\n",
       "      <td>2</td>\n",
       "      <td>1</td>\n",
       "      <td>4</td>\n",
       "      <td>1.0</td>\n",
       "      <td>1</td>\n",
       "      <td>9.0</td>\n",
       "    </tr>\n",
       "    <tr>\n",
       "      <th>230465</th>\n",
       "      <td>76</td>\n",
       "      <td>1.0</td>\n",
       "      <td>99.0</td>\n",
       "      <td>0.0</td>\n",
       "      <td>1.0</td>\n",
       "      <td>1.0</td>\n",
       "      <td>1</td>\n",
       "      <td>0</td>\n",
       "      <td>9</td>\n",
       "      <td>9</td>\n",
       "      <td>9</td>\n",
       "      <td>1</td>\n",
       "      <td>1</td>\n",
       "      <td>1</td>\n",
       "      <td>1</td>\n",
       "      <td>4</td>\n",
       "      <td>2</td>\n",
       "      <td>1</td>\n",
       "      <td>3</td>\n",
       "      <td>1.0</td>\n",
       "      <td>1</td>\n",
       "      <td>9.0</td>\n",
       "    </tr>\n",
       "    <tr>\n",
       "      <th>1126177</th>\n",
       "      <td>44</td>\n",
       "      <td>4.0</td>\n",
       "      <td>2.0</td>\n",
       "      <td>0.0</td>\n",
       "      <td>4.0</td>\n",
       "      <td>9.0</td>\n",
       "      <td>1</td>\n",
       "      <td>0</td>\n",
       "      <td>9</td>\n",
       "      <td>9</td>\n",
       "      <td>9</td>\n",
       "      <td>1</td>\n",
       "      <td>1</td>\n",
       "      <td>2</td>\n",
       "      <td>1</td>\n",
       "      <td>4</td>\n",
       "      <td>1</td>\n",
       "      <td>1</td>\n",
       "      <td>9</td>\n",
       "      <td>1.0</td>\n",
       "      <td>1</td>\n",
       "      <td>9.0</td>\n",
       "    </tr>\n",
       "    <tr>\n",
       "      <th>1544506</th>\n",
       "      <td>11</td>\n",
       "      <td>1.0</td>\n",
       "      <td>6.0</td>\n",
       "      <td>0.0</td>\n",
       "      <td>1.0</td>\n",
       "      <td>1.0</td>\n",
       "      <td>2</td>\n",
       "      <td>0</td>\n",
       "      <td>9</td>\n",
       "      <td>9</td>\n",
       "      <td>9</td>\n",
       "      <td>1</td>\n",
       "      <td>1</td>\n",
       "      <td>1</td>\n",
       "      <td>1</td>\n",
       "      <td>3</td>\n",
       "      <td>1</td>\n",
       "      <td>1</td>\n",
       "      <td>3</td>\n",
       "      <td>1.0</td>\n",
       "      <td>1</td>\n",
       "      <td>9.0</td>\n",
       "    </tr>\n",
       "  </tbody>\n",
       "</table>\n",
       "</div>"
      ],
      "text/plain": [
       "        DEPTO_RESIDENCIA  NUMERO_EMBARAZOS  ...  AREA_CAT  ASIS_MED_CAT\n",
       "1517086               19               1.0  ...         1           9.0\n",
       "631514                54               1.0  ...         1           9.0\n",
       "230465                76               1.0  ...         1           9.0\n",
       "1126177               44               4.0  ...         1           9.0\n",
       "1544506               11               1.0  ...         1           9.0\n",
       "\n",
       "[5 rows x 22 columns]"
      ]
     },
     "execution_count": 12,
     "metadata": {
      "tags": []
     },
     "output_type": "execute_result"
    }
   ],
   "source": [
    "dataToTrainLog= [\n",
    "         df_v_f_train[\"DEPTO_RESIDENCIA\"].astype('category')\n",
    "        ,df_v_f_train[\"NUMERO_EMBARAZOS\"].astype(float),df_v_f_train[\"NUM_CONSUL\"].astype(float),df_v_f_train[\"N_HIJOSM\"].astype(float),\n",
    "        df_v_f_train[\"N_HIJOSV\"].astype(float),df_v_f_train[\"TIPO_ADM_SALUD\"].astype(float),df_v_f_train[\"SEXO_CAT\"].astype('category'),df_v_f_train[\"NACIDO_VIVO_INV\"].astype('category'), \n",
    "        df_v_f_train[\"CERT_EXP_POR_CAT\"].astype('category'),df_v_f_train[\"MANERA_MUERTE_CAT\"].astype('category'),df_v_f_train[\"MOMENTO_MUERTE_CAT\"].astype('category'),\n",
    "        df_v_f_train[\"PARTO_ATENDIDO_POR_CAT\"].astype('category'), df_v_f_train[\"PROFESION_QUIEN_CERTIFICA_CAT\"].astype('category'), \n",
    "        df_v_f_train[\"SEG_SOCIAL_CAT\"].astype('category'),df_v_f_train[\"SITIO_EVENTO_CAT\"].astype('category'),df_v_f_train[\"TIEMPO_GESTACION_CAT\"].astype('category')\n",
    "        ,df_v_f_train[\"TIPO_PARTO_CAT\"].astype('category'),df_v_f_train[\"TIPO_EMBARAZO_CAT\"].astype('category'),df_v_f_train[\"NIV_EDUCATIVO_M_CAT\"].astype('category'),\n",
    "        df_v_f_train[\"AREA_RESIDENCIA_HAB\"].astype('category'),df_v_f_train[\"AREA\"].astype('category'),df_v_f_train[\"ASIS_MED\"].astype('category')]\n",
    "\n",
    "headersToTrainLog= [\"DEPTO_RESIDENCIA\"\n",
    "           ,\"NUMERO_EMBARAZOS\",\"NUM_CONSUL\",\"N_HIJOSM\",\"N_HIJOSV\",\"TIPO_ADM_SALUD\",\"SEXO_CAT\",\"NACIDO_VIVO_INV\",\"CERT_EXP_POR_CAT\", \"MANERA_MUERTE_CAT\",\n",
    "           \"MOMENTO_MUERTE_CAT\", \"PARTO_ATENDIDO_POR_CAT\",\"PROFESION_QUIEN_CERTIFICA_CAT\",\"SEG_SOCIAL_CAT\",\"SITIO_EVENTO_CAT\",\"TIEMPO_GESTACION_CAT\",\"TIPO_PARTO_CAT\" ,\n",
    "           \"TIPO_EMBARAZO_CAT\",\"NIV_EDUCATIVO_M_CAT\",\"AREA_RESIDENCIA_HAB_CAT\",\"AREA_CAT\",\"ASIS_MED_CAT\"]\n",
    "dfToTrainLog= pd.concat(dataToTrainLog, axis=1, keys=headersToTrainLog)\n",
    "print(dfToTrainLog.shape)\n",
    "dfToTrainLog.head()\n"
   ]
  },
  {
   "cell_type": "code",
   "execution_count": null,
   "metadata": {
    "colab": {},
    "colab_type": "code",
    "id": "BPf7g5kpzrB4"
   },
   "outputs": [],
   "source": [
    "#Defining a new data frame with the features that can be applied to the model\n",
    "\n",
    "df_log1 = pd.DataFrame(columns=['NACIDO_VIVO_INV','NUMERO_EMBARAZOS','SEXO_CAT','SEG_SOCIAL_CAT',\n",
    "                                'TIEMPO_GESTACION_CAT','NIV_EDUCATIVO_M_CAT','TIPO_EMBARAZO_CAT',\n",
    "                                'AREA_RESIDENCIA_HAB_CAT','AREA_CAT','ASIS_MED_CAT','DEPTO_RESIDENCIA'])\n",
    "df_log1['NACIDO_VIVO_INV'] = dfToTrainLog.NACIDO_VIVO_INV\n",
    "df_log1['NUMERO_EMBARAZOS'] = dfToTrainLog.NUMERO_EMBARAZOS\n",
    "df_log1['SEXO_CAT'] = dfToTrainLog.SEXO_CAT\n",
    "df_log1['SEG_SOCIAL_CAT'] = dfToTrainLog.SEG_SOCIAL_CAT\n",
    "df_log1['TIEMPO_GESTACION_CAT'] = dfToTrainLog.TIEMPO_GESTACION_CAT\n",
    "df_log1['NIV_EDUCATIVO_M_CAT'] = dfToTrainLog.NIV_EDUCATIVO_M_CAT\n",
    "df_log1['TIPO_EMBARAZO_CAT'] = dfToTrainLog.TIPO_EMBARAZO_CAT\n",
    "df_log1['AREA_RESIDENCIA_HAB_CAT'] = dfToTrainLog.AREA_RESIDENCIA_HAB_CAT\n",
    "df_log1['AREA_CAT'] = dfToTrainLog.AREA_CAT\n",
    "df_log1['ASIS_MED_CAT'] = dfToTrainLog.ASIS_MED_CAT\n",
    "df_log1['DEPTO_RESIDENCIA'] = dfToTrainLog.DEPTO_RESIDENCIA\n",
    "df_log1['Intercept'] = 1"
   ]
  },
  {
   "cell_type": "markdown",
   "metadata": {
    "colab_type": "text",
    "id": "TMVlU_vrgIb2"
   },
   "source": [
    "#The following dataframe is used for training the random forest.\n",
    " It is stored not to carry out the procedure again"
   ]
  },
  {
   "cell_type": "code",
   "execution_count": null,
   "metadata": {
    "colab": {},
    "colab_type": "code",
    "id": "fMVlclqDgC8T"
   },
   "outputs": [],
   "source": [
    "df_dummies2 = pd.get_dummies(df_log1, columns=['SEG_SOCIAL_CAT','NIV_EDUCATIVO_M_CAT','TIPO_EMBARAZO_CAT',\n",
    "                                               'AREA_RESIDENCIA_HAB_CAT','DEPTO_RESIDENCIA'], drop_first= True)\n",
    "columnasInterDepto = list(df_dummies2.columns.drop(['NACIDO_VIVO_INV','SEXO_CAT','TIEMPO_GESTACION_CAT','ASIS_MED_CAT','AREA_CAT']))"
   ]
  },
  {
   "cell_type": "code",
   "execution_count": null,
   "metadata": {
    "colab": {},
    "colab_type": "code",
    "id": "WLnU415tgLj8"
   },
   "outputs": [],
   "source": [
    "#df_dummies2.to_csv(\"DataRegresionDummies.csv\")"
   ]
  },
  {
   "cell_type": "markdown",
   "metadata": {
    "colab_type": "text",
    "id": "wT0HS4wt1FeK"
   },
   "source": [
    "#Logistic regression"
   ]
  },
  {
   "cell_type": "code",
   "execution_count": null,
   "metadata": {
    "colab": {},
    "colab_type": "code",
    "id": "WavH9JUQ_o0R"
   },
   "outputs": [],
   "source": [
    "df_dummiesDeptos2 = pd.get_dummies(df_log1, columns=['SEG_SOCIAL_CAT','NIV_EDUCATIVO_M_CAT','TIPO_EMBARAZO_CAT',\n",
    "                                               'AREA_RESIDENCIA_HAB_CAT','DEPTO_RESIDENCIA'], drop_first= False)\n",
    "columnasInterDeptos2 = list(df_dummiesDeptos2.columns.drop(['NACIDO_VIVO_INV','SEXO_CAT','TIEMPO_GESTACION_CAT','ASIS_MED_CAT','AREA_CAT',\n",
    "                                                            'SEG_SOCIAL_CAT_1','NIV_EDUCATIVO_M_CAT_1','TIPO_EMBARAZO_CAT_1','AREA_RESIDENCIA_HAB_CAT_1.0','DEPTO_RESIDENCIA_11']))"
   ]
  },
  {
   "cell_type": "markdown",
   "metadata": {
    "colab_type": "text",
    "id": "EZBXsOFfF0-Z"
   },
   "source": [
    "The following coefficients are based on the following category: Social Security = contributory, Niv_educative_m = Preschool, Type_pregnancy = Simple, Area_residency = Municipal Head, Depto_residencia = Bogota"
   ]
  },
  {
   "cell_type": "code",
   "execution_count": null,
   "metadata": {
    "colab": {
     "base_uri": "https://localhost:8080/",
     "height": 1000
    },
    "colab_type": "code",
    "id": "7t2oZYKV_chq",
    "outputId": "3c4f9543-9763-4a80-831c-90d605f8a01f"
   },
   "outputs": [
    {
     "name": "stdout",
     "output_type": "stream",
     "text": [
      "Optimization terminated successfully.\n",
      "         Current function value: 0.177384\n",
      "         Iterations 8\n"
     ]
    },
    {
     "data": {
      "text/html": [
       "<table class=\"simpletable\">\n",
       "<caption>Logit Regression Results</caption>\n",
       "<tr>\n",
       "  <th>Dep. Variable:</th>    <td>NACIDO_VIVO_INV</td> <th>  No. Observations:  </th>   <td>1231124</td>  \n",
       "</tr>\n",
       "<tr>\n",
       "  <th>Model:</th>                 <td>Logit</td>      <th>  Df Residuals:      </th>   <td>1231067</td>  \n",
       "</tr>\n",
       "<tr>\n",
       "  <th>Method:</th>                 <td>MLE</td>       <th>  Df Model:          </th>   <td>    56</td>   \n",
       "</tr>\n",
       "<tr>\n",
       "  <th>Date:</th>            <td>Sun, 02 Aug 2020</td> <th>  Pseudo R-squ.:     </th>   <td>0.2052</td>   \n",
       "</tr>\n",
       "<tr>\n",
       "  <th>Time:</th>                <td>23:12:44</td>     <th>  Log-Likelihood:    </th> <td>-2.1838e+05</td>\n",
       "</tr>\n",
       "<tr>\n",
       "  <th>converged:</th>             <td>True</td>       <th>  LL-Null:           </th> <td>-2.7475e+05</td>\n",
       "</tr>\n",
       "<tr>\n",
       "  <th>Covariance Type:</th>     <td>nonrobust</td>    <th>  LLR p-value:       </th>   <td> 0.000</td>   \n",
       "</tr>\n",
       "</table>\n",
       "<table class=\"simpletable\">\n",
       "<tr>\n",
       "               <td></td>                  <th>coef</th>     <th>std err</th>      <th>z</th>      <th>P>|z|</th>  <th>[0.025</th>    <th>0.975]</th>  \n",
       "</tr>\n",
       "<tr>\n",
       "  <th>NUMERO_EMBARAZOS</th>            <td>    0.0368</td> <td>    0.000</td> <td>  132.197</td> <td> 0.000</td> <td>    0.036</td> <td>    0.037</td>\n",
       "</tr>\n",
       "<tr>\n",
       "  <th>Intercept</th>                   <td>   -2.6547</td> <td>    0.083</td> <td>  -31.989</td> <td> 0.000</td> <td>   -2.817</td> <td>   -2.492</td>\n",
       "</tr>\n",
       "<tr>\n",
       "  <th>SEG_SOCIAL_CAT_2</th>            <td>    0.4082</td> <td>    0.016</td> <td>   25.842</td> <td> 0.000</td> <td>    0.377</td> <td>    0.439</td>\n",
       "</tr>\n",
       "<tr>\n",
       "  <th>SEG_SOCIAL_CAT_3</th>            <td>   -0.0640</td> <td>    0.011</td> <td>   -5.911</td> <td> 0.000</td> <td>   -0.085</td> <td>   -0.043</td>\n",
       "</tr>\n",
       "<tr>\n",
       "  <th>SEG_SOCIAL_CAT_4</th>            <td>   -0.0954</td> <td>    0.029</td> <td>   -3.247</td> <td> 0.001</td> <td>   -0.153</td> <td>   -0.038</td>\n",
       "</tr>\n",
       "<tr>\n",
       "  <th>SEG_SOCIAL_CAT_5</th>            <td>   -0.3288</td> <td>    0.149</td> <td>   -2.205</td> <td> 0.027</td> <td>   -0.621</td> <td>   -0.037</td>\n",
       "</tr>\n",
       "<tr>\n",
       "  <th>SEG_SOCIAL_CAT_9</th>            <td>   -2.4961</td> <td>    0.085</td> <td>  -29.389</td> <td> 0.000</td> <td>   -2.663</td> <td>   -2.330</td>\n",
       "</tr>\n",
       "<tr>\n",
       "  <th>NIV_EDUCATIVO_M_CAT_2</th>       <td>   -0.3141</td> <td>    0.083</td> <td>   -3.788</td> <td> 0.000</td> <td>   -0.477</td> <td>   -0.152</td>\n",
       "</tr>\n",
       "<tr>\n",
       "  <th>NIV_EDUCATIVO_M_CAT_3</th>       <td>   -0.1777</td> <td>    0.082</td> <td>   -2.157</td> <td> 0.031</td> <td>   -0.339</td> <td>   -0.016</td>\n",
       "</tr>\n",
       "<tr>\n",
       "  <th>NIV_EDUCATIVO_M_CAT_4</th>       <td>   -0.2863</td> <td>    0.084</td> <td>   -3.422</td> <td> 0.001</td> <td>   -0.450</td> <td>   -0.122</td>\n",
       "</tr>\n",
       "<tr>\n",
       "  <th>NIV_EDUCATIVO_M_CAT_5</th>       <td>   -0.0305</td> <td>    0.088</td> <td>   -0.347</td> <td> 0.728</td> <td>   -0.203</td> <td>    0.142</td>\n",
       "</tr>\n",
       "<tr>\n",
       "  <th>NIV_EDUCATIVO_M_CAT_6</th>       <td>    0.7667</td> <td>    0.117</td> <td>    6.552</td> <td> 0.000</td> <td>    0.537</td> <td>    0.996</td>\n",
       "</tr>\n",
       "<tr>\n",
       "  <th>NIV_EDUCATIVO_M_CAT_7</th>       <td>   -0.3987</td> <td>    0.085</td> <td>   -4.705</td> <td> 0.000</td> <td>   -0.565</td> <td>   -0.233</td>\n",
       "</tr>\n",
       "<tr>\n",
       "  <th>NIV_EDUCATIVO_M_CAT_8</th>       <td>   -0.5281</td> <td>    0.087</td> <td>   -6.091</td> <td> 0.000</td> <td>   -0.698</td> <td>   -0.358</td>\n",
       "</tr>\n",
       "<tr>\n",
       "  <th>NIV_EDUCATIVO_M_CAT_9</th>       <td>    1.1522</td> <td>    0.084</td> <td>   13.790</td> <td> 0.000</td> <td>    0.988</td> <td>    1.316</td>\n",
       "</tr>\n",
       "<tr>\n",
       "  <th>NIV_EDUCATIVO_M_CAT_10</th>      <td>   -0.6388</td> <td>    0.100</td> <td>   -6.408</td> <td> 0.000</td> <td>   -0.834</td> <td>   -0.443</td>\n",
       "</tr>\n",
       "<tr>\n",
       "  <th>TIPO_EMBARAZO_CAT_2</th>         <td>    0.3644</td> <td>    0.030</td> <td>   12.338</td> <td> 0.000</td> <td>    0.306</td> <td>    0.422</td>\n",
       "</tr>\n",
       "<tr>\n",
       "  <th>TIPO_EMBARAZO_CAT_3</th>         <td>    1.2873</td> <td>    0.134</td> <td>    9.608</td> <td> 0.000</td> <td>    1.025</td> <td>    1.550</td>\n",
       "</tr>\n",
       "<tr>\n",
       "  <th>TIPO_EMBARAZO_CAT_4</th>         <td>    1.7179</td> <td>    0.218</td> <td>    7.889</td> <td> 0.000</td> <td>    1.291</td> <td>    2.145</td>\n",
       "</tr>\n",
       "<tr>\n",
       "  <th>TIPO_EMBARAZO_CAT_9</th>         <td>    4.3008</td> <td>    0.020</td> <td>  215.505</td> <td> 0.000</td> <td>    4.262</td> <td>    4.340</td>\n",
       "</tr>\n",
       "<tr>\n",
       "  <th>AREA_RESIDENCIA_HAB_CAT_2.0</th> <td>   -0.3741</td> <td>    0.020</td> <td>  -18.952</td> <td> 0.000</td> <td>   -0.413</td> <td>   -0.335</td>\n",
       "</tr>\n",
       "<tr>\n",
       "  <th>AREA_RESIDENCIA_HAB_CAT_3.0</th> <td>   -0.4197</td> <td>    0.015</td> <td>  -27.453</td> <td> 0.000</td> <td>   -0.450</td> <td>   -0.390</td>\n",
       "</tr>\n",
       "<tr>\n",
       "  <th>AREA_RESIDENCIA_HAB_CAT_9.0</th> <td>   -1.9593</td> <td>    0.086</td> <td>  -22.746</td> <td> 0.000</td> <td>   -2.128</td> <td>   -1.790</td>\n",
       "</tr>\n",
       "<tr>\n",
       "  <th>DEPTO_RESIDENCIA_1</th>          <td>    0.8275</td> <td>    0.160</td> <td>    5.159</td> <td> 0.000</td> <td>    0.513</td> <td>    1.142</td>\n",
       "</tr>\n",
       "<tr>\n",
       "  <th>DEPTO_RESIDENCIA_5</th>          <td>   -0.1262</td> <td>    0.015</td> <td>   -8.283</td> <td> 0.000</td> <td>   -0.156</td> <td>   -0.096</td>\n",
       "</tr>\n",
       "<tr>\n",
       "  <th>DEPTO_RESIDENCIA_8</th>          <td>   -1.6415</td> <td>    0.032</td> <td>  -50.831</td> <td> 0.000</td> <td>   -1.705</td> <td>   -1.578</td>\n",
       "</tr>\n",
       "<tr>\n",
       "  <th>DEPTO_RESIDENCIA_13</th>         <td>   -1.2467</td> <td>    0.030</td> <td>  -41.692</td> <td> 0.000</td> <td>   -1.305</td> <td>   -1.188</td>\n",
       "</tr>\n",
       "<tr>\n",
       "  <th>DEPTO_RESIDENCIA_15</th>         <td>   -0.8089</td> <td>    0.040</td> <td>  -20.382</td> <td> 0.000</td> <td>   -0.887</td> <td>   -0.731</td>\n",
       "</tr>\n",
       "<tr>\n",
       "  <th>DEPTO_RESIDENCIA_17</th>         <td>   -0.2608</td> <td>    0.037</td> <td>   -7.005</td> <td> 0.000</td> <td>   -0.334</td> <td>   -0.188</td>\n",
       "</tr>\n",
       "<tr>\n",
       "  <th>DEPTO_RESIDENCIA_18</th>         <td>   -0.8723</td> <td>    0.055</td> <td>  -15.896</td> <td> 0.000</td> <td>   -0.980</td> <td>   -0.765</td>\n",
       "</tr>\n",
       "<tr>\n",
       "  <th>DEPTO_RESIDENCIA_19</th>         <td>   -0.2819</td> <td>    0.031</td> <td>   -9.074</td> <td> 0.000</td> <td>   -0.343</td> <td>   -0.221</td>\n",
       "</tr>\n",
       "<tr>\n",
       "  <th>DEPTO_RESIDENCIA_20</th>         <td>   -1.8721</td> <td>    0.047</td> <td>  -39.552</td> <td> 0.000</td> <td>   -1.965</td> <td>   -1.779</td>\n",
       "</tr>\n",
       "<tr>\n",
       "  <th>DEPTO_RESIDENCIA_23</th>         <td>    0.0101</td> <td>    0.022</td> <td>    0.459</td> <td> 0.646</td> <td>   -0.033</td> <td>    0.053</td>\n",
       "</tr>\n",
       "<tr>\n",
       "  <th>DEPTO_RESIDENCIA_25</th>         <td>    0.0628</td> <td>    0.019</td> <td>    3.263</td> <td> 0.001</td> <td>    0.025</td> <td>    0.101</td>\n",
       "</tr>\n",
       "<tr>\n",
       "  <th>DEPTO_RESIDENCIA_27</th>         <td>   -1.5314</td> <td>    0.073</td> <td>  -20.859</td> <td> 0.000</td> <td>   -1.675</td> <td>   -1.387</td>\n",
       "</tr>\n",
       "<tr>\n",
       "  <th>DEPTO_RESIDENCIA_41</th>         <td>    0.5214</td> <td>    0.021</td> <td>   24.469</td> <td> 0.000</td> <td>    0.480</td> <td>    0.563</td>\n",
       "</tr>\n",
       "<tr>\n",
       "  <th>DEPTO_RESIDENCIA_44</th>         <td>   -2.1516</td> <td>    0.061</td> <td>  -35.392</td> <td> 0.000</td> <td>   -2.271</td> <td>   -2.032</td>\n",
       "</tr>\n",
       "<tr>\n",
       "  <th>DEPTO_RESIDENCIA_47</th>         <td>   -1.1204</td> <td>    0.035</td> <td>  -32.215</td> <td> 0.000</td> <td>   -1.189</td> <td>   -1.052</td>\n",
       "</tr>\n",
       "<tr>\n",
       "  <th>DEPTO_RESIDENCIA_50</th>         <td>    0.2153</td> <td>    0.024</td> <td>    8.965</td> <td> 0.000</td> <td>    0.168</td> <td>    0.262</td>\n",
       "</tr>\n",
       "<tr>\n",
       "  <th>DEPTO_RESIDENCIA_52</th>         <td>    0.1726</td> <td>    0.025</td> <td>    6.907</td> <td> 0.000</td> <td>    0.124</td> <td>    0.222</td>\n",
       "</tr>\n",
       "<tr>\n",
       "  <th>DEPTO_RESIDENCIA_54</th>         <td>   -0.7304</td> <td>    0.031</td> <td>  -23.484</td> <td> 0.000</td> <td>   -0.791</td> <td>   -0.669</td>\n",
       "</tr>\n",
       "<tr>\n",
       "  <th>DEPTO_RESIDENCIA_63</th>         <td>    0.0476</td> <td>    0.040</td> <td>    1.194</td> <td> 0.232</td> <td>   -0.031</td> <td>    0.126</td>\n",
       "</tr>\n",
       "<tr>\n",
       "  <th>DEPTO_RESIDENCIA_66</th>         <td>    0.0282</td> <td>    0.031</td> <td>    0.914</td> <td> 0.361</td> <td>   -0.032</td> <td>    0.089</td>\n",
       "</tr>\n",
       "<tr>\n",
       "  <th>DEPTO_RESIDENCIA_68</th>         <td>   -0.9340</td> <td>    0.029</td> <td>  -32.058</td> <td> 0.000</td> <td>   -0.991</td> <td>   -0.877</td>\n",
       "</tr>\n",
       "<tr>\n",
       "  <th>DEPTO_RESIDENCIA_70</th>         <td>   -0.4178</td> <td>    0.032</td> <td>  -12.884</td> <td> 0.000</td> <td>   -0.481</td> <td>   -0.354</td>\n",
       "</tr>\n",
       "<tr>\n",
       "  <th>DEPTO_RESIDENCIA_73</th>         <td>    0.0016</td> <td>    0.025</td> <td>    0.065</td> <td> 0.948</td> <td>   -0.048</td> <td>    0.051</td>\n",
       "</tr>\n",
       "<tr>\n",
       "  <th>DEPTO_RESIDENCIA_75</th>         <td>    1.8413</td> <td>    0.134</td> <td>   13.771</td> <td> 0.000</td> <td>    1.579</td> <td>    2.103</td>\n",
       "</tr>\n",
       "<tr>\n",
       "  <th>DEPTO_RESIDENCIA_76</th>         <td>   -0.2297</td> <td>    0.017</td> <td>  -13.234</td> <td> 0.000</td> <td>   -0.264</td> <td>   -0.196</td>\n",
       "</tr>\n",
       "<tr>\n",
       "  <th>DEPTO_RESIDENCIA_81</th>         <td>    0.3096</td> <td>    0.042</td> <td>    7.358</td> <td> 0.000</td> <td>    0.227</td> <td>    0.392</td>\n",
       "</tr>\n",
       "<tr>\n",
       "  <th>DEPTO_RESIDENCIA_85</th>         <td>   -1.4494</td> <td>    0.074</td> <td>  -19.642</td> <td> 0.000</td> <td>   -1.594</td> <td>   -1.305</td>\n",
       "</tr>\n",
       "<tr>\n",
       "  <th>DEPTO_RESIDENCIA_86</th>         <td>    0.0841</td> <td>    0.048</td> <td>    1.770</td> <td> 0.077</td> <td>   -0.009</td> <td>    0.177</td>\n",
       "</tr>\n",
       "<tr>\n",
       "  <th>DEPTO_RESIDENCIA_88</th>         <td>    0.9293</td> <td>    0.071</td> <td>   13.132</td> <td> 0.000</td> <td>    0.791</td> <td>    1.068</td>\n",
       "</tr>\n",
       "<tr>\n",
       "  <th>DEPTO_RESIDENCIA_91</th>         <td>   -1.6286</td> <td>    0.158</td> <td>  -10.301</td> <td> 0.000</td> <td>   -1.938</td> <td>   -1.319</td>\n",
       "</tr>\n",
       "<tr>\n",
       "  <th>DEPTO_RESIDENCIA_94</th>         <td>   -0.4097</td> <td>    0.132</td> <td>   -3.092</td> <td> 0.002</td> <td>   -0.669</td> <td>   -0.150</td>\n",
       "</tr>\n",
       "<tr>\n",
       "  <th>DEPTO_RESIDENCIA_95</th>         <td>   -0.5962</td> <td>    0.105</td> <td>   -5.697</td> <td> 0.000</td> <td>   -0.801</td> <td>   -0.391</td>\n",
       "</tr>\n",
       "<tr>\n",
       "  <th>DEPTO_RESIDENCIA_97</th>         <td>   -1.8449</td> <td>    0.257</td> <td>   -7.166</td> <td> 0.000</td> <td>   -2.349</td> <td>   -1.340</td>\n",
       "</tr>\n",
       "<tr>\n",
       "  <th>DEPTO_RESIDENCIA_99</th>         <td>   -1.0453</td> <td>    0.134</td> <td>   -7.781</td> <td> 0.000</td> <td>   -1.309</td> <td>   -0.782</td>\n",
       "</tr>\n",
       "</table>"
      ],
      "text/plain": [
       "<class 'statsmodels.iolib.summary.Summary'>\n",
       "\"\"\"\n",
       "                           Logit Regression Results                           \n",
       "==============================================================================\n",
       "Dep. Variable:        NACIDO_VIVO_INV   No. Observations:              1231124\n",
       "Model:                          Logit   Df Residuals:                  1231067\n",
       "Method:                           MLE   Df Model:                           56\n",
       "Date:                Sun, 02 Aug 2020   Pseudo R-squ.:                  0.2052\n",
       "Time:                        23:12:44   Log-Likelihood:            -2.1838e+05\n",
       "converged:                       True   LL-Null:                   -2.7475e+05\n",
       "Covariance Type:            nonrobust   LLR p-value:                     0.000\n",
       "===============================================================================================\n",
       "                                  coef    std err          z      P>|z|      [0.025      0.975]\n",
       "-----------------------------------------------------------------------------------------------\n",
       "NUMERO_EMBARAZOS                0.0368      0.000    132.197      0.000       0.036       0.037\n",
       "Intercept                      -2.6547      0.083    -31.989      0.000      -2.817      -2.492\n",
       "SEG_SOCIAL_CAT_2                0.4082      0.016     25.842      0.000       0.377       0.439\n",
       "SEG_SOCIAL_CAT_3               -0.0640      0.011     -5.911      0.000      -0.085      -0.043\n",
       "SEG_SOCIAL_CAT_4               -0.0954      0.029     -3.247      0.001      -0.153      -0.038\n",
       "SEG_SOCIAL_CAT_5               -0.3288      0.149     -2.205      0.027      -0.621      -0.037\n",
       "SEG_SOCIAL_CAT_9               -2.4961      0.085    -29.389      0.000      -2.663      -2.330\n",
       "NIV_EDUCATIVO_M_CAT_2          -0.3141      0.083     -3.788      0.000      -0.477      -0.152\n",
       "NIV_EDUCATIVO_M_CAT_3          -0.1777      0.082     -2.157      0.031      -0.339      -0.016\n",
       "NIV_EDUCATIVO_M_CAT_4          -0.2863      0.084     -3.422      0.001      -0.450      -0.122\n",
       "NIV_EDUCATIVO_M_CAT_5          -0.0305      0.088     -0.347      0.728      -0.203       0.142\n",
       "NIV_EDUCATIVO_M_CAT_6           0.7667      0.117      6.552      0.000       0.537       0.996\n",
       "NIV_EDUCATIVO_M_CAT_7          -0.3987      0.085     -4.705      0.000      -0.565      -0.233\n",
       "NIV_EDUCATIVO_M_CAT_8          -0.5281      0.087     -6.091      0.000      -0.698      -0.358\n",
       "NIV_EDUCATIVO_M_CAT_9           1.1522      0.084     13.790      0.000       0.988       1.316\n",
       "NIV_EDUCATIVO_M_CAT_10         -0.6388      0.100     -6.408      0.000      -0.834      -0.443\n",
       "TIPO_EMBARAZO_CAT_2             0.3644      0.030     12.338      0.000       0.306       0.422\n",
       "TIPO_EMBARAZO_CAT_3             1.2873      0.134      9.608      0.000       1.025       1.550\n",
       "TIPO_EMBARAZO_CAT_4             1.7179      0.218      7.889      0.000       1.291       2.145\n",
       "TIPO_EMBARAZO_CAT_9             4.3008      0.020    215.505      0.000       4.262       4.340\n",
       "AREA_RESIDENCIA_HAB_CAT_2.0    -0.3741      0.020    -18.952      0.000      -0.413      -0.335\n",
       "AREA_RESIDENCIA_HAB_CAT_3.0    -0.4197      0.015    -27.453      0.000      -0.450      -0.390\n",
       "AREA_RESIDENCIA_HAB_CAT_9.0    -1.9593      0.086    -22.746      0.000      -2.128      -1.790\n",
       "DEPTO_RESIDENCIA_1              0.8275      0.160      5.159      0.000       0.513       1.142\n",
       "DEPTO_RESIDENCIA_5             -0.1262      0.015     -8.283      0.000      -0.156      -0.096\n",
       "DEPTO_RESIDENCIA_8             -1.6415      0.032    -50.831      0.000      -1.705      -1.578\n",
       "DEPTO_RESIDENCIA_13            -1.2467      0.030    -41.692      0.000      -1.305      -1.188\n",
       "DEPTO_RESIDENCIA_15            -0.8089      0.040    -20.382      0.000      -0.887      -0.731\n",
       "DEPTO_RESIDENCIA_17            -0.2608      0.037     -7.005      0.000      -0.334      -0.188\n",
       "DEPTO_RESIDENCIA_18            -0.8723      0.055    -15.896      0.000      -0.980      -0.765\n",
       "DEPTO_RESIDENCIA_19            -0.2819      0.031     -9.074      0.000      -0.343      -0.221\n",
       "DEPTO_RESIDENCIA_20            -1.8721      0.047    -39.552      0.000      -1.965      -1.779\n",
       "DEPTO_RESIDENCIA_23             0.0101      0.022      0.459      0.646      -0.033       0.053\n",
       "DEPTO_RESIDENCIA_25             0.0628      0.019      3.263      0.001       0.025       0.101\n",
       "DEPTO_RESIDENCIA_27            -1.5314      0.073    -20.859      0.000      -1.675      -1.387\n",
       "DEPTO_RESIDENCIA_41             0.5214      0.021     24.469      0.000       0.480       0.563\n",
       "DEPTO_RESIDENCIA_44            -2.1516      0.061    -35.392      0.000      -2.271      -2.032\n",
       "DEPTO_RESIDENCIA_47            -1.1204      0.035    -32.215      0.000      -1.189      -1.052\n",
       "DEPTO_RESIDENCIA_50             0.2153      0.024      8.965      0.000       0.168       0.262\n",
       "DEPTO_RESIDENCIA_52             0.1726      0.025      6.907      0.000       0.124       0.222\n",
       "DEPTO_RESIDENCIA_54            -0.7304      0.031    -23.484      0.000      -0.791      -0.669\n",
       "DEPTO_RESIDENCIA_63             0.0476      0.040      1.194      0.232      -0.031       0.126\n",
       "DEPTO_RESIDENCIA_66             0.0282      0.031      0.914      0.361      -0.032       0.089\n",
       "DEPTO_RESIDENCIA_68            -0.9340      0.029    -32.058      0.000      -0.991      -0.877\n",
       "DEPTO_RESIDENCIA_70            -0.4178      0.032    -12.884      0.000      -0.481      -0.354\n",
       "DEPTO_RESIDENCIA_73             0.0016      0.025      0.065      0.948      -0.048       0.051\n",
       "DEPTO_RESIDENCIA_75             1.8413      0.134     13.771      0.000       1.579       2.103\n",
       "DEPTO_RESIDENCIA_76            -0.2297      0.017    -13.234      0.000      -0.264      -0.196\n",
       "DEPTO_RESIDENCIA_81             0.3096      0.042      7.358      0.000       0.227       0.392\n",
       "DEPTO_RESIDENCIA_85            -1.4494      0.074    -19.642      0.000      -1.594      -1.305\n",
       "DEPTO_RESIDENCIA_86             0.0841      0.048      1.770      0.077      -0.009       0.177\n",
       "DEPTO_RESIDENCIA_88             0.9293      0.071     13.132      0.000       0.791       1.068\n",
       "DEPTO_RESIDENCIA_91            -1.6286      0.158    -10.301      0.000      -1.938      -1.319\n",
       "DEPTO_RESIDENCIA_94            -0.4097      0.132     -3.092      0.002      -0.669      -0.150\n",
       "DEPTO_RESIDENCIA_95            -0.5962      0.105     -5.697      0.000      -0.801      -0.391\n",
       "DEPTO_RESIDENCIA_97            -1.8449      0.257     -7.166      0.000      -2.349      -1.340\n",
       "DEPTO_RESIDENCIA_99            -1.0453      0.134     -7.781      0.000      -1.309      -0.782\n",
       "===============================================================================================\n",
       "\"\"\""
      ]
     },
     "execution_count": 15,
     "metadata": {
      "tags": []
     },
     "output_type": "execute_result"
    }
   ],
   "source": [
    "logitDeptos2 = sm.Logit(df_dummiesDeptos2['NACIDO_VIVO_INV'], df_dummiesDeptos2[columnasInterDeptos2])\n",
    "logit_res_Deptos2 = logitDeptos2.fit()\n",
    "logit_res_Deptos2.summary()"
   ]
  },
  {
   "cell_type": "markdown",
   "metadata": {
    "colab_type": "text",
    "id": "_q4ySa3OJH_0"
   },
   "source": [
    "#ROC CURVE"
   ]
  },
  {
   "cell_type": "code",
   "execution_count": null,
   "metadata": {
    "colab": {
     "base_uri": "https://localhost:8080/",
     "height": 552
    },
    "colab_type": "code",
    "id": "4hYO17OX1SOb",
    "outputId": "0d56c4bc-8120-4b51-ceae-68e9b367825f"
   },
   "outputs": [
    {
     "data": {
      "image/png": "[encoded data removed]",
      "text/plain": [
       "<Figure size 432x288 with 1 Axes>"
      ]
     },
     "metadata": {
      "tags": []
     },
     "output_type": "display_data"
    },
    {
     "data": {
      "image/png": "[encoded data removed]",
      "text/plain": [
       "<Figure size 432x288 with 1 Axes>"
      ]
     },
     "metadata": {
      "tags": []
     },
     "output_type": "display_data"
    }
   ],
   "source": [
    "#ROC Curves for the logistic regression \n",
    "\n",
    "pscoreLogitDummies = logit_res_Deptos2.predict()\n",
    "plt.hist((pscoreLogitDummies),density=True, bins = 100);\n",
    "\n",
    "\n",
    "roc_p = metrics.roc_curve(df_dummiesDeptos2['NACIDO_VIVO_INV'], pscoreLogitDummies)\n",
    "auc_p = metrics.auc( roc_p[0], roc_p[1] )\n",
    "plt.figure()\n",
    "line_width = 2\n",
    "plt.plot(roc_p[0], roc_p[1], color='darkorange', lw=line_width,\n",
    "         label=f\"ROC curve for the logistic regression model(AUC = {auc_p:0.2f})\")\n",
    "plt.plot([0, 1], [0, 1], color='navy', lw=line_width, linestyle='--', label='Random guess')\n",
    "plt.xlim([0.0, 1.0])\n",
    "plt.ylim([0.0, 1.05])\n",
    "plt.xlabel('False Positive Rate')\n",
    "plt.ylabel('True Positive Rate')\n",
    "plt.title('Fetal Death Classification')\n",
    "plt.legend(loc='lower right')\n",
    "plt.show()"
   ]
  },
  {
   "cell_type": "code",
   "execution_count": null,
   "metadata": {
    "colab": {
     "base_uri": "https://localhost:8080/",
     "height": 365
    },
    "colab_type": "code",
    "id": "Of67Nmzb1VZy",
    "outputId": "cdd6b891-fdfe-47c6-f1ba-399164798c74"
   },
   "outputs": [
    {
     "data": {
      "image/png": "[encoded data removed]",
      "text/plain": [
       "<Figure size 360x360 with 2 Axes>"
      ]
     },
     "metadata": {
      "tags": []
     },
     "output_type": "display_data"
    }
   ],
   "source": [
    "#Confussion Matrix \n",
    "cm = logit_res_Deptos2.pred_table(threshold=0.5)\n",
    "plt.figure(figsize=(5,5))\n",
    "cmap = sns.diverging_palette(168,22,s=94,l=56, as_cmap=True)    # Draw the heatmap with the mask and correct aspect ratio\n",
    "sns.heatmap(cm, cmap = cmap, annot=True,annot_kws={\"size\": 20})\n",
    "# labels, title and ticks\n",
    "plt.xlabel('Predicted values',fontsize=18)\n",
    "plt.ylabel('Real values',fontsize=18)\n",
    "plt.title('Confusion matrix',fontsize=24)\n",
    "plt.tight_layout()"
   ]
  },
  {
   "cell_type": "code",
   "execution_count": null,
   "metadata": {
    "colab": {},
    "colab_type": "code",
    "id": "Yw--cOVSJ4J7"
   },
   "outputs": [],
   "source": []
  },
  {
   "cell_type": "markdown",
   "metadata": {
    "colab_type": "text",
    "id": "zUn7XbNhJr4i"
   },
   "source": [
    "#Graphing the coefficients obtained in the logistic regression"
   ]
  },
  {
   "cell_type": "code",
   "execution_count": null,
   "metadata": {
    "colab": {
     "base_uri": "https://localhost:8080/",
     "height": 1000
    },
    "colab_type": "code",
    "id": "mLeIRSzUMPm0",
    "outputId": "039b3d15-eca7-4f6f-eb51-3c129495f494"
   },
   "outputs": [
    {
     "data": {
      "text/plain": [
       "<bound method NDFrame.head of NUMERO_EMBARAZOS               0.036759\n",
       "Intercept                     -2.654684\n",
       "SEG_SOCIAL_CAT_2               0.408191\n",
       "SEG_SOCIAL_CAT_3              -0.063989\n",
       "SEG_SOCIAL_CAT_4              -0.095403\n",
       "SEG_SOCIAL_CAT_5              -0.328794\n",
       "SEG_SOCIAL_CAT_9              -2.496089\n",
       "NIV_EDUCATIVO_M_CAT_2         -0.314089\n",
       "NIV_EDUCATIVO_M_CAT_3         -0.177745\n",
       "NIV_EDUCATIVO_M_CAT_4         -0.286268\n",
       "NIV_EDUCATIVO_M_CAT_5         -0.030505\n",
       "NIV_EDUCATIVO_M_CAT_6          0.766688\n",
       "NIV_EDUCATIVO_M_CAT_7         -0.398750\n",
       "NIV_EDUCATIVO_M_CAT_8         -0.528104\n",
       "NIV_EDUCATIVO_M_CAT_9          1.152241\n",
       "NIV_EDUCATIVO_M_CAT_10        -0.638836\n",
       "TIPO_EMBARAZO_CAT_2            0.364356\n",
       "TIPO_EMBARAZO_CAT_3            1.287274\n",
       "TIPO_EMBARAZO_CAT_4            1.717879\n",
       "TIPO_EMBARAZO_CAT_9            4.300801\n",
       "AREA_RESIDENCIA_HAB_CAT_2.0   -0.374051\n",
       "AREA_RESIDENCIA_HAB_CAT_3.0   -0.419718\n",
       "AREA_RESIDENCIA_HAB_CAT_9.0   -1.959283\n",
       "DEPTO_RESIDENCIA_1             0.827520\n",
       "DEPTO_RESIDENCIA_5            -0.126194\n",
       "DEPTO_RESIDENCIA_8            -1.641525\n",
       "DEPTO_RESIDENCIA_13           -1.246678\n",
       "DEPTO_RESIDENCIA_15           -0.808883\n",
       "DEPTO_RESIDENCIA_17           -0.260805\n",
       "DEPTO_RESIDENCIA_18           -0.872283\n",
       "DEPTO_RESIDENCIA_19           -0.281882\n",
       "DEPTO_RESIDENCIA_20           -1.872055\n",
       "DEPTO_RESIDENCIA_23            0.010094\n",
       "DEPTO_RESIDENCIA_25            0.062801\n",
       "DEPTO_RESIDENCIA_27           -1.531352\n",
       "DEPTO_RESIDENCIA_41            0.521446\n",
       "DEPTO_RESIDENCIA_44           -2.151642\n",
       "DEPTO_RESIDENCIA_47           -1.120390\n",
       "DEPTO_RESIDENCIA_50            0.215271\n",
       "DEPTO_RESIDENCIA_52            0.172581\n",
       "DEPTO_RESIDENCIA_54           -0.730449\n",
       "DEPTO_RESIDENCIA_63            0.047606\n",
       "DEPTO_RESIDENCIA_66            0.028183\n",
       "DEPTO_RESIDENCIA_68           -0.933967\n",
       "DEPTO_RESIDENCIA_70           -0.417809\n",
       "DEPTO_RESIDENCIA_73            0.001633\n",
       "DEPTO_RESIDENCIA_75            1.841323\n",
       "DEPTO_RESIDENCIA_76           -0.229723\n",
       "DEPTO_RESIDENCIA_81            0.309571\n",
       "DEPTO_RESIDENCIA_85           -1.449363\n",
       "DEPTO_RESIDENCIA_86            0.084112\n",
       "DEPTO_RESIDENCIA_88            0.929280\n",
       "DEPTO_RESIDENCIA_91           -1.628608\n",
       "DEPTO_RESIDENCIA_94           -0.409682\n",
       "DEPTO_RESIDENCIA_95           -0.596161\n",
       "DEPTO_RESIDENCIA_97           -1.844854\n",
       "DEPTO_RESIDENCIA_99           -1.045282\n",
       "dtype: float64>"
      ]
     },
     "execution_count": 18,
     "metadata": {
      "tags": []
     },
     "output_type": "execute_result"
    }
   ],
   "source": [
    "#Getting the coefficients from the model\n",
    "coeffs = logit_res_Deptos2.params\n",
    "coeffs.head"
   ]
  },
  {
   "cell_type": "code",
   "execution_count": null,
   "metadata": {
    "colab": {
     "base_uri": "https://localhost:8080/",
     "height": 127
    },
    "colab_type": "code",
    "id": "TC8FUaXvQSZ7",
    "outputId": "b82caef2-a83b-42b6-a918-da03e1508734"
   },
   "outputs": [
    {
     "data": {
      "text/plain": [
       "2    0.408191\n",
       "3   -0.063989\n",
       "4   -0.095403\n",
       "5   -0.328794\n",
       "9   -2.496089\n",
       "Name: 0, dtype: float64"
      ]
     },
     "execution_count": 19,
     "metadata": {
      "tags": []
     },
     "output_type": "execute_result"
    }
   ],
   "source": [
    "seg_soc = coeffs[coeffs.index.str.startswith('SEG_SOC')].copy()\n",
    "seg_soc.index = seg_soc.index.str[-1].astype(int)\n",
    "seg_soc.sort_index(inplace=True)\n",
    "seg_soc.name = \"0\"\n",
    "seg_soc"
   ]
  },
  {
   "cell_type": "code",
   "execution_count": null,
   "metadata": {
    "colab": {},
    "colab_type": "code",
    "id": "BMD4xY0gQpgT"
   },
   "outputs": [],
   "source": [
    "tipo_emb = coeffs[coeffs.index.str.startswith('TIPO_EMB')].copy()\n",
    "tipo_emb.index = tipo_emb.index.str[-1].astype(int)\n",
    "tipo_emb.sort_index(inplace=True)"
   ]
  },
  {
   "cell_type": "code",
   "execution_count": null,
   "metadata": {
    "colab": {
     "base_uri": "https://localhost:8080/",
     "height": 201
    },
    "colab_type": "code",
    "id": "8LwdQ0anQr9L",
    "outputId": "d7dd8e2d-80b4-4fc3-fe0b-1bbaf4c520a0"
   },
   "outputs": [
    {
     "data": {
      "text/plain": [
       "2    -0.314089\n",
       "3    -0.177745\n",
       "4    -0.286268\n",
       "5    -0.030505\n",
       "6     0.766688\n",
       "7    -0.398750\n",
       "8    -0.528104\n",
       "9     1.152241\n",
       "10   -0.638836\n",
       "Name: 0, dtype: float64"
      ]
     },
     "execution_count": 21,
     "metadata": {
      "tags": []
     },
     "output_type": "execute_result"
    }
   ],
   "source": [
    "niv_edu = coeffs[coeffs.index.str.startswith('NIV_EDU')].copy()\n",
    "niv_edu.index = niv_edu.index.str[-1:].astype(int)\n",
    "niv_edu.loc[10] = niv_edu.loc[0]\n",
    "niv_edu=niv_edu.drop(0)\n",
    "niv_edu.sort_index(inplace=True)\n",
    "niv_edu.name = \"0\"\n",
    "niv_edu"
   ]
  },
  {
   "cell_type": "code",
   "execution_count": null,
   "metadata": {
    "colab": {
     "base_uri": "https://localhost:8080/",
     "height": 90
    },
    "colab_type": "code",
    "id": "Zgn_4n83QtrE",
    "outputId": "6330f98c-97e8-4745-d2fe-260f5cc3774b"
   },
   "outputs": [
    {
     "data": {
      "text/plain": [
       "2.0   -0.374051\n",
       "3.0   -0.419718\n",
       "9.0   -1.959283\n",
       "Name: 0, dtype: float64"
      ]
     },
     "execution_count": 22,
     "metadata": {
      "tags": []
     },
     "output_type": "execute_result"
    }
   ],
   "source": [
    "area_res = coeffs[coeffs.index.str.startswith('AREA')].copy()\n",
    "area_res.index = area_res.index.str[-3:].astype(float)\n",
    "area_res.name = \"0\"\n",
    "area_res"
   ]
  },
  {
   "cell_type": "code",
   "execution_count": null,
   "metadata": {
    "colab": {
     "base_uri": "https://localhost:8080/",
     "height": 678
    },
    "colab_type": "code",
    "id": "HbB7R_3MRYY7",
    "outputId": "8d4ccfda-956b-4ae4-a8b7-39e58e7d4788"
   },
   "outputs": [
    {
     "data": {
      "text/plain": [
       "01    0.827520\n",
       "05   -0.126194\n",
       "08   -1.641525\n",
       "13   -1.246678\n",
       "15   -0.808883\n",
       "17   -0.260805\n",
       "18   -0.872283\n",
       "19   -0.281882\n",
       "20   -1.872055\n",
       "23    0.010094\n",
       "25    0.062801\n",
       "27   -1.531352\n",
       "41    0.521446\n",
       "44   -2.151642\n",
       "47   -1.120390\n",
       "50    0.215271\n",
       "52    0.172581\n",
       "54   -0.730449\n",
       "63    0.047606\n",
       "66    0.028183\n",
       "68   -0.933967\n",
       "70   -0.417809\n",
       "73    0.001633\n",
       "75    1.841323\n",
       "76   -0.229723\n",
       "81    0.309571\n",
       "85   -1.449363\n",
       "86    0.084112\n",
       "88    0.929280\n",
       "91   -1.628608\n",
       "94   -0.409682\n",
       "95   -0.596161\n",
       "97   -1.844854\n",
       "99   -1.045282\n",
       "11    0.000000\n",
       "Name: 0, dtype: float64"
      ]
     },
     "execution_count": 23,
     "metadata": {
      "tags": []
     },
     "output_type": "execute_result"
    }
   ],
   "source": [
    "dpto = coeffs[coeffs.index.str.startswith('DEPTO')].copy()\n",
    "dpto.name = \"0\"\n",
    "dpto.index = dpto.index.str[-2:].str.replace('_','0')\n",
    "dpto.loc['11'] = 0\n",
    "dpto"
   ]
  },
  {
   "cell_type": "code",
   "execution_count": null,
   "metadata": {
    "colab": {
     "base_uri": "https://localhost:8080/",
     "height": 206
    },
    "colab_type": "code",
    "id": "CJA-xCUqRaf0",
    "outputId": "077cdf05-6626-43a9-e531-6940ed100094"
   },
   "outputs": [
    {
     "data": {
      "text/html": [
       "<div>\n",
       "<style scoped>\n",
       "    .dataframe tbody tr th:only-of-type {\n",
       "        vertical-align: middle;\n",
       "    }\n",
       "\n",
       "    .dataframe tbody tr th {\n",
       "        vertical-align: top;\n",
       "    }\n",
       "\n",
       "    .dataframe thead th {\n",
       "        text-align: right;\n",
       "    }\n",
       "</style>\n",
       "<table border=\"1\" class=\"dataframe\">\n",
       "  <thead>\n",
       "    <tr style=\"text-align: right;\">\n",
       "      <th></th>\n",
       "      <th>DPTO_CCDGO</th>\n",
       "      <th>DPTO_CNMBR</th>\n",
       "      <th>DPTO_NANO_</th>\n",
       "      <th>DPTO_CACTO</th>\n",
       "      <th>DPTO_NANO</th>\n",
       "      <th>Shape_Leng</th>\n",
       "      <th>Shape_Area</th>\n",
       "      <th>geometry</th>\n",
       "      <th>LogitCoeff</th>\n",
       "    </tr>\n",
       "  </thead>\n",
       "  <tbody>\n",
       "    <tr>\n",
       "      <th>0</th>\n",
       "      <td>18</td>\n",
       "      <td>CAQUETÁ</td>\n",
       "      <td>1981</td>\n",
       "      <td>Ley 78 del 29 de Diciembre de 1981</td>\n",
       "      <td>2018</td>\n",
       "      <td>21.384287</td>\n",
       "      <td>7.318485</td>\n",
       "      <td>POLYGON ((-74.89423 2.95852, -74.89410 2.95852...</td>\n",
       "      <td>-0.872283</td>\n",
       "    </tr>\n",
       "    <tr>\n",
       "      <th>1</th>\n",
       "      <td>19</td>\n",
       "      <td>CAUCA</td>\n",
       "      <td>1857</td>\n",
       "      <td>15 de junio de 1857</td>\n",
       "      <td>2018</td>\n",
       "      <td>13.950263</td>\n",
       "      <td>2.534419</td>\n",
       "      <td>POLYGON ((-76.45922 3.32872, -76.45878 3.32870...</td>\n",
       "      <td>-0.281882</td>\n",
       "    </tr>\n",
       "    <tr>\n",
       "      <th>2</th>\n",
       "      <td>86</td>\n",
       "      <td>PUTUMAYO</td>\n",
       "      <td>1991</td>\n",
       "      <td>Articulo 309 Constitucion Politica de 1991</td>\n",
       "      <td>2018</td>\n",
       "      <td>12.707922</td>\n",
       "      <td>2.107965</td>\n",
       "      <td>POLYGON ((-76.67050 1.46732, -76.67000 1.46730...</td>\n",
       "      <td>0.084112</td>\n",
       "    </tr>\n",
       "    <tr>\n",
       "      <th>3</th>\n",
       "      <td>76</td>\n",
       "      <td>VALLE DEL CAUCA</td>\n",
       "      <td>1910</td>\n",
       "      <td>Decreto No 340 de 16 de Abril de 1910</td>\n",
       "      <td>2018</td>\n",
       "      <td>12.650870</td>\n",
       "      <td>1.679487</td>\n",
       "      <td>MULTIPOLYGON (((-77.23810 4.04049, -77.23774 4...</td>\n",
       "      <td>-0.229723</td>\n",
       "    </tr>\n",
       "    <tr>\n",
       "      <th>4</th>\n",
       "      <td>94</td>\n",
       "      <td>GUAINÍA</td>\n",
       "      <td>1991</td>\n",
       "      <td>Articulo 309 Constitucion Politica de 1991</td>\n",
       "      <td>2018</td>\n",
       "      <td>21.179051</td>\n",
       "      <td>5.747937</td>\n",
       "      <td>POLYGON ((-67.67638 3.91228, -67.67305 3.90931...</td>\n",
       "      <td>-0.409682</td>\n",
       "    </tr>\n",
       "  </tbody>\n",
       "</table>\n",
       "</div>"
      ],
      "text/plain": [
       "  DPTO_CCDGO  ... LogitCoeff\n",
       "0         18  ...  -0.872283\n",
       "1         19  ...  -0.281882\n",
       "2         86  ...   0.084112\n",
       "3         76  ...  -0.229723\n",
       "4         94  ...  -0.409682\n",
       "\n",
       "[5 rows x 9 columns]"
      ]
     },
     "execution_count": 24,
     "metadata": {
      "tags": []
     },
     "output_type": "execute_result"
    }
   ],
   "source": [
    "geo_df = gpd.read_file(\"/content/drive/My Drive/DS4AProject/GeoData/MGN_DPTO_POLITICO.shp\")\n",
    "geo_df = geo_df.merge(dpto,left_on='DPTO_CCDGO',right_index=True).rename(columns={'0':'LogitCoeff'})\n",
    "#geo_df.LogitCoeff -= geo_df.LogitCoeff.min()  #Rescale so minimum is at 0\n",
    "geo_df.head()"
   ]
  },
  {
   "cell_type": "code",
   "execution_count": null,
   "metadata": {
    "colab": {
     "base_uri": "https://localhost:8080/",
     "height": 35
    },
    "colab_type": "code",
    "id": "on9vhXEpV_6U",
    "outputId": "e9ac181b-44a0-49fb-8c9d-e1cb144c008b"
   },
   "outputs": [
    {
     "data": {
      "text/plain": [
       "<matplotlib.colors.LinearSegmentedColormap at 0x7efe0b9d1ac8>"
      ]
     },
     "execution_count": 25,
     "metadata": {
      "tags": []
     },
     "output_type": "execute_result"
    }
   ],
   "source": [
    "#from matplotlib.colors import LinearSegmentedColormap\n",
    "colors = [\n",
    "       [0.        , 0.62745098, 0.50588235],\n",
    "       [0.92941176, 0.93333333, 0.9372549 ],\n",
    "       [0.01568627, 0.30196078, 0.43137255]]\n",
    "\n",
    "cm = LinearSegmentedColormap.from_list(\n",
    "    'custom', colors, N=100)\n",
    "\n",
    "cm"
   ]
  },
  {
   "cell_type": "code",
   "execution_count": null,
   "metadata": {
    "colab": {
     "base_uri": "https://localhost:8080/",
     "height": 745
    },
    "colab_type": "code",
    "id": "pfiY5PIdWAUc",
    "outputId": "522bc157-5c10-4bec-e8b0-086777ca9212"
   },
   "outputs": [
    {
     "data": {
      "image/png": "[encoded data removed]",
      "text/plain": [
       "<Figure size 1080x720 with 6 Axes>"
      ]
     },
     "metadata": {
      "tags": []
     },
     "output_type": "display_data"
    }
   ],
   "source": [
    "fig = plt.figure(figsize=(15,10),constrained_layout=True)\n",
    "\n",
    "gs = GridSpec(4, 40, figure=fig)\n",
    "len_side = 17  #Relative size of the plots on the right\n",
    "\n",
    "ax1 = fig.add_subplot(gs[:, :-len_side])\n",
    "ax2 = fig.add_subplot(gs[0, -len_side:])\n",
    "ax3 = fig.add_subplot(gs[1, -len_side:])\n",
    "ax4 = fig.add_subplot(gs[2, -len_side:])\n",
    "ax5 = fig.add_subplot(gs[3, -len_side:])\n",
    "\n",
    "my_cmap = cm \n",
    "\n",
    "vmin,vmax = coeffs.min(),coeffs.max()\n",
    "sm = ScalarMappable(cmap=my_cmap, norm=plt.Normalize(vmin,vmax))\n",
    "sm.set_array([])\n",
    "\n",
    "#Map\n",
    "geo_df.plot('LogitCoeff',ax=ax1,legend=True,cmap=my_cmap,vmin=vmin,vmax=vmax)\n",
    "ax1.set_xlim(left=-80)\n",
    "ax1.set_ylim(top=13)\n",
    "ax1.axis('off')\n",
    "ax1.set_title('Coefficients per department w.r.t Bogotá',fontsize=15)\n",
    "\n",
    "#Seguridad social\n",
    "clrs = sm.to_rgba(seg_soc.values)\n",
    "sns.barplot(data=seg_soc.reset_index(),x='index',y=seg_soc.values,\n",
    "            ax=ax2,palette=clrs)\n",
    "ax2.set_title('Social security coefficient w.r.t contributive')\n",
    "ax2.set_xticklabels(['Subsid.','Exception','Special','No insurance','No data'])\n",
    "\n",
    "#Tipo emb\n",
    "clrs = sm.to_rgba(tipo_emb.values)\n",
    "sns.barplot(data=tipo_emb.reset_index(),x='index',y=tipo_emb.values,\n",
    "            ax=ax3,palette=clrs)\n",
    "ax3.set_title('Multiplicity of pregnancy coefficient w.r.t simple pregnancy')\n",
    "ax3.set_xticklabels(['2','3','4 >','No data'])\n",
    "\n",
    "\n",
    "#Area residencia\n",
    "clrs = sm.to_rgba(area_res.values)\n",
    "sns.barplot(data=area_res.reset_index(),x='index',y=area_res.values,\n",
    "            ax=ax4,palette=clrs)\n",
    "ax4.set_title('Residence area coefficient w.r.t urban')\n",
    "ax4.set_xticklabels(['Populated center','Disperse rural','No data'])\n",
    "\n",
    "#Nivel educ\n",
    "clrs = sm.to_rgba(niv_edu.values)\n",
    "sns.barplot(data=niv_edu.reset_index(),x='index',y=niv_edu,\n",
    "            ax=ax5,palette=clrs)    \n",
    "ax5.set_title('Mother\\'s educative level coefficient w.r.t only pre-school education')\n",
    "ax5.set_xticklabels(['Primaria','Secundaria','Media acad.','Media técnica','Normalista',\n",
    "                     'Técnica','Tecnológica','Profesional','Especializ.','Otros'],rotation=90)\n",
    "\n",
    "for ax in [ax1,ax2,ax3,ax4,ax5]:\n",
    "    #Set yticks on the right\n",
    "    ax.set_yticks([0])\n",
    "    ax.yaxis.set_label_position(\"right\")\n",
    "    ax.yaxis.tick_right()\n",
    "    ax.set_ylabel('')\n",
    "    ax.set_xlabel('')\n",
    "\n",
    "#plt.savefig('../Plots/LogitCoeffs.png',dpi=300,bbox_inches='tight')\n",
    "#plt.show()"
   ]
  },
  {
   "cell_type": "code",
   "execution_count": null,
   "metadata": {
    "colab": {},
    "colab_type": "code",
    "id": "hG1O-fbIWRmV"
   },
   "outputs": [],
   "source": []
  }
 ],
 "metadata": {
  "colab": {
   "collapsed_sections": [],
   "name": "CorrelationsAndLogisticRegression.ipynb",
   "provenance": [],
   "toc_visible": true
  },
  "kernelspec": {
   "display_name": "Python 3",
   "language": "python",
   "name": "python3"
  },
  "language_info": {
   "codemirror_mode": {
    "name": "ipython",
    "version": 3
   },
   "file_extension": ".py",
   "mimetype": "text/x-python",
   "name": "python",
   "nbconvert_exporter": "python",
   "pygments_lexer": "ipython3",
   "version": "3.7.3"
  }
 },
 "nbformat": 4,
 "nbformat_minor": 1
}
