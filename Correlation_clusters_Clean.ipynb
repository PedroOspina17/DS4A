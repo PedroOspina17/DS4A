{
  "nbformat": 4,
  "nbformat_minor": 0,
  "metadata": {
    "colab": {
      "name": "DS4A_correlation_clusters.ipynb",
      "provenance": [],
      "collapsed_sections": [],
      "toc_visible": true
    },
    "kernelspec": {
      "name": "python3",
      "display_name": "Python 3"
    }
  },
  "cells": [
    {
      "cell_type": "code",
      "metadata": {
        "id": "2-vow50fBJwk",
        "colab_type": "code",
        "colab": {
          "base_uri": "https://localhost:8080/",
          "height": 34
        },
        "outputId": "495f64ec-a08d-404c-8d09-58100b2f6e34"
      },
      "source": [
        "from google.colab import drive\n",
        "drive.mount('/content/drive')"
      ],
      "execution_count": null,
      "outputs": [
        {
          "output_type": "stream",
          "text": [
            "Drive already mounted at /content/drive; to attempt to forcibly remount, call drive.mount(\"/content/drive\", force_remount=True).\n"
          ],
          "name": "stdout"
        }
      ]
    },
    {
      "cell_type": "code",
      "metadata": {
        "id": "9D-DAufMlWww",
        "colab_type": "code",
        "colab": {
          "base_uri": "https://localhost:8080/",
          "height": 71
        },
        "outputId": "5416a46f-5e57-4b10-cc8c-fe5f8de3d931"
      },
      "source": [
        "import pandas as pd\n",
        "import matplotlib.pyplot as plt\n",
        "import seaborn as sns\n",
        "import statsmodels.formula.api as smf\n",
        "from sklearn.model_selection import train_test_split\n"
      ],
      "execution_count": null,
      "outputs": [
        {
          "output_type": "stream",
          "text": [
            "/usr/local/lib/python3.6/dist-packages/statsmodels/tools/_testing.py:19: FutureWarning: pandas.util.testing is deprecated. Use the functions in the public API at pandas.testing instead.\n",
            "  import pandas.util.testing as tm\n"
          ],
          "name": "stderr"
        }
      ]
    },
    {
      "cell_type": "markdown",
      "metadata": {
        "id": "yNajX9ILBSwK",
        "colab_type": "text"
      },
      "source": [
        "#Diferentes dataframes para trabajar\n",
        "\n"
      ]
    },
    {
      "cell_type": "code",
      "metadata": {
        "id": "P8dMbPpqniYU",
        "colab_type": "code",
        "colab": {}
      },
      "source": [
        "#df = pd.read_csv(\"/content/drive/My Drive/DS4AProject/cleanDB_Small.csv\") #dataset limpio y pequeño sin aleatoriedad"
      ],
      "execution_count": null,
      "outputs": []
    },
    {
      "cell_type": "code",
      "metadata": {
        "id": "GB5tsVEEnANB",
        "colab_type": "code",
        "colab": {}
      },
      "source": [
        "#df = pd.read_csv(\"/content/drive/My Drive/DS4AProject/CleanDB_FULL.csv\") #dataset limpio y completo. Shape = (7895343, 52)"
      ],
      "execution_count": null,
      "outputs": []
    },
    {
      "cell_type": "code",
      "metadata": {
        "id": "oHV3N14vEiUf",
        "colab_type": "code",
        "colab": {
          "base_uri": "https://localhost:8080/",
          "height": 71
        },
        "outputId": "f819f3ad-276f-4198-caf4-f72564d42b56"
      },
      "source": [
        "#dataset limpio, completo y con la columna de \"DS_ORIG\". Donde 1.0 = nacido, 2.0 = fetal, 3.0 = defun. Shape = (7895343, 52)\n",
        "#df = pd.read_csv(\"/content/drive/My Drive/DS4AProject/CleanDB_FULL_DsOrigin.csv\") "
      ],
      "execution_count": null,
      "outputs": [
        {
          "output_type": "stream",
          "text": [
            "/usr/local/lib/python3.6/dist-packages/IPython/core/interactiveshell.py:2718: DtypeWarning: Columns (7,10,15,27,28,47,51) have mixed types.Specify dtype option on import or set low_memory=False.\n",
            "  interactivity=interactivity, compiler=compiler, result=result)\n"
          ],
          "name": "stderr"
        }
      ]
    },
    {
      "cell_type": "code",
      "metadata": {
        "id": "xycG_LirwZAY",
        "colab_type": "code",
        "colab": {
          "base_uri": "https://localhost:8080/",
          "height": 51
        },
        "outputId": "6faa2c76-a461-4384-f701-a5a1ef734c67"
      },
      "source": [
        "#Muestra aleatora del 20% del dataset limpio, completo y con la columna de \"DS_ORIG\". Donde 1.0 = nacido, 2.0 = fetal, 3.0 = defun. Shape = (1579068, 54)\n",
        "#df = pd.read_csv(\"/content/drive/My Drive/DS4AProject/CleanDB_FULL_DsOrigin_RandomSample.csv\") "
      ],
      "execution_count": null,
      "outputs": [
        {
          "output_type": "stream",
          "text": [
            "/usr/local/lib/python3.6/dist-packages/IPython/core/interactiveshell.py:2718: DtypeWarning: Columns (9) have mixed types.Specify dtype option on import or set low_memory=False.\n",
            "  interactivity=interactivity, compiler=compiler, result=result)\n"
          ],
          "name": "stderr"
        }
      ]
    },
    {
      "cell_type": "code",
      "metadata": {
        "id": "iZKj5Gk93FiP",
        "colab_type": "code",
        "colab": {
          "base_uri": "https://localhost:8080/",
          "height": 71
        },
        "outputId": "9fda255a-293f-4a98-ccaf-06ab598a72ea"
      },
      "source": [
        "#Muestra aleatora del 20% del dataset limpio, completo, con las columnas de las variables categoricas con valores numericos y con la columna de \"DS_ORIG\".\n",
        "#Donde 1.0 = nacido, 2.0 = fetal, 3.0 = defun. Shape = (1579068, 65)\n",
        "df = pd.read_csv(\"/content/drive/My Drive/DS4AProject/CleanDB_FULL_DsOrigin_RandomSample_NumCat.csv\") "
      ],
      "execution_count": null,
      "outputs": [
        {
          "output_type": "stream",
          "text": [
            "/usr/local/lib/python3.6/dist-packages/IPython/core/interactiveshell.py:2718: DtypeWarning: Columns (10,51) have mixed types.Specify dtype option on import or set low_memory=False.\n",
            "  interactivity=interactivity, compiler=compiler, result=result)\n"
          ],
          "name": "stderr"
        }
      ]
    },
    {
      "cell_type": "code",
      "metadata": {
        "id": "YuVlyga1nosA",
        "colab_type": "code",
        "colab": {
          "base_uri": "https://localhost:8080/",
          "height": 428
        },
        "outputId": "69f38887-cee0-4453-824f-e8a75cd93416"
      },
      "source": [
        "df.head()"
      ],
      "execution_count": null,
      "outputs": [
        {
          "output_type": "execute_result",
          "data": {
            "text/html": [
              "<div>\n",
              "<style scoped>\n",
              "    .dataframe tbody tr th:only-of-type {\n",
              "        vertical-align: middle;\n",
              "    }\n",
              "\n",
              "    .dataframe tbody tr th {\n",
              "        vertical-align: top;\n",
              "    }\n",
              "\n",
              "    .dataframe thead th {\n",
              "        text-align: right;\n",
              "    }\n",
              "</style>\n",
              "<table border=\"1\" class=\"dataframe\">\n",
              "  <thead>\n",
              "    <tr style=\"text-align: right;\">\n",
              "      <th></th>\n",
              "      <th>Unnamed: 0</th>\n",
              "      <th>Unnamed: 0.1</th>\n",
              "      <th>APGAR1</th>\n",
              "      <th>APGAR2</th>\n",
              "      <th>AREA</th>\n",
              "      <th>AREA_RESIDENCIA_HAB</th>\n",
              "      <th>ASIS_MED</th>\n",
              "      <th>CERT_EXPEDIDO_POR</th>\n",
              "      <th>CODOCUR</th>\n",
              "      <th>COD_DPTO</th>\n",
              "      <th>COD_INST</th>\n",
              "      <th>DEPTO_RESIDENCIA</th>\n",
              "      <th>EDAD_MADRE</th>\n",
              "      <th>EDAD_PADRE</th>\n",
              "      <th>ESTADO_CIVIL_M</th>\n",
              "      <th>FECHA_NAC_HIJO_VIVO</th>\n",
              "      <th>FILE_YEAR</th>\n",
              "      <th>GRU_ED1</th>\n",
              "      <th>IDFACTORRH</th>\n",
              "      <th>IDHEMOCLAS</th>\n",
              "      <th>IDPERTET</th>\n",
              "      <th>IDPUEBLOIN</th>\n",
              "      <th>MANERA_MUERTE</th>\n",
              "      <th>MOMENTO_MUERTE</th>\n",
              "      <th>NACIDO_VIVO</th>\n",
              "      <th>NIV_EDUCATIVO_M</th>\n",
              "      <th>NIV_EDUCATIVO_P</th>\n",
              "      <th>NOMBRE_ADM_SALUD</th>\n",
              "      <th>NOM_INST</th>\n",
              "      <th>NUMERO_EMBARAZOS</th>\n",
              "      <th>NUM_CONSUL</th>\n",
              "      <th>N_HIJOSM</th>\n",
              "      <th>N_HIJOSV</th>\n",
              "      <th>ORIGINAL_FILE</th>\n",
              "      <th>PAIS_RESIDENCIA</th>\n",
              "      <th>PARTO_ATENDIDO_POR</th>\n",
              "      <th>PESO</th>\n",
              "      <th>PROFESION_QUIEN_CERTIFICA</th>\n",
              "      <th>RESULTADO_EMB</th>\n",
              "      <th>SEG_SOCIAL</th>\n",
              "      <th>SEXO</th>\n",
              "      <th>SITIO_EVENTO</th>\n",
              "      <th>TALLA</th>\n",
              "      <th>TIEMPO_GESTACION</th>\n",
              "      <th>TIPO_ADM_SALUD</th>\n",
              "      <th>TIPO_EMBARAZO</th>\n",
              "      <th>TIPO_PARTO</th>\n",
              "      <th>ULT_GRADO_MADRE</th>\n",
              "      <th>ULT_GRADO_PADRE</th>\n",
              "      <th>ID_BIRTH</th>\n",
              "      <th>ID_RESID</th>\n",
              "      <th>ID_VIOL</th>\n",
              "      <th>DATE</th>\n",
              "      <th>DS_ORIG</th>\n",
              "      <th>CERT_EXP_POR_CAT</th>\n",
              "      <th>MANERA_MUERTE_CAT</th>\n",
              "      <th>MOMENTO_MUERTE_CAT</th>\n",
              "      <th>PARTO_ATENDIDO_POR_CAT</th>\n",
              "      <th>PROFESION_QUIEN_CERTIFICA_CAT</th>\n",
              "      <th>SEG_SOCIAL_CAT</th>\n",
              "      <th>SEXO_CAT</th>\n",
              "      <th>SITIO_EVENTO_CAT</th>\n",
              "      <th>TIEMPO_GESTACION_CAT</th>\n",
              "      <th>TIPO_PARTO_CAT</th>\n",
              "      <th>TIPO_EMBARAZO_CAT</th>\n",
              "      <th>NACIDO_VIVO_INV</th>\n",
              "    </tr>\n",
              "  </thead>\n",
              "  <tbody>\n",
              "    <tr>\n",
              "      <th>0</th>\n",
              "      <td>0</td>\n",
              "      <td>0</td>\n",
              "      <td>9.0</td>\n",
              "      <td>10.0</td>\n",
              "      <td>1</td>\n",
              "      <td>1.0</td>\n",
              "      <td>9.0</td>\n",
              "      <td>9</td>\n",
              "      <td>NaN</td>\n",
              "      <td>76</td>\n",
              "      <td>NaN</td>\n",
              "      <td>76</td>\n",
              "      <td>3.0</td>\n",
              "      <td>24.0</td>\n",
              "      <td>1.0</td>\n",
              "      <td>10/05/2014</td>\n",
              "      <td>2018</td>\n",
              "      <td>NaN</td>\n",
              "      <td>1.0</td>\n",
              "      <td>3.0</td>\n",
              "      <td>9.0</td>\n",
              "      <td>5.0</td>\n",
              "      <td>SIN_INFORMACION</td>\n",
              "      <td>SIN_INFORMACION</td>\n",
              "      <td>1</td>\n",
              "      <td>SECUNDARIA</td>\n",
              "      <td>SIN_INFORMACION</td>\n",
              "      <td>NaN</td>\n",
              "      <td>NaN</td>\n",
              "      <td>2.0</td>\n",
              "      <td>5.0</td>\n",
              "      <td>0.0</td>\n",
              "      <td>2.0</td>\n",
              "      <td>../Data/newData/nac/nac2018.txt</td>\n",
              "      <td>170.0</td>\n",
              "      <td>MEDICO</td>\n",
              "      <td>5.0</td>\n",
              "      <td>MEDICO</td>\n",
              "      <td>NACIDO_VIVO</td>\n",
              "      <td>SUBSIDIADO</td>\n",
              "      <td>FEMENINO</td>\n",
              "      <td>INSTITUCION_SALUD</td>\n",
              "      <td>5.0</td>\n",
              "      <td>38-41</td>\n",
              "      <td>2.0</td>\n",
              "      <td>SIMPLE</td>\n",
              "      <td>ESPONTANEO</td>\n",
              "      <td>9</td>\n",
              "      <td>99.0</td>\n",
              "      <td>76001</td>\n",
              "      <td>76001</td>\n",
              "      <td>1999</td>\n",
              "      <td>2018-07-01</td>\n",
              "      <td>1.0</td>\n",
              "      <td>9</td>\n",
              "      <td>9</td>\n",
              "      <td>9</td>\n",
              "      <td>1</td>\n",
              "      <td>1</td>\n",
              "      <td>3</td>\n",
              "      <td>1</td>\n",
              "      <td>1</td>\n",
              "      <td>4</td>\n",
              "      <td>1</td>\n",
              "      <td>1</td>\n",
              "      <td>0</td>\n",
              "    </tr>\n",
              "    <tr>\n",
              "      <th>1</th>\n",
              "      <td>1</td>\n",
              "      <td>1</td>\n",
              "      <td>8.0</td>\n",
              "      <td>9.0</td>\n",
              "      <td>1</td>\n",
              "      <td>1.0</td>\n",
              "      <td>9.0</td>\n",
              "      <td>9</td>\n",
              "      <td>NaN</td>\n",
              "      <td>8</td>\n",
              "      <td>8.00104e+10</td>\n",
              "      <td>8</td>\n",
              "      <td>2.0</td>\n",
              "      <td>19.0</td>\n",
              "      <td>1.0</td>\n",
              "      <td>NaN</td>\n",
              "      <td>2016</td>\n",
              "      <td>NaN</td>\n",
              "      <td>1.0</td>\n",
              "      <td>3.0</td>\n",
              "      <td>9.0</td>\n",
              "      <td>6.0</td>\n",
              "      <td>SIN_INFORMACION</td>\n",
              "      <td>SIN_INFORMACION</td>\n",
              "      <td>1</td>\n",
              "      <td>SECUNDARIA</td>\n",
              "      <td>SECUNDARIA</td>\n",
              "      <td>COOSALUD E.S.S. -  ARS COOPERATIVA EMPRESA SOL...</td>\n",
              "      <td>IPS UNIVERSITARIA SEDE CAMINO EL BOSQUE DE MARIA</td>\n",
              "      <td>1.0</td>\n",
              "      <td>4.0</td>\n",
              "      <td>0.0</td>\n",
              "      <td>1.0</td>\n",
              "      <td>../Data/newData/nac/nac2016.txt</td>\n",
              "      <td>170.0</td>\n",
              "      <td>MEDICO</td>\n",
              "      <td>7.0</td>\n",
              "      <td>MEDICO</td>\n",
              "      <td>NACIDO_VIVO</td>\n",
              "      <td>SUBSIDIADO</td>\n",
              "      <td>FEMENINO</td>\n",
              "      <td>INSTITUCION_SALUD</td>\n",
              "      <td>5.0</td>\n",
              "      <td>38-41</td>\n",
              "      <td>2.0</td>\n",
              "      <td>SIMPLE</td>\n",
              "      <td>ESPONTANEO</td>\n",
              "      <td>10</td>\n",
              "      <td>11.0</td>\n",
              "      <td>8001</td>\n",
              "      <td>8001</td>\n",
              "      <td>1999</td>\n",
              "      <td>2016-07-01</td>\n",
              "      <td>1.0</td>\n",
              "      <td>9</td>\n",
              "      <td>9</td>\n",
              "      <td>9</td>\n",
              "      <td>1</td>\n",
              "      <td>1</td>\n",
              "      <td>3</td>\n",
              "      <td>1</td>\n",
              "      <td>1</td>\n",
              "      <td>4</td>\n",
              "      <td>1</td>\n",
              "      <td>1</td>\n",
              "      <td>0</td>\n",
              "    </tr>\n",
              "    <tr>\n",
              "      <th>2</th>\n",
              "      <td>2</td>\n",
              "      <td>2</td>\n",
              "      <td>8.0</td>\n",
              "      <td>9.0</td>\n",
              "      <td>1</td>\n",
              "      <td>1.0</td>\n",
              "      <td>9.0</td>\n",
              "      <td>9</td>\n",
              "      <td>NaN</td>\n",
              "      <td>8</td>\n",
              "      <td>8.758e+10</td>\n",
              "      <td>8</td>\n",
              "      <td>2.0</td>\n",
              "      <td>22.0</td>\n",
              "      <td>2.0</td>\n",
              "      <td>1900-01-01</td>\n",
              "      <td>2014</td>\n",
              "      <td>NaN</td>\n",
              "      <td>1.0</td>\n",
              "      <td>2.0</td>\n",
              "      <td>9.0</td>\n",
              "      <td>6.0</td>\n",
              "      <td>SIN_INFORMACION</td>\n",
              "      <td>SIN_INFORMACION</td>\n",
              "      <td>1</td>\n",
              "      <td>SECUNDARIA</td>\n",
              "      <td>SECUNDARIA</td>\n",
              "      <td>COMFACOR - CAJA DE COMPENSACION FAMILIAR DE CO...</td>\n",
              "      <td>CLINICA PORVENIR</td>\n",
              "      <td>1.0</td>\n",
              "      <td>5.0</td>\n",
              "      <td>0.0</td>\n",
              "      <td>1.0</td>\n",
              "      <td>../Data/newData/nac/nac2014.txt</td>\n",
              "      <td>170.0</td>\n",
              "      <td>MEDICO</td>\n",
              "      <td>6.0</td>\n",
              "      <td>MEDICO</td>\n",
              "      <td>NACIDO_VIVO</td>\n",
              "      <td>SUBSIDIADO</td>\n",
              "      <td>MASCULINO</td>\n",
              "      <td>INSTITUCION_SALUD</td>\n",
              "      <td>5.0</td>\n",
              "      <td>38-41</td>\n",
              "      <td>2.0</td>\n",
              "      <td>SIMPLE</td>\n",
              "      <td>CESAREA</td>\n",
              "      <td>11</td>\n",
              "      <td>7.0</td>\n",
              "      <td>8758</td>\n",
              "      <td>8758</td>\n",
              "      <td>1999</td>\n",
              "      <td>2014-09-01</td>\n",
              "      <td>1.0</td>\n",
              "      <td>9</td>\n",
              "      <td>9</td>\n",
              "      <td>9</td>\n",
              "      <td>1</td>\n",
              "      <td>1</td>\n",
              "      <td>3</td>\n",
              "      <td>2</td>\n",
              "      <td>1</td>\n",
              "      <td>4</td>\n",
              "      <td>2</td>\n",
              "      <td>1</td>\n",
              "      <td>0</td>\n",
              "    </tr>\n",
              "    <tr>\n",
              "      <th>3</th>\n",
              "      <td>3</td>\n",
              "      <td>3</td>\n",
              "      <td>8.0</td>\n",
              "      <td>9.0</td>\n",
              "      <td>1</td>\n",
              "      <td>1.0</td>\n",
              "      <td>9.0</td>\n",
              "      <td>9</td>\n",
              "      <td>NaN</td>\n",
              "      <td>11</td>\n",
              "      <td>1.10011e+11</td>\n",
              "      <td>11</td>\n",
              "      <td>2.0</td>\n",
              "      <td>19.0</td>\n",
              "      <td>1.0</td>\n",
              "      <td>1900-01-01</td>\n",
              "      <td>2014</td>\n",
              "      <td>NaN</td>\n",
              "      <td>1.0</td>\n",
              "      <td>3.0</td>\n",
              "      <td>9.0</td>\n",
              "      <td>6.0</td>\n",
              "      <td>SIN_INFORMACION</td>\n",
              "      <td>SIN_INFORMACION</td>\n",
              "      <td>1</td>\n",
              "      <td>SECUNDARIA</td>\n",
              "      <td>SECUNDARIA</td>\n",
              "      <td>CRUZ BLANCA  EPS S.A.</td>\n",
              "      <td>CLINICA DEL OCCIDENTE S.A.</td>\n",
              "      <td>1.0</td>\n",
              "      <td>10.0</td>\n",
              "      <td>0.0</td>\n",
              "      <td>1.0</td>\n",
              "      <td>../Data/newData/nac/nac2014.txt</td>\n",
              "      <td>170.0</td>\n",
              "      <td>MEDICO</td>\n",
              "      <td>6.0</td>\n",
              "      <td>MEDICO</td>\n",
              "      <td>NACIDO_VIVO</td>\n",
              "      <td>CONTRIBUTIVO</td>\n",
              "      <td>FEMENINO</td>\n",
              "      <td>INSTITUCION_SALUD</td>\n",
              "      <td>5.0</td>\n",
              "      <td>38-41</td>\n",
              "      <td>1.0</td>\n",
              "      <td>SIMPLE</td>\n",
              "      <td>ESPONTANEO</td>\n",
              "      <td>11</td>\n",
              "      <td>11.0</td>\n",
              "      <td>11001</td>\n",
              "      <td>11001</td>\n",
              "      <td>1999</td>\n",
              "      <td>2014-08-01</td>\n",
              "      <td>1.0</td>\n",
              "      <td>9</td>\n",
              "      <td>9</td>\n",
              "      <td>9</td>\n",
              "      <td>1</td>\n",
              "      <td>1</td>\n",
              "      <td>1</td>\n",
              "      <td>1</td>\n",
              "      <td>1</td>\n",
              "      <td>4</td>\n",
              "      <td>1</td>\n",
              "      <td>1</td>\n",
              "      <td>0</td>\n",
              "    </tr>\n",
              "    <tr>\n",
              "      <th>4</th>\n",
              "      <td>4</td>\n",
              "      <td>4</td>\n",
              "      <td>9.0</td>\n",
              "      <td>9.0</td>\n",
              "      <td>1</td>\n",
              "      <td>1.0</td>\n",
              "      <td>9.0</td>\n",
              "      <td>9</td>\n",
              "      <td>NaN</td>\n",
              "      <td>47</td>\n",
              "      <td>4.7189e+11</td>\n",
              "      <td>47</td>\n",
              "      <td>2.0</td>\n",
              "      <td>21.0</td>\n",
              "      <td>2.0</td>\n",
              "      <td>2006-06-06</td>\n",
              "      <td>2009</td>\n",
              "      <td>NaN</td>\n",
              "      <td>1.0</td>\n",
              "      <td>4.0</td>\n",
              "      <td>9.0</td>\n",
              "      <td>6.0</td>\n",
              "      <td>SIN_INFORMACION</td>\n",
              "      <td>SIN_INFORMACION</td>\n",
              "      <td>1</td>\n",
              "      <td>SECUNDARIA</td>\n",
              "      <td>SECUNDARIA</td>\n",
              "      <td>NaN</td>\n",
              "      <td>HOSPITAL SAN CRISTOBAL</td>\n",
              "      <td>2.0</td>\n",
              "      <td>3.0</td>\n",
              "      <td>0.0</td>\n",
              "      <td>2.0</td>\n",
              "      <td>../Data/newData/nac/nac2009.txt</td>\n",
              "      <td>170.0</td>\n",
              "      <td>MEDICO</td>\n",
              "      <td>7.0</td>\n",
              "      <td>ENFERMERA</td>\n",
              "      <td>NACIDO_VIVO</td>\n",
              "      <td>NO_ASEGURADO</td>\n",
              "      <td>FEMENINO</td>\n",
              "      <td>INSTITUCION_SALUD</td>\n",
              "      <td>5.0</td>\n",
              "      <td>38-41</td>\n",
              "      <td>9.0</td>\n",
              "      <td>SIMPLE</td>\n",
              "      <td>ESPONTANEO</td>\n",
              "      <td>6</td>\n",
              "      <td>11.0</td>\n",
              "      <td>47189</td>\n",
              "      <td>47189</td>\n",
              "      <td>1999</td>\n",
              "      <td>2009-03-01</td>\n",
              "      <td>1.0</td>\n",
              "      <td>9</td>\n",
              "      <td>9</td>\n",
              "      <td>9</td>\n",
              "      <td>1</td>\n",
              "      <td>2</td>\n",
              "      <td>2</td>\n",
              "      <td>1</td>\n",
              "      <td>1</td>\n",
              "      <td>4</td>\n",
              "      <td>1</td>\n",
              "      <td>1</td>\n",
              "      <td>0</td>\n",
              "    </tr>\n",
              "  </tbody>\n",
              "</table>\n",
              "</div>"
            ],
            "text/plain": [
              "   Unnamed: 0  Unnamed: 0.1  ...  TIPO_EMBARAZO_CAT  NACIDO_VIVO_INV\n",
              "0           0             0  ...                  1                0\n",
              "1           1             1  ...                  1                0\n",
              "2           2             2  ...                  1                0\n",
              "3           3             3  ...                  1                0\n",
              "4           4             4  ...                  1                0\n",
              "\n",
              "[5 rows x 66 columns]"
            ]
          },
          "metadata": {
            "tags": []
          },
          "execution_count": 4
        }
      ]
    },
    {
      "cell_type": "markdown",
      "metadata": {
        "id": "LDhXFnNjh53O",
        "colab_type": "text"
      },
      "source": [
        ""
      ]
    },
    {
      "cell_type": "code",
      "metadata": {
        "id": "nqQYx_n9cy_C",
        "colab_type": "code",
        "colab": {
          "base_uri": "https://localhost:8080/",
          "height": 34
        },
        "outputId": "1f458e83-5ed3-4a6d-bc2a-0f324307c8e1"
      },
      "source": [
        "df.shape"
      ],
      "execution_count": null,
      "outputs": [
        {
          "output_type": "execute_result",
          "data": {
            "text/plain": [
              "(1579068, 66)"
            ]
          },
          "metadata": {
            "tags": []
          },
          "execution_count": 101
        }
      ]
    },
    {
      "cell_type": "code",
      "metadata": {
        "id": "Y0fn4k3uuVaR",
        "colab_type": "code",
        "colab": {
          "base_uri": "https://localhost:8080/",
          "height": 68
        },
        "outputId": "37bf894b-9ea8-4a9d-c267-0532a1d6f625"
      },
      "source": [
        "print(\"Porcentaje de vivos en el df\",(df[df[\"DS_ORIG\"] == 1].shape[0]/df.shape[0])*100)\n",
        "print(\"Porcentaje de fetales en el df\",(df[df[\"DS_ORIG\"] == 2].shape[0]/df.shape[0])*100)\n",
        "print(\"Porcentaje de defun en el df\",(df[df[\"DS_ORIG\"] == 3].shape[0]/df.shape[0])*100)"
      ],
      "execution_count": null,
      "outputs": [
        {
          "output_type": "stream",
          "text": [
            "Porcentaje de vivos en el df 93.10903646961373\n",
            "Porcentaje de fetales en el df 5.760423236998027\n",
            "Porcentaje de defun en el df 1.1305402933882518\n"
          ],
          "name": "stdout"
        }
      ]
    },
    {
      "cell_type": "markdown",
      "metadata": {
        "id": "glLuQKbxmaow",
        "colab_type": "text"
      },
      "source": [
        "**************************************************************************************"
      ]
    },
    {
      "cell_type": "markdown",
      "metadata": {
        "id": "mOwPI-folLEJ",
        "colab_type": "text"
      },
      "source": [
        "#Agregando la variable (Columna) para conocer si el dataset original es nacido, fetal o defuncion.  nacido = 1, fetal = 2, defun = 3"
      ]
    },
    {
      "cell_type": "code",
      "metadata": {
        "id": "OagZYT8zVM1s",
        "colab_type": "code",
        "colab": {}
      },
      "source": [
        "#df[\"ORIGINAL_FILE\"].unique()"
      ],
      "execution_count": null,
      "outputs": []
    },
    {
      "cell_type": "code",
      "metadata": {
        "id": "RzlcyuIuTDtL",
        "colab_type": "code",
        "colab": {
          "base_uri": "https://localhost:8080/",
          "height": 34
        },
        "outputId": "dd83c3db-9432-49fc-e0f1-579c614e620e"
      },
      "source": [
        "#Agregando la columna\n",
        "#dfDsOrigin = df.copy()\n",
        "\n",
        "#dfDsOrigin.loc[df['ORIGINAL_FILE'].str.find(\"nac\")>-1, 'DS_ORIG'] = 1.0  \n",
        "#dfDsOrigin.loc[df['ORIGINAL_FILE'].str.find(\"fetal\")>-1, 'DS_ORIG'] = 2.0  \n",
        "#dfDsOrigin.loc[df['ORIGINAL_FILE'].str.find(\"defun\")>-1, 'DS_ORIG'] = 3.0  \n",
        "\n",
        "#print(dfDsOrigin[\"DS_ORIG\"].unique())"
      ],
      "execution_count": null,
      "outputs": [
        {
          "output_type": "stream",
          "text": [
            "[1. 2. 3.]\n"
          ],
          "name": "stdout"
        }
      ]
    },
    {
      "cell_type": "code",
      "metadata": {
        "id": "uSAKK3QlmL6O",
        "colab_type": "code",
        "colab": {
          "base_uri": "https://localhost:8080/",
          "height": 34
        },
        "outputId": "2e96720a-56a3-48eb-ef1a-eabc65edb736"
      },
      "source": [
        "#dfDsOrigin.shape"
      ],
      "execution_count": null,
      "outputs": [
        {
          "output_type": "execute_result",
          "data": {
            "text/plain": [
              "(7895343, 53)"
            ]
          },
          "metadata": {
            "tags": []
          },
          "execution_count": 9
        }
      ]
    },
    {
      "cell_type": "code",
      "metadata": {
        "id": "5T5DtvBYUUTp",
        "colab_type": "code",
        "colab": {}
      },
      "source": [
        "#dfDsOrigin.tail()"
      ],
      "execution_count": null,
      "outputs": []
    },
    {
      "cell_type": "code",
      "metadata": {
        "id": "u4MR_YuATn7i",
        "colab_type": "code",
        "colab": {}
      },
      "source": [
        "#Almacenando este dataframe para no volver a hacer el procedimiento cada vez\n",
        "#dfDsOrigin.to_csv(\"/content/drive/My Drive/DS4AProject/CleanDB_FULL_DsOrigin.csv\")"
      ],
      "execution_count": null,
      "outputs": []
    },
    {
      "cell_type": "markdown",
      "metadata": {
        "id": "DDW2YveumTvZ",
        "colab_type": "text"
      },
      "source": [
        "*******************************************************************************"
      ]
    },
    {
      "cell_type": "markdown",
      "metadata": {
        "id": "Mkp-PiESw-na",
        "colab_type": "text"
      },
      "source": [
        "#Dividiendo el dataframe para trabajar con el 20%"
      ]
    },
    {
      "cell_type": "markdown",
      "metadata": {
        "id": "YPvgsf2mGPIr",
        "colab_type": "text"
      },
      "source": [
        "Este no es para train y test. Esta division se hace despues, simplemente es para no trabajar con los 7 millones de datos. Se hace de manera aleatoria y con una semilla establecida en 40 para su posterior repetibilidad.\n"
      ]
    },
    {
      "cell_type": "code",
      "metadata": {
        "id": "bOa7SkNtGwHi",
        "colab_type": "code",
        "colab": {}
      },
      "source": [
        "#train_df, test_df = train_test_split(df, train_size=0.2, shuffle = True, random_state=40)"
      ],
      "execution_count": null,
      "outputs": []
    },
    {
      "cell_type": "code",
      "metadata": {
        "id": "4SrfHNLZJq_j",
        "colab_type": "code",
        "colab": {}
      },
      "source": [
        "#train_df.shape"
      ],
      "execution_count": null,
      "outputs": []
    },
    {
      "cell_type": "code",
      "metadata": {
        "id": "7cnWYJonKjKp",
        "colab_type": "code",
        "colab": {}
      },
      "source": [
        "#train_df"
      ],
      "execution_count": null,
      "outputs": []
    },
    {
      "cell_type": "markdown",
      "metadata": {
        "id": "8XEpW1m1sC1h",
        "colab_type": "text"
      },
      "source": [
        "Encontrando el porcentaje de cada categoria de dataset original para asegurar que tenemos suficiente representación de nacidos, fetales y defun"
      ]
    },
    {
      "cell_type": "code",
      "metadata": {
        "id": "jbpVykyJs9dI",
        "colab_type": "code",
        "colab": {}
      },
      "source": [
        "#train_df.shape"
      ],
      "execution_count": null,
      "outputs": []
    },
    {
      "cell_type": "code",
      "metadata": {
        "id": "Q7DMH6FgrxkV",
        "colab_type": "code",
        "colab": {}
      },
      "source": [
        "#Asegurandeonos que la representacion de cada variable se conserve\n",
        "#print(\"Porcentaje de vivos en el df\",(train_df[train_df[\"DS_ORIG\"] == 1].shape[0]/train_df.shape[0])*100)\n",
        "#print(\"Porcentaje de fetales en el df\",(train_df[train_df[\"DS_ORIG\"] == 2].shape[0]/train_df.shape[0])*100)\n",
        "#print(\"Porcentaje de defun en el df\",(train_df[train_df[\"DS_ORIG\"] == 3].shape[0]/train_df.shape[0])*100)"
      ],
      "execution_count": null,
      "outputs": []
    },
    {
      "cell_type": "code",
      "metadata": {
        "id": "m442Ri-arnR4",
        "colab_type": "code",
        "colab": {}
      },
      "source": [
        "#[\"DS_ORIG\"].unique()"
      ],
      "execution_count": null,
      "outputs": []
    },
    {
      "cell_type": "code",
      "metadata": {
        "id": "DCgCHYXyqfEX",
        "colab_type": "code",
        "colab": {}
      },
      "source": [
        "#Almacenando este dataframe para posteriormente llamarlo y no tener que volver a realizar el procedimiento\n",
        "#train_df.to_csv(\"/content/drive/My Drive/DS4AProject/CleanDB_FULL_DsOrigin_RandomSample.csv\")"
      ],
      "execution_count": null,
      "outputs": []
    },
    {
      "cell_type": "markdown",
      "metadata": {
        "id": "eQZOatCKxVsE",
        "colab_type": "text"
      },
      "source": [
        "********************************************************************************"
      ]
    },
    {
      "cell_type": "markdown",
      "metadata": {
        "id": "wWZqnQohLYvh",
        "colab_type": "text"
      },
      "source": [
        "#Convirtiendo las variables categoricas de texto a categorias numericas"
      ]
    },
    {
      "cell_type": "code",
      "metadata": {
        "id": "dyuervaFHvOU",
        "colab_type": "code",
        "colab": {}
      },
      "source": [
        "#df['CERT_EXPEDIDO_POR'].unique()"
      ],
      "execution_count": null,
      "outputs": []
    },
    {
      "cell_type": "code",
      "metadata": {
        "id": "YxP3CDyD7M6U",
        "colab_type": "code",
        "colab": {}
      },
      "source": [
        "#CERT_EXP_POR_CAT_dict = {\n",
        "#    \"9\" : 9, \"MEDICO_NO_TRATANTE\":1 , \"MEDICO_TRATANTE\":2 ,\n",
        "#    \"MEDICO_LEGISTA\": 3 , \"PERSONAL_AUTORIZADO\" : 4, 9:9}\n",
        "\n",
        "#df_new = df[df['CERT_EXPEDIDO_POR'].isin(CERT_EXP_POR_CAT_dict.keys())].copy()\n",
        "\n",
        "\n",
        "#df_new['CERT_EXP_POR_CAT'] = df_new['CERT_EXPEDIDO_POR'].apply(lambda x: CERT_EXP_POR_CAT_dict[x])\n",
        "#print(df_new['CERT_EXP_POR_CAT'].unique()) \n",
        "#print(df_new.shape)\n",
        "\n",
        "#df_new.head()"
      ],
      "execution_count": null,
      "outputs": []
    },
    {
      "cell_type": "code",
      "metadata": {
        "id": "MD3CzZX4L5Gb",
        "colab_type": "code",
        "colab": {}
      },
      "source": [
        "#df_new[\"MANERA_MUERTE\"].unique()"
      ],
      "execution_count": null,
      "outputs": []
    },
    {
      "cell_type": "code",
      "metadata": {
        "id": "La3yw79jLDYM",
        "colab_type": "code",
        "colab": {}
      },
      "source": [
        "#MANERA_MUERTE_dict = {\n",
        "#    \"SIN_INFORMACION\" : 9, \"NATURAL\":1 , \"VIOLENTA\":2 ,\n",
        "#    \"EN_ESTUDIO\": 3 }\n",
        "\n",
        "#df_new['MANERA_MUERTE_CAT'] = df_new['MANERA_MUERTE'].apply(lambda x: MANERA_MUERTE_dict[x])\n",
        "#print(df_new['MANERA_MUERTE_CAT'].unique()) \n",
        "#print(df_new.shape)\n",
        "#df_new.head()"
      ],
      "execution_count": null,
      "outputs": []
    },
    {
      "cell_type": "code",
      "metadata": {
        "id": "vU-ZaHKLOa3v",
        "colab_type": "code",
        "colab": {
          "base_uri": "https://localhost:8080/",
          "height": 51
        },
        "outputId": "353a5df6-8e32-4bd1-aa6f-efd4f54ca568"
      },
      "source": [
        "#df_new['MOMENTO_MUERTE'].unique()"
      ],
      "execution_count": null,
      "outputs": [
        {
          "output_type": "execute_result",
          "data": {
            "text/plain": [
              "array(['SIN_INFORMACION', 'ANTES', 'DESPUES', 'IGNORADO', 'DURANTE'],\n",
              "      dtype=object)"
            ]
          },
          "metadata": {
            "tags": []
          },
          "execution_count": 21
        }
      ]
    },
    {
      "cell_type": "code",
      "metadata": {
        "id": "oEuYG-5wN9YM",
        "colab_type": "code",
        "colab": {}
      },
      "source": [
        "#MOMENTO_MUERTE_dict = {\n",
        "#    \"SIN_INFORMACION\" : 9, \"ANTES\":1 , \"DURANTE\":2 ,\n",
        "#    \"IGNORADO\": 3, 'DESPUES':4 }\n",
        "\n",
        "#df_new['MOMENTO_MUERTE_CAT'] = df_new['MOMENTO_MUERTE'].apply(lambda x: MOMENTO_MUERTE_dict[x])\n",
        "#print(df_new['MOMENTO_MUERTE_CAT'].unique()) \n",
        "#print(df_new.shape)\n",
        "#df_new.head()\n",
        "\n"
      ],
      "execution_count": null,
      "outputs": []
    },
    {
      "cell_type": "code",
      "metadata": {
        "colab_type": "code",
        "id": "OhN2wFP-PAcS",
        "colab": {
          "base_uri": "https://localhost:8080/",
          "height": 51
        },
        "outputId": "acd985d9-0457-4bd6-c519-150e73656bf4"
      },
      "source": [
        "#df_new['PARTO_ATENDIDO_POR'].unique()"
      ],
      "execution_count": null,
      "outputs": [
        {
          "output_type": "execute_result",
          "data": {
            "text/plain": [
              "array(['MEDICO', 'SIN_INFORMACION', 'OTRO', 'PARTERA', 'PROMOTOR_SALUD',\n",
              "       'ENFERMERA', 'AUXILIAR_ENFERMERIA'], dtype=object)"
            ]
          },
          "metadata": {
            "tags": []
          },
          "execution_count": 23
        }
      ]
    },
    {
      "cell_type": "code",
      "metadata": {
        "colab_type": "code",
        "id": "fGj3DO6LPAcm",
        "colab": {}
      },
      "source": [
        "#PARTO_ATENDIDO_POR_dict = {\n",
        "#    \"SIN_INFORMACION\" : 9, \"MEDICO\":1 , \"ENFERMERA\":2 ,\n",
        "#    \"AUXILIAR_ENFERMERIA\": 3, 'PARTERA':4, 'PROMOTOR_SALUD':5, 'OTRO':6 }\n",
        "\n",
        "#df_new['PARTO_ATENDIDO_POR_CAT'] = df_new['PARTO_ATENDIDO_POR'].apply(lambda x: PARTO_ATENDIDO_POR_dict[x])\n",
        "#print(df_new['PARTO_ATENDIDO_POR_CAT'].unique()) \n",
        "#print(df_new.shape)\n",
        "#df_new.head()\n",
        "\n"
      ],
      "execution_count": null,
      "outputs": []
    },
    {
      "cell_type": "code",
      "metadata": {
        "colab_type": "code",
        "id": "NgM2ulbZPzes",
        "colab": {}
      },
      "source": [
        "#df_new['PROFESION_QUIEN_CERTIFICA'].unique()"
      ],
      "execution_count": null,
      "outputs": []
    },
    {
      "cell_type": "code",
      "metadata": {
        "colab_type": "code",
        "id": "jPyl0paFPze8",
        "colab": {}
      },
      "source": [
        "#PROFESION_QUIEN_CERTIFICA_dict = {\"SIN_INFORMACION\" : 9, \"MEDICO\":1 , \"ENFERMERA\":2 ,\n",
        "#    \"AUXILIAR_ENFERMERIA\": 3, 'FUNCIONARIO_REG_CIVIL':4, 'PROMOTOR_SALUD':5, 'MEDICO_LEGISTA':6 }\n",
        "\n",
        "#df_new['PROFESION_QUIEN_CERTIFICA_CAT'] = df_new['PROFESION_QUIEN_CERTIFICA'].apply(lambda x: PROFESION_QUIEN_CERTIFICA_dict[x])\n",
        "#print(df_new['PROFESION_QUIEN_CERTIFICA_CAT'].unique()) \n",
        "#print(df_new.shape)\n",
        "#df_new.head()\n",
        "\n"
      ],
      "execution_count": null,
      "outputs": []
    },
    {
      "cell_type": "code",
      "metadata": {
        "colab_type": "code",
        "id": "DohEE34fx-Tq",
        "colab": {}
      },
      "source": [
        "#df_new['SEG_SOCIAL'].unique()"
      ],
      "execution_count": null,
      "outputs": []
    },
    {
      "cell_type": "code",
      "metadata": {
        "colab_type": "code",
        "id": "5s0kuRnqx-Tz",
        "colab": {}
      },
      "source": [
        "#SEG_SOCIAL_dict = {\"SIN_INFORMACION\" : 9, \"CONTRIBUTIVO\":1 , \"NO_ASEGURADO\":2 ,\n",
        "#    \"SUBSIDIADO\": 3, 'EXCEPCION':4, 'ESPECIAL':5}\n",
        "\n",
        "\n",
        "#df_new['SEG_SOCIAL_CAT'] = df_new['SEG_SOCIAL'].apply(lambda x: SEG_SOCIAL_dict[x])\n",
        "#print(df_new['SEG_SOCIAL_CAT'].unique()) \n",
        "#print(df_new.shape)\n",
        "#df_new.head()\n",
        "\n"
      ],
      "execution_count": null,
      "outputs": []
    },
    {
      "cell_type": "code",
      "metadata": {
        "colab_type": "code",
        "id": "JSIUXdVQzrfz",
        "colab": {
          "base_uri": "https://localhost:8080/",
          "height": 34
        },
        "outputId": "12a7014c-1f4b-4d84-d518-92eec4dc8270"
      },
      "source": [
        "#df_new['SEXO'].unique()"
      ],
      "execution_count": null,
      "outputs": [
        {
          "output_type": "execute_result",
          "data": {
            "text/plain": [
              "array(['FEMENINO', 'MASCULINO', 'INDETERMINADO', '9'], dtype=object)"
            ]
          },
          "metadata": {
            "tags": []
          },
          "execution_count": 29
        }
      ]
    },
    {
      "cell_type": "code",
      "metadata": {
        "colab_type": "code",
        "id": "_4BvDVbgzrf5",
        "colab": {}
      },
      "source": [
        "#SEXO_dict = {'9' : 9, \"FEMENINO\":1 , \"MASCULINO\":2 ,\n",
        "#    \"INDETERMINADO\": 3}\n",
        "\n",
        "#df_new['SEXO_CAT'] = df_new['SEXO'].apply(lambda x: SEXO_dict[x])\n",
        "#print(df_new['SEXO_CAT'].unique()) \n",
        "#print(df_new.shape)\n",
        "#df_new.head()\n",
        "\n"
      ],
      "execution_count": null,
      "outputs": []
    },
    {
      "cell_type": "code",
      "metadata": {
        "colab_type": "code",
        "id": "W2oiPNQ70dT5",
        "colab": {}
      },
      "source": [
        "#df_new['SITIO_EVENTO'].unique()"
      ],
      "execution_count": null,
      "outputs": []
    },
    {
      "cell_type": "markdown",
      "metadata": {
        "id": "16h37DFb2HUV",
        "colab_type": "text"
      },
      "source": [
        "'2' = Centro puesto de salud. "
      ]
    },
    {
      "cell_type": "code",
      "metadata": {
        "colab_type": "code",
        "id": "_7a6e_pw0dT-",
        "colab": {}
      },
      "source": [
        "#SITIO_EVENTO_dict = {'SIN_INFORMACION' : 9, \"INSTITUCION_SALUD\":1 , \"2\":2 ,\n",
        "#    \"CASA\": 3, \"VIA_PUBLICA\": 4, \"OTRO\": 5, \"TRABAJO\": 6 }\n",
        "#2 = Centro puesto de salud \n",
        "\n",
        "#df_new['SITIO_EVENTO_CAT'] = df_new['SITIO_EVENTO'].apply(lambda x: SITIO_EVENTO_dict[x])\n",
        "#print(df_new['SITIO_EVENTO_CAT'].unique()) \n",
        "#print(df_new.shape)\n",
        "#df_new.head()\n",
        "\n"
      ],
      "execution_count": null,
      "outputs": []
    },
    {
      "cell_type": "code",
      "metadata": {
        "colab_type": "code",
        "id": "nPTaSygQ136j",
        "colab": {}
      },
      "source": [
        "#df_new['TIEMPO_GESTACION'].unique()"
      ],
      "execution_count": null,
      "outputs": []
    },
    {
      "cell_type": "code",
      "metadata": {
        "id": "dByIRNY24RgT",
        "colab_type": "code",
        "colab": {}
      },
      "source": [
        "#print(df_new[df_new['TIEMPO_GESTACION'] == '0'])"
      ],
      "execution_count": null,
      "outputs": []
    },
    {
      "cell_type": "code",
      "metadata": {
        "colab_type": "code",
        "id": "pcChU-HZ136z",
        "colab": {}
      },
      "source": [
        "#TIEMPO_GESTACION_dict = {'SIN_INFORMACION' : 9, \"0-22\":1 , \"22-27\":2 ,\n",
        "#    \"28-37\": 3,\"38-41\": 4, \"42-MAS\": 5, \"IGNORADO\": 9, '0':9}\n",
        "\n",
        "#df_new['TIEMPO_GESTACION_CAT'] = df_new['TIEMPO_GESTACION'].apply(lambda x: TIEMPO_GESTACION_dict[x])\n",
        "#print(df_new['TIEMPO_GESTACION_CAT'].unique()) \n",
        "#print(df_new.shape)\n",
        "#df_new.head()\n",
        "\n"
      ],
      "execution_count": null,
      "outputs": []
    },
    {
      "cell_type": "code",
      "metadata": {
        "colab_type": "code",
        "id": "nL9rxn_K5SWD",
        "colab": {}
      },
      "source": [
        "#df_new['TIPO_PARTO'].unique()"
      ],
      "execution_count": null,
      "outputs": []
    },
    {
      "cell_type": "code",
      "metadata": {
        "colab_type": "code",
        "id": "bQAmFDPa5SW3",
        "colab": {}
      },
      "source": [
        "#TIPO_PARTO_dict = {'SIN_INFORMACION' : 9, \"ESPONTANEO\":1 , \"CESAREA\":2 ,\n",
        "#    \"INSTRUMENTADO\": 3, 'IGNORADO':9 }\n",
        "\n",
        "#df_new['TIPO_PARTO_CAT'] = df_new['TIPO_PARTO'].apply(lambda x: TIPO_PARTO_dict[x])\n",
        "#print(df_new['TIPO_PARTO_CAT'].unique()) \n",
        "#print(df_new.shape)\n",
        "#df_new.head()\n",
        "\n"
      ],
      "execution_count": null,
      "outputs": []
    },
    {
      "cell_type": "code",
      "metadata": {
        "colab_type": "code",
        "id": "gXr5ZxMj-ub9",
        "colab": {}
      },
      "source": [
        "#df_new['TIPO_EMBARAZO'].unique()"
      ],
      "execution_count": null,
      "outputs": []
    },
    {
      "cell_type": "code",
      "metadata": {
        "colab_type": "code",
        "id": "nLqdVChj-ucX",
        "colab": {}
      },
      "source": [
        "#TIPO_EMBARAZO_dict = {'9' : 9, \"SIMPLE\":1 , \"DOBLE\":2 ,\n",
        "#    \"TRIPLE\": 3,\"CUADRUPLE_MAs\": 4, 'IGNORADO':9 }\n",
        "\n",
        "\n",
        "#df_new['TIPO_EMBARAZO_CAT'] = df_new['TIPO_EMBARAZO'].apply(lambda x: TIPO_EMBARAZO_dict[x])\n",
        "#print(df_new['TIPO_EMBARAZO_CAT'].unique()) \n",
        "#print(df_new.shape)\n",
        "#df_new.head()\n",
        "\n"
      ],
      "execution_count": null,
      "outputs": []
    },
    {
      "cell_type": "code",
      "metadata": {
        "id": "6F9NwMTdOmVz",
        "colab_type": "code",
        "colab": {}
      },
      "source": [
        "#print(df_new['NACIDO_VIVO'].unique())"
      ],
      "execution_count": null,
      "outputs": []
    },
    {
      "cell_type": "code",
      "metadata": {
        "colab_type": "code",
        "id": "8aufKp7yC957",
        "colab": {}
      },
      "source": [
        "#output_y_dic = {1:0, 0:1}\n",
        "#Modelando los muertos, en esta variable invertida (NACIDO_VIVO_INV)\n",
        "\n",
        "#df_new = df_cat_num_models[df4_full['NACIDO_VIVO'].isin(output_y_dic.keys())].copy()\n",
        "\n",
        "#df_new['NACIDO_VIVO_INV'] = df_new['NACIDO_VIVO'].apply(lambda x: output_y_dic[x])\n",
        "#print(df_new['NACIDO_VIVO_INV'].unique()) \n",
        "#print(df_new.shape)\n",
        "#df_new.tail()"
      ],
      "execution_count": null,
      "outputs": []
    },
    {
      "cell_type": "code",
      "metadata": {
        "id": "_aurgBOF2R8K",
        "colab_type": "code",
        "colab": {}
      },
      "source": [
        "#Almacenando este dataframe para no volver a hacer el procedimiento cada vez\n",
        "#df_new.to_csv(\"/content/drive/My Drive/DS4AProject/CleanDB_FULL_DsOrigin_RandomSample_NumCat.csv\")"
      ],
      "execution_count": null,
      "outputs": []
    },
    {
      "cell_type": "markdown",
      "metadata": {
        "id": "EUGiyOQ77ue3",
        "colab_type": "text"
      },
      "source": [
        "#Matriz de correlación"
      ]
    },
    {
      "cell_type": "code",
      "metadata": {
        "id": "u0-T3OW-eWtM",
        "colab_type": "code",
        "colab": {
          "base_uri": "https://localhost:8080/",
          "height": 914
        },
        "outputId": "33e1b1f4-d71f-4c21-eb6d-c337cb90bf74"
      },
      "source": [
        "data_full = [ df[\"NUMERO_EMBARAZOS\"].astype(float), df[\"NUM_CONSUL\"].astype(float),df['EDAD_MADRE'].astype(float),\n",
        "        df['EDAD_PADRE'].astype(float),\n",
        "         df['N_HIJOSM'].astype(float),df[\"N_HIJOSV\"].astype(float),df['PESO'].astype(float),\n",
        "        df[\"TALLA\"].astype(float)]\n",
        "\n",
        "headers_full = [\"NUMERO_EMBARAZOS\",\"NUM_CONSUL\",'EDAD_MADRE','EDAD_PADRE','N_HIJOSM',\"N_HIJOSV\",'PESO',\"TALLA\"]\n",
        "df3_full = pd.concat(data_full, axis=1, keys=headers_full)\n",
        "print(df3_full.corr(method=\"pearson\")) \n",
        "\n",
        "plt.figure(figsize=(15,10))\n",
        "sns.heatmap(df3_full.corr(), cmap=\"RdYlBu\", \n",
        "    annot=True, square=True,\n",
        "    vmin=-0.8, vmax=0.8, fmt=\"+.1f\")\n",
        "plt.title(\"Correlations between variables\")"
      ],
      "execution_count": null,
      "outputs": [
        {
          "output_type": "stream",
          "text": [
            "                  NUMERO_EMBARAZOS  NUM_CONSUL  ...      PESO     TALLA\n",
            "NUMERO_EMBARAZOS          1.000000    0.287301  ... -0.006956  0.280479\n",
            "NUM_CONSUL                0.287301    1.000000  ... -0.184426  0.815134\n",
            "EDAD_MADRE                0.329918    0.114829  ...  0.043834  0.105460\n",
            "EDAD_PADRE                0.291065    0.863559  ... -0.225889  0.851595\n",
            "N_HIJOSM                  0.717851    0.230508  ... -0.013590  0.227176\n",
            "N_HIJOSV                  0.735193    0.188348  ...  0.002408  0.181812\n",
            "PESO                     -0.006956   -0.184426  ...  1.000000 -0.018372\n",
            "TALLA                     0.280479    0.815134  ... -0.018372  1.000000\n",
            "\n",
            "[8 rows x 8 columns]\n"
          ],
          "name": "stdout"
        },
        {
          "output_type": "execute_result",
          "data": {
            "text/plain": [
              "Text(0.5, 1.0, 'Correlations between variables')"
            ]
          },
          "metadata": {
            "tags": []
          },
          "execution_count": 103
        },
        {
          "output_type": "display_data",
          "data": {
            "image/png": "[encoded data removed]",
            "text/plain": [
              "<Figure size 1080x720 with 2 Axes>"
            ]
          },
          "metadata": {
            "tags": [],
            "needs_background": "light"
          }
        }
      ]
    },
    {
      "cell_type": "markdown",
      "metadata": {
        "id": "Skmi38daO1Wm",
        "colab_type": "text"
      },
      "source": [
        "#MODELOS"
      ]
    },
    {
      "cell_type": "markdown",
      "metadata": {
        "id": "JMowHFKUCu4e",
        "colab_type": "text"
      },
      "source": [
        "Modelos con todas las variables categoricas numericas"
      ]
    },
    {
      "cell_type": "markdown",
      "metadata": {
        "id": "didXbins5egd",
        "colab_type": "text"
      },
      "source": [
        "\n",
        "\n",
        "1.   Modelo con datos de los 3 dataset originales \n",
        "\n"
      ]
    },
    {
      "cell_type": "code",
      "metadata": {
        "id": "RUiv0ifje9Dl",
        "colab_type": "code",
        "colab": {
          "base_uri": "https://localhost:8080/",
          "height": 323
        },
        "outputId": "82c0d253-71d2-4b64-f8b7-d68533dc22e9"
      },
      "source": [
        "df.columns"
      ],
      "execution_count": null,
      "outputs": [
        {
          "output_type": "execute_result",
          "data": {
            "text/plain": [
              "Index(['Unnamed: 0', 'Unnamed: 0.1', 'APGAR1', 'APGAR2', 'AREA',\n",
              "       'AREA_RESIDENCIA_HAB', 'ASIS_MED', 'CERT_EXPEDIDO_POR', 'CODOCUR',\n",
              "       'COD_DPTO', 'COD_INST', 'DEPTO_RESIDENCIA', 'EDAD_MADRE', 'EDAD_PADRE',\n",
              "       'ESTADO_CIVIL_M', 'FECHA_NAC_HIJO_VIVO', 'FILE_YEAR', 'GRU_ED1',\n",
              "       'IDFACTORRH', 'IDHEMOCLAS', 'IDPERTET', 'IDPUEBLOIN', 'MANERA_MUERTE',\n",
              "       'MOMENTO_MUERTE', 'NACIDO_VIVO', 'NIV_EDUCATIVO_M', 'NIV_EDUCATIVO_P',\n",
              "       'NOMBRE_ADM_SALUD', 'NOM_INST', 'NUMERO_EMBARAZOS', 'NUM_CONSUL',\n",
              "       'N_HIJOSM', 'N_HIJOSV', 'ORIGINAL_FILE', 'PAIS_RESIDENCIA',\n",
              "       'PARTO_ATENDIDO_POR', 'PESO', 'PROFESION_QUIEN_CERTIFICA',\n",
              "       'RESULTADO_EMB', 'SEG_SOCIAL', 'SEXO', 'SITIO_EVENTO', 'TALLA',\n",
              "       'TIEMPO_GESTACION', 'TIPO_ADM_SALUD', 'TIPO_EMBARAZO', 'TIPO_PARTO',\n",
              "       'ULT_GRADO_MADRE', 'ULT_GRADO_PADRE', 'ID_BIRTH', 'ID_RESID', 'ID_VIOL',\n",
              "       'DATE', 'DS_ORIG', 'CERT_EXP_POR_CAT', 'MANERA_MUERTE_CAT',\n",
              "       'MOMENTO_MUERTE_CAT', 'PARTO_ATENDIDO_POR_CAT',\n",
              "       'PROFESION_QUIEN_CERTIFICA_CAT', 'SEG_SOCIAL_CAT', 'SEXO_CAT',\n",
              "       'SITIO_EVENTO_CAT', 'TIEMPO_GESTACION_CAT', 'TIPO_PARTO_CAT',\n",
              "       'TIPO_EMBARAZO_CAT', 'NACIDO_VIVO_INV'],\n",
              "      dtype='object')"
            ]
          },
          "metadata": {
            "tags": []
          },
          "execution_count": 104
        }
      ]
    },
    {
      "cell_type": "code",
      "metadata": {
        "id": "5-dQxX6mlS-d",
        "colab_type": "code",
        "colab": {
          "base_uri": "https://localhost:8080/",
          "height": 241
        },
        "outputId": "a650b751-011d-4cc2-b814-161de990866d"
      },
      "source": [
        "df_new = df.copy()\n",
        "data_cat_num= [ df_new[\"APGAR1\"].astype(float), df_new[\"APGAR2\"].astype(float), df_new[\"NACIDO_VIVO\"].astype(float), df_new[\"TALLA\"].astype(float),\n",
        "               df_new[\"PESO\"].astype(float),df_new[\"AREA\"].astype('category'),\n",
        "         df_new[\"AREA_RESIDENCIA_HAB\"].astype(float),df_new[\"ASIS_MED\"].astype(float),\n",
        "         df_new[\"DEPTO_RESIDENCIA\"].astype(float),df_new[\"EDAD_MADRE\"].astype(float),\n",
        "        df_new[\"EDAD_PADRE\"].astype(float),df_new[\"ESTADO_CIVIL_M\"].astype(float),df_new[\"IDFACTORRH\"].astype(float),\n",
        "        df_new[\"IDHEMOCLAS\"].astype(float),df_new[\"IDPERTET\"].astype(float),df_new[\"IDPUEBLOIN\"].astype(float)\n",
        "        ,df_new[\"NUMERO_EMBARAZOS\"].astype(float),df_new[\"NUM_CONSUL\"].astype(float),df_new[\"N_HIJOSM\"].astype(float),\n",
        "        df_new[\"N_HIJOSV\"].astype(float),df_new[\"TIPO_ADM_SALUD\"].astype(float),df_new[\"SEXO_CAT\"].astype('category'),df_new[\"NACIDO_VIVO_INV\"].astype(float), \n",
        "        df_new[\"CERT_EXP_POR_CAT\"].astype('category'),df_new[\"MANERA_MUERTE_CAT\"].astype('category'),df_new[\"MOMENTO_MUERTE_CAT\"].astype('category'),\n",
        "        df_new[\"PARTO_ATENDIDO_POR_CAT\"].astype('category'), df_new[\"PROFESION_QUIEN_CERTIFICA_CAT\"].astype('category'), \n",
        "        df_new[\"SEG_SOCIAL_CAT\"].astype('category'),df_new[\"SITIO_EVENTO_CAT\"].astype('category'),df_new[\"TIEMPO_GESTACION_CAT\"].astype('category')\n",
        "        ,df_new[\"TIPO_PARTO_CAT\"].astype('category'),df_new[\"TIPO_EMBARAZO_CAT\"].astype('category')]\n",
        "headers_cat_num= [\"APGAR1\",\"APGAR2\",\"NACIDO_VIVO\",\"TALLA\",\"PESO\",\"AREA\",\n",
        "            \"AREA_RESIDENCIA_HAB\",\"ASIS_MED\", \"DEPTO_RESIDENCIA\",\n",
        "           \"EDAD_MADRE\",\"EDAD_PADRE\",\"ESTADO_CIVIL_M\"\n",
        "           ,\"IDFACTORRH\",\"IDHEMOCLAS\",\"IDPERTET\",\"IDPUEBLOIN\",\n",
        "           \"NUMERO_EMBARAZOS\",\"NUM_CONSUL\",\"N_HIJOSM\",\"N_HIJOSV\",\"TIPO_ADM_SALUD\",\"SEXO_CAT\",\"NACIDO_VIVO_INV\",\"CERT_EXP_POR_CAT\", \"MANERA_MUERTE_CAT\",\n",
        "           \"MOMENTO_MUERTE_CAT\", \"PARTO_ATENDIDO_POR_CAT\",\"PROFESION_QUIEN_CERTIFICA_CAT\",\"SEG_SOCIAL_CAT\",\"SITIO_EVENTO_CAT\",\"TIEMPO_GESTACION_CAT\",\"TIPO_PARTO_CAT\" ,\n",
        "           \"TIPO_EMBARAZO_CAT\"]\n",
        "df_cat_num_models= pd.concat(data_cat_num, axis=1, keys=headers_cat_num)\n",
        "print(df_cat_num_models.shape)\n",
        "df_cat_num_models.head()"
      ],
      "execution_count": null,
      "outputs": [
        {
          "output_type": "stream",
          "text": [
            "(1579068, 33)\n"
          ],
          "name": "stdout"
        },
        {
          "output_type": "execute_result",
          "data": {
            "text/html": [
              "<div>\n",
              "<style scoped>\n",
              "    .dataframe tbody tr th:only-of-type {\n",
              "        vertical-align: middle;\n",
              "    }\n",
              "\n",
              "    .dataframe tbody tr th {\n",
              "        vertical-align: top;\n",
              "    }\n",
              "\n",
              "    .dataframe thead th {\n",
              "        text-align: right;\n",
              "    }\n",
              "</style>\n",
              "<table border=\"1\" class=\"dataframe\">\n",
              "  <thead>\n",
              "    <tr style=\"text-align: right;\">\n",
              "      <th></th>\n",
              "      <th>APGAR1</th>\n",
              "      <th>APGAR2</th>\n",
              "      <th>NACIDO_VIVO</th>\n",
              "      <th>TALLA</th>\n",
              "      <th>PESO</th>\n",
              "      <th>AREA</th>\n",
              "      <th>AREA_RESIDENCIA_HAB</th>\n",
              "      <th>ASIS_MED</th>\n",
              "      <th>DEPTO_RESIDENCIA</th>\n",
              "      <th>EDAD_MADRE</th>\n",
              "      <th>EDAD_PADRE</th>\n",
              "      <th>ESTADO_CIVIL_M</th>\n",
              "      <th>IDFACTORRH</th>\n",
              "      <th>IDHEMOCLAS</th>\n",
              "      <th>IDPERTET</th>\n",
              "      <th>IDPUEBLOIN</th>\n",
              "      <th>NUMERO_EMBARAZOS</th>\n",
              "      <th>NUM_CONSUL</th>\n",
              "      <th>N_HIJOSM</th>\n",
              "      <th>N_HIJOSV</th>\n",
              "      <th>TIPO_ADM_SALUD</th>\n",
              "      <th>SEXO_CAT</th>\n",
              "      <th>NACIDO_VIVO_INV</th>\n",
              "      <th>CERT_EXP_POR_CAT</th>\n",
              "      <th>MANERA_MUERTE_CAT</th>\n",
              "      <th>MOMENTO_MUERTE_CAT</th>\n",
              "      <th>PARTO_ATENDIDO_POR_CAT</th>\n",
              "      <th>PROFESION_QUIEN_CERTIFICA_CAT</th>\n",
              "      <th>SEG_SOCIAL_CAT</th>\n",
              "      <th>SITIO_EVENTO_CAT</th>\n",
              "      <th>TIEMPO_GESTACION_CAT</th>\n",
              "      <th>TIPO_PARTO_CAT</th>\n",
              "      <th>TIPO_EMBARAZO_CAT</th>\n",
              "    </tr>\n",
              "  </thead>\n",
              "  <tbody>\n",
              "    <tr>\n",
              "      <th>0</th>\n",
              "      <td>9.0</td>\n",
              "      <td>10.0</td>\n",
              "      <td>1.0</td>\n",
              "      <td>5.0</td>\n",
              "      <td>5.0</td>\n",
              "      <td>1</td>\n",
              "      <td>1.0</td>\n",
              "      <td>9.0</td>\n",
              "      <td>76.0</td>\n",
              "      <td>3.0</td>\n",
              "      <td>24.0</td>\n",
              "      <td>1.0</td>\n",
              "      <td>1.0</td>\n",
              "      <td>3.0</td>\n",
              "      <td>9.0</td>\n",
              "      <td>5.0</td>\n",
              "      <td>2.0</td>\n",
              "      <td>5.0</td>\n",
              "      <td>0.0</td>\n",
              "      <td>2.0</td>\n",
              "      <td>2.0</td>\n",
              "      <td>1</td>\n",
              "      <td>0.0</td>\n",
              "      <td>9</td>\n",
              "      <td>9</td>\n",
              "      <td>9</td>\n",
              "      <td>1</td>\n",
              "      <td>1</td>\n",
              "      <td>3</td>\n",
              "      <td>1</td>\n",
              "      <td>4</td>\n",
              "      <td>1</td>\n",
              "      <td>1</td>\n",
              "    </tr>\n",
              "    <tr>\n",
              "      <th>1</th>\n",
              "      <td>8.0</td>\n",
              "      <td>9.0</td>\n",
              "      <td>1.0</td>\n",
              "      <td>5.0</td>\n",
              "      <td>7.0</td>\n",
              "      <td>1</td>\n",
              "      <td>1.0</td>\n",
              "      <td>9.0</td>\n",
              "      <td>8.0</td>\n",
              "      <td>2.0</td>\n",
              "      <td>19.0</td>\n",
              "      <td>1.0</td>\n",
              "      <td>1.0</td>\n",
              "      <td>3.0</td>\n",
              "      <td>9.0</td>\n",
              "      <td>6.0</td>\n",
              "      <td>1.0</td>\n",
              "      <td>4.0</td>\n",
              "      <td>0.0</td>\n",
              "      <td>1.0</td>\n",
              "      <td>2.0</td>\n",
              "      <td>1</td>\n",
              "      <td>0.0</td>\n",
              "      <td>9</td>\n",
              "      <td>9</td>\n",
              "      <td>9</td>\n",
              "      <td>1</td>\n",
              "      <td>1</td>\n",
              "      <td>3</td>\n",
              "      <td>1</td>\n",
              "      <td>4</td>\n",
              "      <td>1</td>\n",
              "      <td>1</td>\n",
              "    </tr>\n",
              "    <tr>\n",
              "      <th>2</th>\n",
              "      <td>8.0</td>\n",
              "      <td>9.0</td>\n",
              "      <td>1.0</td>\n",
              "      <td>5.0</td>\n",
              "      <td>6.0</td>\n",
              "      <td>1</td>\n",
              "      <td>1.0</td>\n",
              "      <td>9.0</td>\n",
              "      <td>8.0</td>\n",
              "      <td>2.0</td>\n",
              "      <td>22.0</td>\n",
              "      <td>2.0</td>\n",
              "      <td>1.0</td>\n",
              "      <td>2.0</td>\n",
              "      <td>9.0</td>\n",
              "      <td>6.0</td>\n",
              "      <td>1.0</td>\n",
              "      <td>5.0</td>\n",
              "      <td>0.0</td>\n",
              "      <td>1.0</td>\n",
              "      <td>2.0</td>\n",
              "      <td>2</td>\n",
              "      <td>0.0</td>\n",
              "      <td>9</td>\n",
              "      <td>9</td>\n",
              "      <td>9</td>\n",
              "      <td>1</td>\n",
              "      <td>1</td>\n",
              "      <td>3</td>\n",
              "      <td>1</td>\n",
              "      <td>4</td>\n",
              "      <td>2</td>\n",
              "      <td>1</td>\n",
              "    </tr>\n",
              "    <tr>\n",
              "      <th>3</th>\n",
              "      <td>8.0</td>\n",
              "      <td>9.0</td>\n",
              "      <td>1.0</td>\n",
              "      <td>5.0</td>\n",
              "      <td>6.0</td>\n",
              "      <td>1</td>\n",
              "      <td>1.0</td>\n",
              "      <td>9.0</td>\n",
              "      <td>11.0</td>\n",
              "      <td>2.0</td>\n",
              "      <td>19.0</td>\n",
              "      <td>1.0</td>\n",
              "      <td>1.0</td>\n",
              "      <td>3.0</td>\n",
              "      <td>9.0</td>\n",
              "      <td>6.0</td>\n",
              "      <td>1.0</td>\n",
              "      <td>10.0</td>\n",
              "      <td>0.0</td>\n",
              "      <td>1.0</td>\n",
              "      <td>1.0</td>\n",
              "      <td>1</td>\n",
              "      <td>0.0</td>\n",
              "      <td>9</td>\n",
              "      <td>9</td>\n",
              "      <td>9</td>\n",
              "      <td>1</td>\n",
              "      <td>1</td>\n",
              "      <td>1</td>\n",
              "      <td>1</td>\n",
              "      <td>4</td>\n",
              "      <td>1</td>\n",
              "      <td>1</td>\n",
              "    </tr>\n",
              "    <tr>\n",
              "      <th>4</th>\n",
              "      <td>9.0</td>\n",
              "      <td>9.0</td>\n",
              "      <td>1.0</td>\n",
              "      <td>5.0</td>\n",
              "      <td>7.0</td>\n",
              "      <td>1</td>\n",
              "      <td>1.0</td>\n",
              "      <td>9.0</td>\n",
              "      <td>47.0</td>\n",
              "      <td>2.0</td>\n",
              "      <td>21.0</td>\n",
              "      <td>2.0</td>\n",
              "      <td>1.0</td>\n",
              "      <td>4.0</td>\n",
              "      <td>9.0</td>\n",
              "      <td>6.0</td>\n",
              "      <td>2.0</td>\n",
              "      <td>3.0</td>\n",
              "      <td>0.0</td>\n",
              "      <td>2.0</td>\n",
              "      <td>9.0</td>\n",
              "      <td>1</td>\n",
              "      <td>0.0</td>\n",
              "      <td>9</td>\n",
              "      <td>9</td>\n",
              "      <td>9</td>\n",
              "      <td>1</td>\n",
              "      <td>2</td>\n",
              "      <td>2</td>\n",
              "      <td>1</td>\n",
              "      <td>4</td>\n",
              "      <td>1</td>\n",
              "      <td>1</td>\n",
              "    </tr>\n",
              "  </tbody>\n",
              "</table>\n",
              "</div>"
            ],
            "text/plain": [
              "   APGAR1  APGAR2  ...  TIPO_PARTO_CAT  TIPO_EMBARAZO_CAT\n",
              "0     9.0    10.0  ...               1                  1\n",
              "1     8.0     9.0  ...               1                  1\n",
              "2     8.0     9.0  ...               2                  1\n",
              "3     8.0     9.0  ...               1                  1\n",
              "4     9.0     9.0  ...               1                  1\n",
              "\n",
              "[5 rows x 33 columns]"
            ]
          },
          "metadata": {
            "tags": []
          },
          "execution_count": 5
        }
      ]
    },
    {
      "cell_type": "markdown",
      "metadata": {
        "id": "MAfdFeULm_Cr",
        "colab_type": "text"
      },
      "source": [
        "Modelo con todas las variables categoricas "
      ]
    },
    {
      "cell_type": "code",
      "metadata": {
        "id": "pm189z55k7q2",
        "colab_type": "code",
        "colab": {
          "base_uri": "https://localhost:8080/",
          "height": 1000
        },
        "outputId": "84099899-0547-4706-d1f6-c92afc51939a"
      },
      "source": [
        "FORMULA=\"NACIDO_VIVO_INV~NUMERO_EMBARAZOS+PESO+EDAD_MADRE+SEXO_CAT+CERT_EXP_POR_CAT+MANERA_MUERTE_CAT+MOMENTO_MUERTE_CAT+PARTO_ATENDIDO_POR_CAT+PROFESION_QUIEN_CERTIFICA_CAT+SEG_SOCIAL_CAT+SITIO_EVENTO_CAT+TIEMPO_GESTACION_CAT+TIPO_PARTO_CAT+TIPO_EMBARAZO_CAT\"\n",
        "modelo_full_output=smf.ols(FORMULA, data=df_cat_num_models).fit()\n",
        "print(modelo_full_output.summary())\n",
        "print(modelo_full_output.aic)"
      ],
      "execution_count": null,
      "outputs": [
        {
          "output_type": "stream",
          "text": [
            "                            OLS Regression Results                            \n",
            "==============================================================================\n",
            "Dep. Variable:        NACIDO_VIVO_INV   R-squared:                       1.000\n",
            "Model:                            OLS   Adj. R-squared:                  1.000\n",
            "Method:                 Least Squares   F-statistic:                 1.873e+31\n",
            "Date:                Sat, 11 Jul 2020   Prob (F-statistic):               0.00\n",
            "Time:                        19:56:08   Log-Likelihood:             4.8631e+07\n",
            "No. Observations:             1579068   AIC:                        -9.726e+07\n",
            "Df Residuals:                 1579015   BIC:                        -9.726e+07\n",
            "Df Model:                          52                                         \n",
            "Covariance Type:            nonrobust                                         \n",
            "======================================================================================================\n",
            "                                         coef    std err          t      P>|t|      [0.025      0.975]\n",
            "------------------------------------------------------------------------------------------------------\n",
            "Intercept                              1.0000   5.34e-16   1.87e+15      0.000       1.000       1.000\n",
            "SEXO_CAT[T.2]                      -7.661e-16   1.67e-17    -45.923      0.000   -7.99e-16   -7.33e-16\n",
            "SEXO_CAT[T.3]                       5.493e-16   1.07e-16      5.134      0.000     3.4e-16    7.59e-16\n",
            "SEXO_CAT[T.9]                       4.503e-14   2.56e-15     17.595      0.000       4e-14       5e-14\n",
            "CERT_EXP_POR_CAT[T.2]               7.186e-16   6.51e-17     11.042      0.000    5.91e-16    8.46e-16\n",
            "CERT_EXP_POR_CAT[T.3]               1.296e-14   2.22e-16     58.367      0.000    1.25e-14    1.34e-14\n",
            "CERT_EXP_POR_CAT[T.4]               1.171e-14   7.94e-16     14.749      0.000    1.02e-14    1.33e-14\n",
            "CERT_EXP_POR_CAT[T.9]                 -1.0000   8.03e-16  -1.24e+15      0.000      -1.000      -1.000\n",
            "MANERA_MUERTE_CAT[T.2]              7.592e-17   3.76e-16      0.202      0.840   -6.61e-16    8.13e-16\n",
            "MANERA_MUERTE_CAT[T.3]             -1.108e-15   2.09e-16     -5.302      0.000   -1.52e-15   -6.99e-16\n",
            "MANERA_MUERTE_CAT[T.9]             -2.504e-15   7.45e-17    -33.635      0.000   -2.65e-15   -2.36e-15\n",
            "MOMENTO_MUERTE_CAT[T.2]            -9.986e-16   1.75e-16     -5.708      0.000   -1.34e-15   -6.56e-16\n",
            "MOMENTO_MUERTE_CAT[T.3]             1.546e-15   2.87e-16      5.390      0.000    9.84e-16    2.11e-15\n",
            "MOMENTO_MUERTE_CAT[T.4]            -2.161e-15   1.18e-16    -18.355      0.000   -2.39e-15   -1.93e-15\n",
            "MOMENTO_MUERTE_CAT[T.9]             7.896e-16   6.17e-16      1.280      0.201    -4.2e-16       2e-15\n",
            "PARTO_ATENDIDO_POR_CAT[T.2]         -2.78e-16   2.77e-16     -1.002      0.316   -8.22e-16    2.66e-16\n",
            "PARTO_ATENDIDO_POR_CAT[T.3]        -1.393e-15   2.72e-16     -5.126      0.000   -1.93e-15    -8.6e-16\n",
            "PARTO_ATENDIDO_POR_CAT[T.4]        -3.558e-16   2.26e-16     -1.576      0.115   -7.98e-16    8.67e-17\n",
            "PARTO_ATENDIDO_POR_CAT[T.5]         1.707e-15    4.1e-16      4.163      0.000    9.03e-16    2.51e-15\n",
            "PARTO_ATENDIDO_POR_CAT[T.6]        -4.158e-16   2.11e-16     -1.972      0.049   -8.29e-16   -2.48e-18\n",
            "PARTO_ATENDIDO_POR_CAT[T.9]        -3.355e-16   5.22e-16     -0.643      0.520   -1.36e-15    6.87e-16\n",
            "PROFESION_QUIEN_CERTIFICA_CAT[T.2] -1.506e-16   9.88e-17     -1.525      0.127   -3.44e-16     4.3e-17\n",
            "PROFESION_QUIEN_CERTIFICA_CAT[T.3]    4.6e-16   2.24e-16      2.055      0.040    2.13e-17    8.99e-16\n",
            "PROFESION_QUIEN_CERTIFICA_CAT[T.4]  1.335e-16   1.83e-16      0.731      0.465   -2.25e-16    4.92e-16\n",
            "PROFESION_QUIEN_CERTIFICA_CAT[T.5] -7.891e-16   3.23e-16     -2.443      0.015   -1.42e-15   -1.56e-16\n",
            "PROFESION_QUIEN_CERTIFICA_CAT[T.6]  5.999e-15   2.64e-15      2.271      0.023     8.2e-16    1.12e-14\n",
            "PROFESION_QUIEN_CERTIFICA_CAT[T.9]  4.297e-17   2.11e-16      0.204      0.839    -3.7e-16    4.56e-16\n",
            "SEG_SOCIAL_CAT[T.2]                -2.501e-16   3.39e-17     -7.372      0.000   -3.17e-16   -1.84e-16\n",
            "SEG_SOCIAL_CAT[T.3]                 4.688e-16   1.74e-17     26.880      0.000    4.35e-16    5.03e-16\n",
            "SEG_SOCIAL_CAT[T.4]                 2.635e-16   5.41e-17      4.869      0.000    1.57e-16     3.7e-16\n",
            "SEG_SOCIAL_CAT[T.5]                 9.283e-17   2.37e-16      0.392      0.695   -3.71e-16    5.57e-16\n",
            "SEG_SOCIAL_CAT[T.9]                -9.107e-16    1.2e-16     -7.590      0.000   -1.15e-15   -6.76e-16\n",
            "SITIO_EVENTO_CAT[T.2]               1.808e-16   1.92e-16      0.944      0.345   -1.95e-16    5.56e-16\n",
            "SITIO_EVENTO_CAT[T.3]                 1.5e-15    1.1e-16     13.578      0.000    1.28e-15    1.72e-15\n",
            "SITIO_EVENTO_CAT[T.4]               2.063e-15   5.17e-16      3.992      0.000    1.05e-15    3.08e-15\n",
            "SITIO_EVENTO_CAT[T.5]                3.81e-16   5.05e-16      0.754      0.451   -6.09e-16    1.37e-15\n",
            "SITIO_EVENTO_CAT[T.6]              -5.028e-17   1.28e-15     -0.039      0.969   -2.55e-15    2.45e-15\n",
            "SITIO_EVENTO_CAT[T.9]              -7.163e-16   1.49e-16     -4.797      0.000   -1.01e-15   -4.24e-16\n",
            "TIEMPO_GESTACION_CAT[T.2]            1.43e-15   1.25e-16     11.460      0.000    1.19e-15    1.68e-15\n",
            "TIEMPO_GESTACION_CAT[T.3]           1.385e-16   1.04e-16      1.335      0.182   -6.48e-17    3.42e-16\n",
            "TIEMPO_GESTACION_CAT[T.4]           1.222e-15   1.04e-16     11.735      0.000    1.02e-15    1.43e-15\n",
            "TIEMPO_GESTACION_CAT[T.5]           1.117e-15   1.71e-16      6.545      0.000    7.82e-16    1.45e-15\n",
            "TIEMPO_GESTACION_CAT[T.9]           1.187e-15   7.95e-17     14.938      0.000    1.03e-15    1.34e-15\n",
            "TIPO_PARTO_CAT[T.2]                 1.842e-15   1.73e-17    106.512      0.000    1.81e-15    1.88e-15\n",
            "TIPO_PARTO_CAT[T.3]                 2.841e-16   6.51e-17      4.364      0.000    1.57e-16    4.12e-16\n",
            "TIPO_PARTO_CAT[T.9]                -3.353e-16   9.35e-17     -3.585      0.000   -5.19e-16   -1.52e-16\n",
            "TIPO_EMBARAZO_CAT[T.2]              1.332e-18   6.35e-17      0.021      0.983   -1.23e-16    1.26e-16\n",
            "TIPO_EMBARAZO_CAT[T.3]              6.177e-16   3.82e-16      1.618      0.106   -1.31e-16    1.37e-15\n",
            "TIPO_EMBARAZO_CAT[T.4]               1.51e-16   7.11e-16      0.212      0.832   -1.24e-15    1.55e-15\n",
            "TIPO_EMBARAZO_CAT[T.9]             -2.644e-16   7.77e-17     -3.401      0.001   -4.17e-16   -1.12e-16\n",
            "NUMERO_EMBARAZOS                    2.122e-16   7.96e-19    266.580      0.000    2.11e-16    2.14e-16\n",
            "PESO                                1.911e-16   6.63e-18     28.840      0.000    1.78e-16    2.04e-16\n",
            "EDAD_MADRE                         -3.161e-16   1.59e-18   -198.192      0.000   -3.19e-16   -3.13e-16\n",
            "==============================================================================\n",
            "Omnibus:                  1604635.458   Durbin-Watson:                   0.191\n",
            "Prob(Omnibus):                  0.000   Jarque-Bera (JB):        392646530.787\n",
            "Skew:                          -4.537   Prob(JB):                         0.00\n",
            "Kurtosis:                      79.717   Cond. No.                     4.31e+03\n",
            "==============================================================================\n",
            "\n",
            "Warnings:\n",
            "[1] Standard Errors assume that the covariance matrix of the errors is correctly specified.\n",
            "[2] The condition number is large, 4.31e+03. This might indicate that there are\n",
            "strong multicollinearity or other numerical problems.\n",
            "-97262349.5032868\n"
          ],
          "name": "stdout"
        }
      ]
    },
    {
      "cell_type": "markdown",
      "metadata": {
        "id": "G8T_L_G_nIQe",
        "colab_type": "text"
      },
      "source": [
        "Retiradas: \\\\\n",
        "1.PARTO_ATENDIDO_POR_CAT \\\\\n",
        "2.PROFESION_QUIEN_CERTIFICA_CAT \\\\ \n",
        "3.MANERA_MUERTE_CAT y MOMENTO_MUERTE_CAT -> Solo información para los muertos  \\\\\n",
        "4.+EDAD_MADRE \\\\\n",
        "5.TIPO_EMBARAZO_CAT ---> no esta rechazada del todo. Se debe recategorizar\n",
        "\n"
      ]
    },
    {
      "cell_type": "code",
      "metadata": {
        "id": "Gt6R1_fvm33F",
        "colab_type": "code",
        "colab": {
          "base_uri": "https://localhost:8080/",
          "height": 952
        },
        "outputId": "92993ad8-f46b-479a-f7e5-b69b5424d42a"
      },
      "source": [
        "FORMULA=\"NACIDO_VIVO_INV~NUMERO_EMBARAZOS+PESO+SEXO_CAT+CERT_EXP_POR_CAT+SEG_SOCIAL_CAT+SITIO_EVENTO_CAT+TIEMPO_GESTACION_CAT+TIPO_PARTO_CAT\"\n",
        "modelo_full_output=smf.ols(FORMULA, data=df_cat_num_models).fit()\n",
        "print(modelo_full_output.summary())\n",
        "print(modelo_full_output.aic)"
      ],
      "execution_count": null,
      "outputs": [
        {
          "output_type": "stream",
          "text": [
            "                            OLS Regression Results                            \n",
            "==============================================================================\n",
            "Dep. Variable:        NACIDO_VIVO_INV   R-squared:                       1.000\n",
            "Model:                            OLS   Adj. R-squared:                  1.000\n",
            "Method:                 Least Squares   F-statistic:                 9.928e+31\n",
            "Date:                Sat, 11 Jul 2020   Prob (F-statistic):               0.00\n",
            "Time:                        19:56:16   Log-Likelihood:             4.9459e+07\n",
            "No. Observations:             1579068   AIC:                        -9.892e+07\n",
            "Df Residuals:                 1579039   BIC:                        -9.892e+07\n",
            "Df Model:                          28                                         \n",
            "Covariance Type:            nonrobust                                         \n",
            "=============================================================================================\n",
            "                                coef    std err          t      P>|t|      [0.025      0.975]\n",
            "---------------------------------------------------------------------------------------------\n",
            "Intercept                     1.0000   6.26e-17    1.6e+16      0.000       1.000       1.000\n",
            "SEXO_CAT[T.2]              8.726e-16   9.87e-18     88.387      0.000    8.53e-16    8.92e-16\n",
            "SEXO_CAT[T.3]             -1.338e-16   5.67e-17     -2.359      0.018   -2.45e-16   -2.26e-17\n",
            "SEXO_CAT[T.9]              1.125e-14   1.51e-15      7.436      0.000    8.29e-15    1.42e-14\n",
            "CERT_EXP_POR_CAT[T.2]      2.594e-16   3.82e-17      6.793      0.000    1.85e-16    3.34e-16\n",
            "CERT_EXP_POR_CAT[T.3]      1.577e-14   1.19e-16    132.265      0.000    1.55e-14     1.6e-14\n",
            "CERT_EXP_POR_CAT[T.4]      1.396e-14   4.68e-16     29.829      0.000     1.3e-14    1.49e-14\n",
            "CERT_EXP_POR_CAT[T.9]        -1.0000   4.68e-17  -2.14e+16      0.000      -1.000      -1.000\n",
            "SEG_SOCIAL_CAT[T.2]       -2.228e-16      2e-17    -11.118      0.000   -2.62e-16   -1.84e-16\n",
            "SEG_SOCIAL_CAT[T.3]       -4.143e-17   1.03e-17     -4.021      0.000   -6.16e-17   -2.12e-17\n",
            "SEG_SOCIAL_CAT[T.4]       -3.686e-17    3.2e-17     -1.151      0.250   -9.96e-17    2.59e-17\n",
            "SEG_SOCIAL_CAT[T.5]        2.691e-16    1.4e-16      1.922      0.055   -5.37e-18    5.44e-16\n",
            "SEG_SOCIAL_CAT[T.9]        2.202e-16   6.96e-17      3.164      0.002    8.38e-17    3.57e-16\n",
            "SITIO_EVENTO_CAT[T.2]      2.357e-17   4.98e-17      0.474      0.636    -7.4e-17    1.21e-16\n",
            "SITIO_EVENTO_CAT[T.3]     -6.252e-16   6.23e-17    -10.043      0.000   -7.47e-16   -5.03e-16\n",
            "SITIO_EVENTO_CAT[T.4]       1.54e-15   3.04e-16      5.060      0.000    9.43e-16    2.14e-15\n",
            "SITIO_EVENTO_CAT[T.5]     -1.645e-15   2.98e-16     -5.527      0.000   -2.23e-15   -1.06e-15\n",
            "SITIO_EVENTO_CAT[T.6]     -3.455e-15   7.55e-16     -4.576      0.000   -4.93e-15   -1.97e-15\n",
            "SITIO_EVENTO_CAT[T.9]     -1.925e-15   8.39e-17    -22.939      0.000   -2.09e-15   -1.76e-15\n",
            "TIEMPO_GESTACION_CAT[T.2]  -1.27e-15   7.24e-17    -17.549      0.000   -1.41e-15   -1.13e-15\n",
            "TIEMPO_GESTACION_CAT[T.3] -8.736e-16   5.79e-17    -15.077      0.000   -9.87e-16    -7.6e-16\n",
            "TIEMPO_GESTACION_CAT[T.4] -5.771e-16   5.81e-17     -9.932      0.000   -6.91e-16   -4.63e-16\n",
            "TIEMPO_GESTACION_CAT[T.5] -1.456e-16   9.89e-17     -1.473      0.141   -3.39e-16    4.81e-17\n",
            "TIEMPO_GESTACION_CAT[T.9] -3.287e-16   4.62e-17     -7.120      0.000   -4.19e-16   -2.38e-16\n",
            "TIPO_PARTO_CAT[T.2]         -4.7e-17   1.02e-17     -4.625      0.000   -6.69e-17   -2.71e-17\n",
            "TIPO_PARTO_CAT[T.3]       -8.935e-17   3.84e-17     -2.325      0.020   -1.65e-16    -1.4e-17\n",
            "TIPO_PARTO_CAT[T.9]         -2.9e-16    5.2e-17     -5.581      0.000   -3.92e-16   -1.88e-16\n",
            "NUMERO_EMBARAZOS          -4.896e-17   4.51e-19   -108.514      0.000   -4.98e-17   -4.81e-17\n",
            "PESO                       5.858e-16   3.84e-18    152.475      0.000    5.78e-16    5.93e-16\n",
            "==============================================================================\n",
            "Omnibus:                   727783.404   Durbin-Watson:                   0.130\n",
            "Prob(Omnibus):                  0.000   Jarque-Bera (JB):         15401228.378\n",
            "Skew:                           1.726   Prob(JB):                         0.00\n",
            "Kurtosis:                      17.905   Cond. No.                     4.02e+03\n",
            "==============================================================================\n",
            "\n",
            "Warnings:\n",
            "[1] Standard Errors assume that the covariance matrix of the errors is correctly specified.\n",
            "[2] The condition number is large, 4.02e+03. This might indicate that there are\n",
            "strong multicollinearity or other numerical problems.\n",
            "-98918793.05657445\n"
          ],
          "name": "stdout"
        }
      ]
    },
    {
      "cell_type": "markdown",
      "metadata": {
        "id": "2QNTQk4L6GjP",
        "colab_type": "text"
      },
      "source": [
        "Retirada: \\\\\n",
        "CERT_EXP_POR_CAT"
      ]
    },
    {
      "cell_type": "code",
      "metadata": {
        "id": "D-dD1770qzNY",
        "colab_type": "code",
        "colab": {
          "base_uri": "https://localhost:8080/",
          "height": 935
        },
        "outputId": "d1052792-86e4-47bd-f01f-cac7f87569ca"
      },
      "source": [
        "#Este es el modelo con el que se está trabajando actualmente\n",
        "FORMULA=\"NACIDO_VIVO_INV~NUMERO_EMBARAZOS+PESO+SEXO_CAT+SEG_SOCIAL_CAT+SITIO_EVENTO_CAT+TIEMPO_GESTACION_CAT+TIPO_PARTO_CAT+AREA\"\n",
        "modelo_full_output=smf.ols(FORMULA, data=df_cat_num_models).fit()\n",
        "print(modelo_full_output.summary())\n",
        "print(modelo_full_output.aic)"
      ],
      "execution_count": null,
      "outputs": [
        {
          "output_type": "stream",
          "text": [
            "                            OLS Regression Results                            \n",
            "==============================================================================\n",
            "Dep. Variable:        NACIDO_VIVO_INV   R-squared:                       0.772\n",
            "Model:                            OLS   Adj. R-squared:                  0.772\n",
            "Method:                 Least Squares   F-statistic:                 1.976e+05\n",
            "Date:                Sat, 11 Jul 2020   Prob (F-statistic):               0.00\n",
            "Time:                        19:56:27   Log-Likelihood:             1.0938e+06\n",
            "No. Observations:             1579068   AIC:                        -2.188e+06\n",
            "Df Residuals:                 1579040   BIC:                        -2.187e+06\n",
            "Df Model:                          27                                         \n",
            "Covariance Type:            nonrobust                                         \n",
            "=============================================================================================\n",
            "                                coef    std err          t      P>|t|      [0.025      0.975]\n",
            "---------------------------------------------------------------------------------------------\n",
            "Intercept                     0.5765      0.001    519.923      0.000       0.574       0.579\n",
            "SEXO_CAT[T.2]                 0.0055      0.000     27.659      0.000       0.005       0.006\n",
            "SEXO_CAT[T.3]                 0.4698      0.001    442.209      0.000       0.468       0.472\n",
            "SEXO_CAT[T.9]                 0.0582      0.030      1.919      0.055      -0.001       0.118\n",
            "SEG_SOCIAL_CAT[T.2]           0.0066      0.000     16.468      0.000       0.006       0.007\n",
            "SEG_SOCIAL_CAT[T.3]           0.0045      0.000     21.541      0.000       0.004       0.005\n",
            "SEG_SOCIAL_CAT[T.4]           0.0023      0.001      3.649      0.000       0.001       0.004\n",
            "SEG_SOCIAL_CAT[T.5]           0.0006      0.003      0.221      0.825      -0.005       0.006\n",
            "SEG_SOCIAL_CAT[T.9]          -0.0538      0.001    -38.503      0.000      -0.057      -0.051\n",
            "SITIO_EVENTO_CAT[T.2]        -0.1323      0.001   -103.483      0.000      -0.135      -0.130\n",
            "SITIO_EVENTO_CAT[T.3]         0.1730      0.001    137.910      0.000       0.171       0.175\n",
            "SITIO_EVENTO_CAT[T.4]         0.4731      0.006     78.043      0.000       0.461       0.485\n",
            "SITIO_EVENTO_CAT[T.5]         0.3938      0.006     66.261      0.000       0.382       0.405\n",
            "SITIO_EVENTO_CAT[T.6]         0.2248      0.015     14.852      0.000       0.195       0.254\n",
            "SITIO_EVENTO_CAT[T.9]         0.1169      0.002     68.447      0.000       0.114       0.120\n",
            "TIEMPO_GESTACION_CAT[T.2]    -0.0099      0.001     -6.795      0.000      -0.013      -0.007\n",
            "TIEMPO_GESTACION_CAT[T.3]    -0.4825      0.001   -439.492      0.000      -0.485      -0.480\n",
            "TIEMPO_GESTACION_CAT[T.4]    -0.5014      0.001   -457.402      0.000      -0.504      -0.499\n",
            "TIEMPO_GESTACION_CAT[T.5]    -0.4807      0.002   -247.089      0.000      -0.485      -0.477\n",
            "TIEMPO_GESTACION_CAT[T.9]    -0.1374      0.001   -149.526      0.000      -0.139      -0.136\n",
            "TIPO_PARTO_CAT[T.2]          -0.0053      0.000    -26.133      0.000      -0.006      -0.005\n",
            "TIPO_PARTO_CAT[T.3]           0.0057      0.001      7.459      0.000       0.004       0.007\n",
            "TIPO_PARTO_CAT[T.9]           0.0307      0.001     29.648      0.000       0.029       0.033\n",
            "AREA[T.2]                     0.0056      0.001      3.997      0.000       0.003       0.008\n",
            "AREA[T.3]                    -0.0122      0.001     -8.693      0.000      -0.015      -0.009\n",
            "AREA[T.9]                    -0.3229      0.005    -59.545      0.000      -0.334      -0.312\n",
            "NUMERO_EMBARAZOS              0.0029   8.54e-06    333.762      0.000       0.003       0.003\n",
            "PESO                         -0.0132   7.63e-05   -173.049      0.000      -0.013      -0.013\n",
            "==============================================================================\n",
            "Omnibus:                  1539195.849   Durbin-Watson:                   1.999\n",
            "Prob(Omnibus):                  0.000   Jarque-Bera (JB):        103216441.853\n",
            "Skew:                           4.710   Prob(JB):                         0.00\n",
            "Kurtosis:                      41.471   Cond. No.                     4.02e+03\n",
            "==============================================================================\n",
            "\n",
            "Warnings:\n",
            "[1] Standard Errors assume that the covariance matrix of the errors is correctly specified.\n",
            "[2] The condition number is large, 4.02e+03. This might indicate that there are\n",
            "strong multicollinearity or other numerical problems.\n",
            "-2187614.9423083556\n"
          ],
          "name": "stdout"
        }
      ]
    },
    {
      "cell_type": "code",
      "metadata": {
        "id": "f-U3boMmJNGS",
        "colab_type": "code",
        "colab": {
          "base_uri": "https://localhost:8080/",
          "height": 282
        },
        "outputId": "da9721d5-c5eb-49e6-f75c-f84e98d07156"
      },
      "source": [
        "df_cat_num_models[\"residuos\"]=modelo_full_output.resid\n",
        "cost = df_cat_num_models[\"NACIDO_VIVO_INV\"]\n",
        "plt.scatter(cost, df_cat_num_models[\"residuos\"], s=2, alpha=0.3, color=\"grey\")"
      ],
      "execution_count": null,
      "outputs": [
        {
          "output_type": "execute_result",
          "data": {
            "text/plain": [
              "<matplotlib.collections.PathCollection at 0x7f4176faf0f0>"
            ]
          },
          "metadata": {
            "tags": []
          },
          "execution_count": 96
        },
        {
          "output_type": "display_data",
          "data": {
            "image/png": "[encoded data removed]",
            "text/plain": [
              "<Figure size 432x288 with 1 Axes>"
            ]
          },
          "metadata": {
            "tags": [],
            "needs_background": "light"
          }
        }
      ]
    },
    {
      "cell_type": "code",
      "metadata": {
        "id": "EsO_hWv2blE3",
        "colab_type": "code",
        "colab": {}
      },
      "source": [
        ""
      ],
      "execution_count": null,
      "outputs": []
    },
    {
      "cell_type": "markdown",
      "metadata": {
        "id": "MIzGAfpmbmbb",
        "colab_type": "text"
      },
      "source": [
        "#1.1 Modelo unicamente para vivos y fetales"
      ]
    },
    {
      "cell_type": "code",
      "metadata": {
        "id": "q1PvA7CLdd1Y",
        "colab_type": "code",
        "colab": {
          "base_uri": "https://localhost:8080/",
          "height": 34
        },
        "outputId": "ea12dd6d-3fa6-4365-e79a-ff82bebb5ef4"
      },
      "source": [
        "df_v_f = df[df[\"DS_ORIG\"]==1]\n",
        "df_v_f.shape"
      ],
      "execution_count": null,
      "outputs": [
        {
          "output_type": "execute_result",
          "data": {
            "text/plain": [
              "(1470255, 66)"
            ]
          },
          "metadata": {
            "tags": []
          },
          "execution_count": 10
        }
      ]
    },
    {
      "cell_type": "code",
      "metadata": {
        "id": "_yvGzCoQbwqO",
        "colab_type": "code",
        "colab": {}
      },
      "source": [
        "#df_v_f = df[df[\"DS_ORIG\"]==1]\n",
        "\n",
        "data_cat_= [ df_new[\"APGAR1\"].astype(float), df_new[\"APGAR2\"].astype(float), df_new[\"NACIDO_VIVO\"].astype(float), df_new[\"TALLA\"].astype(float),\n",
        "               df_new[\"PESO\"].astype(float),df_new[\"AREA\"].astype('category'),\n",
        "         df_new[\"AREA_RESIDENCIA_HAB\"].astype(float),df_new[\"ASIS_MED\"].astype(float),\n",
        "         df_new[\"DEPTO_RESIDENCIA\"].astype(float),df_new[\"EDAD_MADRE\"].astype(float),\n",
        "        df_new[\"EDAD_PADRE\"].astype(float),df_new[\"ESTADO_CIVIL_M\"].astype(float),df_new[\"IDFACTORRH\"].astype(float),\n",
        "        df_new[\"IDHEMOCLAS\"].astype(float),df_new[\"IDPERTET\"].astype(float),df_new[\"IDPUEBLOIN\"].astype(float)\n",
        "        ,df_new[\"NUMERO_EMBARAZOS\"].astype(float),df_new[\"NUM_CONSUL\"].astype(float),df_new[\"N_HIJOSM\"].astype(float),\n",
        "        df_new[\"N_HIJOSV\"].astype(float),df_new[\"TIPO_ADM_SALUD\"].astype(float),df_new[\"SEXO_CAT\"].astype('category'),df_new[\"NACIDO_VIVO_INV\"].astype(float), \n",
        "        df_new[\"CERT_EXP_POR_CAT\"].astype('category'),df_new[\"MANERA_MUERTE_CAT\"].astype('category'),df_new[\"MOMENTO_MUERTE_CAT\"].astype('category'),\n",
        "        df_new[\"PARTO_ATENDIDO_POR_CAT\"].astype('category'), df_new[\"PROFESION_QUIEN_CERTIFICA_CAT\"].astype('category'), \n",
        "        df_new[\"SEG_SOCIAL_CAT\"].astype('category'),df_new[\"SITIO_EVENTO_CAT\"].astype('category'),df_new[\"TIEMPO_GESTACION_CAT\"].astype('category')\n",
        "        ,df_new[\"TIPO_PARTO_CAT\"].astype('category'),df_new[\"TIPO_EMBARAZO_CAT\"].astype('category')]\n",
        "headers_cat_num= [\"APGAR1\",\"APGAR2\",\"NACIDO_VIVO\",\"TALLA\",\"PESO\",\"AREA\",\n",
        "            \"AREA_RESIDENCIA_HAB\",\"ASIS_MED\", \"DEPTO_RESIDENCIA\",\n",
        "           \"EDAD_MADRE\",\"EDAD_PADRE\",\"ESTADO_CIVIL_M\"\n",
        "           ,\"IDFACTORRH\",\"IDHEMOCLAS\",\"IDPERTET\",\"IDPUEBLOIN\",\n",
        "           \"NUMERO_EMBARAZOS\",\"NUM_CONSUL\",\"N_HIJOSM\",\"N_HIJOSV\",\"TIPO_ADM_SALUD\",\"SEXO_CAT\",\"NACIDO_VIVO_INV\",\"CERT_EXP_POR_CAT\", \"MANERA_MUERTE_CAT\",\n",
        "           \"MOMENTO_MUERTE_CAT\", \"PARTO_ATENDIDO_POR_CAT\",\"PROFESION_QUIEN_CERTIFICA_CAT\",\"SEG_SOCIAL_CAT\",\"SITIO_EVENTO_CAT\",\"TIEMPO_GESTACION_CAT\",\"TIPO_PARTO_CAT\" ,\n",
        "           \"TIPO_EMBARAZO_CAT\"]\n",
        "df_cat_num_models= pd.concat(data_cat_num, axis=1, keys=headers_cat_num)\n",
        "print(df_cat_num_models.shape)\n",
        "df_cat_num_models.head()"
      ],
      "execution_count": null,
      "outputs": []
    },
    {
      "cell_type": "code",
      "metadata": {
        "id": "cE2DT-IJbwzX",
        "colab_type": "code",
        "colab": {}
      },
      "source": [
        ""
      ],
      "execution_count": null,
      "outputs": []
    },
    {
      "cell_type": "code",
      "metadata": {
        "id": "g1L28y6Geud5",
        "colab_type": "code",
        "colab": {}
      },
      "source": [
        "#FORMULA=\"NACIDO_VIVO_INV~NUMERO_EMBARAZOS+PESO+EDAD_MADRE+SEXO_CAT+CERT_EXP_POR_CAT+MANERA_MUERTE_CAT+MOMENTO_MUERTE_CAT+PARTO_ATENDIDO_POR_CAT+PROFESION_QUIEN_CERTIFICA_CAT+SEG_SOCIAL_CAT+SITIO_EVENTO_CAT+TIEMPO_GESTACION_CAT+TIPO_PARTO_CAT+TIPO_EMBARAZO_CAT\"\n",
        "#modelo_cat=smf.ols(FORMULA, data=df_cat_num_models).fit()\n",
        "#print(modelo_cat.summary())\n",
        "#print(modelo_cat.aic)"
      ],
      "execution_count": null,
      "outputs": []
    },
    {
      "cell_type": "markdown",
      "metadata": {
        "id": "Awuc0gbVCklH",
        "colab_type": "text"
      },
      "source": [
        "#1.2 Modelos con las variables categoricas con valor de string iniciales\n",
        "\n",
        "Nota: Se observa que muchas de estas variables sesgan el modelo al solo tener valores para algunos de los datasets originales. Por lo tanto NO SE CONCIDERAN LOS MODELOS MAS OPTIMOS Y SE DESCARTAN. Se encuentra aun en el notebook para visualización e información"
      ]
    },
    {
      "cell_type": "code",
      "metadata": {
        "id": "puf2O-cDPD5S",
        "colab_type": "code",
        "colab": {
          "base_uri": "https://localhost:8080/",
          "height": 224
        },
        "outputId": "0ac39c1b-632b-471b-e9db-65562ef5a008"
      },
      "source": [
        "data2 = [ df[\"APGAR1\"].astype(float), df[\"APGAR2\"].astype(float), df[\"NACIDO_VIVO\"].astype(float)\n",
        "        , df[\"TALLA\"].astype(float),df[\"PESO\"].astype(float),df[\"AREA\"].astype(float),\n",
        "         df[\"AREA_RESIDENCIA_HAB\"].astype(float),df[\"ASIS_MED\"].astype(float),\n",
        "         df[\"DEPTO_RESIDENCIA\"].astype(float),df[\"EDAD_MADRE\"].astype(float),\n",
        "        df[\"EDAD_PADRE\"].astype(float),df[\"ESTADO_CIVIL_M\"].astype(float),df[\"IDFACTORRH\"].astype(float),\n",
        "        df[\"IDHEMOCLAS\"].astype(float),df[\"IDPERTET\"].astype(float),df[\"IDPUEBLOIN\"].astype(float),\n",
        "        df[\"NUMERO_EMBARAZOS\"].astype(float),df[\"NUM_CONSUL\"].astype(float),df[\"N_HIJOSM\"].astype(float),\n",
        "        df[\"N_HIJOSV\"].astype(float),df[\"TIPO_ADM_SALUD\"].astype(float),df[\"NACIDO_VIVO_INV\"].astype(float)]\n",
        "headers2 = [\"APGAR1\",\"APGAR2\",\"NACIDO_VIVO\",\"TALLA\",\"PESO\",\"AREA\",\n",
        "            \"AREA_RESIDENCIA_HAB\",\"ASIS_MED\", \"DEPTO_RESIDENCIA\",\n",
        "           \"EDAD_MADRE\",\"EDAD_PADRE\",\"ESTADO_CIVIL_M\"\n",
        "           ,\"IDFACTORRH\",\"IDHEMOCLAS\",\"IDPERTET\",\"IDPUEBLOIN\",\n",
        "           \"NUMERO_EMBARAZOS\"\n",
        "           ,\"NUM_CONSUL\",\"N_HIJOSM\",\"N_HIJOSV\",\"TIPO_ADM_SALUD\",\"NACIDO_VIVO_INV\"]\n",
        "df4 = pd.concat(data2, axis=1, keys=headers2)\n",
        "df4.head()"
      ],
      "execution_count": null,
      "outputs": [
        {
          "output_type": "execute_result",
          "data": {
            "text/html": [
              "<div>\n",
              "<style scoped>\n",
              "    .dataframe tbody tr th:only-of-type {\n",
              "        vertical-align: middle;\n",
              "    }\n",
              "\n",
              "    .dataframe tbody tr th {\n",
              "        vertical-align: top;\n",
              "    }\n",
              "\n",
              "    .dataframe thead th {\n",
              "        text-align: right;\n",
              "    }\n",
              "</style>\n",
              "<table border=\"1\" class=\"dataframe\">\n",
              "  <thead>\n",
              "    <tr style=\"text-align: right;\">\n",
              "      <th></th>\n",
              "      <th>APGAR1</th>\n",
              "      <th>APGAR2</th>\n",
              "      <th>NACIDO_VIVO</th>\n",
              "      <th>TALLA</th>\n",
              "      <th>PESO</th>\n",
              "      <th>AREA</th>\n",
              "      <th>AREA_RESIDENCIA_HAB</th>\n",
              "      <th>ASIS_MED</th>\n",
              "      <th>DEPTO_RESIDENCIA</th>\n",
              "      <th>EDAD_MADRE</th>\n",
              "      <th>EDAD_PADRE</th>\n",
              "      <th>ESTADO_CIVIL_M</th>\n",
              "      <th>IDFACTORRH</th>\n",
              "      <th>IDHEMOCLAS</th>\n",
              "      <th>IDPERTET</th>\n",
              "      <th>IDPUEBLOIN</th>\n",
              "      <th>NUMERO_EMBARAZOS</th>\n",
              "      <th>NUM_CONSUL</th>\n",
              "      <th>N_HIJOSM</th>\n",
              "      <th>N_HIJOSV</th>\n",
              "      <th>TIPO_ADM_SALUD</th>\n",
              "      <th>NACIDO_VIVO_INV</th>\n",
              "    </tr>\n",
              "  </thead>\n",
              "  <tbody>\n",
              "    <tr>\n",
              "      <th>0</th>\n",
              "      <td>9.0</td>\n",
              "      <td>10.0</td>\n",
              "      <td>1.0</td>\n",
              "      <td>5.0</td>\n",
              "      <td>5.0</td>\n",
              "      <td>1.0</td>\n",
              "      <td>1.0</td>\n",
              "      <td>9.0</td>\n",
              "      <td>76.0</td>\n",
              "      <td>3.0</td>\n",
              "      <td>24.0</td>\n",
              "      <td>1.0</td>\n",
              "      <td>1.0</td>\n",
              "      <td>3.0</td>\n",
              "      <td>9.0</td>\n",
              "      <td>5.0</td>\n",
              "      <td>2.0</td>\n",
              "      <td>5.0</td>\n",
              "      <td>0.0</td>\n",
              "      <td>2.0</td>\n",
              "      <td>2.0</td>\n",
              "      <td>0.0</td>\n",
              "    </tr>\n",
              "    <tr>\n",
              "      <th>1</th>\n",
              "      <td>8.0</td>\n",
              "      <td>9.0</td>\n",
              "      <td>1.0</td>\n",
              "      <td>5.0</td>\n",
              "      <td>7.0</td>\n",
              "      <td>1.0</td>\n",
              "      <td>1.0</td>\n",
              "      <td>9.0</td>\n",
              "      <td>8.0</td>\n",
              "      <td>2.0</td>\n",
              "      <td>19.0</td>\n",
              "      <td>1.0</td>\n",
              "      <td>1.0</td>\n",
              "      <td>3.0</td>\n",
              "      <td>9.0</td>\n",
              "      <td>6.0</td>\n",
              "      <td>1.0</td>\n",
              "      <td>4.0</td>\n",
              "      <td>0.0</td>\n",
              "      <td>1.0</td>\n",
              "      <td>2.0</td>\n",
              "      <td>0.0</td>\n",
              "    </tr>\n",
              "    <tr>\n",
              "      <th>2</th>\n",
              "      <td>8.0</td>\n",
              "      <td>9.0</td>\n",
              "      <td>1.0</td>\n",
              "      <td>5.0</td>\n",
              "      <td>6.0</td>\n",
              "      <td>1.0</td>\n",
              "      <td>1.0</td>\n",
              "      <td>9.0</td>\n",
              "      <td>8.0</td>\n",
              "      <td>2.0</td>\n",
              "      <td>22.0</td>\n",
              "      <td>2.0</td>\n",
              "      <td>1.0</td>\n",
              "      <td>2.0</td>\n",
              "      <td>9.0</td>\n",
              "      <td>6.0</td>\n",
              "      <td>1.0</td>\n",
              "      <td>5.0</td>\n",
              "      <td>0.0</td>\n",
              "      <td>1.0</td>\n",
              "      <td>2.0</td>\n",
              "      <td>0.0</td>\n",
              "    </tr>\n",
              "    <tr>\n",
              "      <th>3</th>\n",
              "      <td>8.0</td>\n",
              "      <td>9.0</td>\n",
              "      <td>1.0</td>\n",
              "      <td>5.0</td>\n",
              "      <td>6.0</td>\n",
              "      <td>1.0</td>\n",
              "      <td>1.0</td>\n",
              "      <td>9.0</td>\n",
              "      <td>11.0</td>\n",
              "      <td>2.0</td>\n",
              "      <td>19.0</td>\n",
              "      <td>1.0</td>\n",
              "      <td>1.0</td>\n",
              "      <td>3.0</td>\n",
              "      <td>9.0</td>\n",
              "      <td>6.0</td>\n",
              "      <td>1.0</td>\n",
              "      <td>10.0</td>\n",
              "      <td>0.0</td>\n",
              "      <td>1.0</td>\n",
              "      <td>1.0</td>\n",
              "      <td>0.0</td>\n",
              "    </tr>\n",
              "    <tr>\n",
              "      <th>4</th>\n",
              "      <td>9.0</td>\n",
              "      <td>9.0</td>\n",
              "      <td>1.0</td>\n",
              "      <td>5.0</td>\n",
              "      <td>7.0</td>\n",
              "      <td>1.0</td>\n",
              "      <td>1.0</td>\n",
              "      <td>9.0</td>\n",
              "      <td>47.0</td>\n",
              "      <td>2.0</td>\n",
              "      <td>21.0</td>\n",
              "      <td>2.0</td>\n",
              "      <td>1.0</td>\n",
              "      <td>4.0</td>\n",
              "      <td>9.0</td>\n",
              "      <td>6.0</td>\n",
              "      <td>2.0</td>\n",
              "      <td>3.0</td>\n",
              "      <td>0.0</td>\n",
              "      <td>2.0</td>\n",
              "      <td>9.0</td>\n",
              "      <td>0.0</td>\n",
              "    </tr>\n",
              "  </tbody>\n",
              "</table>\n",
              "</div>"
            ],
            "text/plain": [
              "   APGAR1  APGAR2  NACIDO_VIVO  ...  N_HIJOSV  TIPO_ADM_SALUD  NACIDO_VIVO_INV\n",
              "0     9.0    10.0          1.0  ...       2.0             2.0              0.0\n",
              "1     8.0     9.0          1.0  ...       1.0             2.0              0.0\n",
              "2     8.0     9.0          1.0  ...       1.0             2.0              0.0\n",
              "3     8.0     9.0          1.0  ...       1.0             1.0              0.0\n",
              "4     9.0     9.0          1.0  ...       2.0             9.0              0.0\n",
              "\n",
              "[5 rows x 22 columns]"
            ]
          },
          "metadata": {
            "tags": []
          },
          "execution_count": 86
        }
      ]
    },
    {
      "cell_type": "code",
      "metadata": {
        "id": "oKZ7hErHPEDM",
        "colab_type": "code",
        "colab": {
          "base_uri": "https://localhost:8080/",
          "height": 816
        },
        "outputId": "b4a3a98b-2aad-4017-f623-c9a70f2fe9b7"
      },
      "source": [
        "FORMULA=\"NACIDO_VIVO~APGAR1+APGAR2+TALLA+PESO+AREA+AREA_RESIDENCIA_HAB+ASIS_MED+DEPTO_RESIDENCIA+EDAD_MADRE+EDAD_PADRE+ESTADO_CIVIL_M+IDFACTORRH+IDHEMOCLAS+IDPERTET+IDPUEBLOIN+NUMERO_EMBARAZOS+NUM_CONSUL+N_HIJOSM+N_HIJOSV+TIPO_ADM_SALUD\"\n",
        "modelo=smf.ols(FORMULA, data=df4).fit()\n",
        "print(modelo.summary())\n",
        "print(modelo.aic)"
      ],
      "execution_count": null,
      "outputs": [
        {
          "output_type": "stream",
          "text": [
            "                            OLS Regression Results                            \n",
            "==============================================================================\n",
            "Dep. Variable:            NACIDO_VIVO   R-squared:                       0.993\n",
            "Model:                            OLS   Adj. R-squared:                  0.993\n",
            "Method:                 Least Squares   F-statistic:                 1.074e+07\n",
            "Date:                Sat, 11 Jul 2020   Prob (F-statistic):               0.00\n",
            "Time:                        17:44:15   Log-Likelihood:             3.8125e+06\n",
            "No. Observations:             1579068   AIC:                        -7.625e+06\n",
            "Df Residuals:                 1579047   BIC:                        -7.625e+06\n",
            "Df Model:                          20                                         \n",
            "Covariance Type:            nonrobust                                         \n",
            "=======================================================================================\n",
            "                          coef    std err          t      P>|t|      [0.025      0.975]\n",
            "---------------------------------------------------------------------------------------\n",
            "Intercept               0.1134      0.001    212.485      0.000       0.112       0.114\n",
            "APGAR1                 -0.0003   5.77e-06    -43.483      0.000      -0.000      -0.000\n",
            "APGAR2              -7.983e-05   5.71e-06    -13.987      0.000    -9.1e-05   -6.86e-05\n",
            "TALLA                  -0.0043   3.21e-05   -134.192      0.000      -0.004      -0.004\n",
            "PESO                    0.0012   1.32e-05     90.125      0.000       0.001       0.001\n",
            "AREA                    0.0083   8.53e-05     97.417      0.000       0.008       0.008\n",
            "AREA_RESIDENCIA_HAB -3.892e-05   1.89e-05     -2.062      0.039   -7.59e-05   -1.93e-06\n",
            "ASIS_MED                0.1032   4.01e-05   2571.675      0.000       0.103       0.103\n",
            "DEPTO_RESIDENCIA    -4.766e-06   6.59e-07     -7.233      0.000   -6.06e-06   -3.47e-06\n",
            "EDAD_MADRE          -6.472e-05   3.29e-06    -19.672      0.000   -7.12e-05   -5.83e-05\n",
            "EDAD_PADRE             -0.0001   2.53e-07   -400.436      0.000      -0.000      -0.000\n",
            "ESTADO_CIVIL_M          0.0002   7.77e-06     31.893      0.000       0.000       0.000\n",
            "IDFACTORRH             -0.0003   1.95e-05    -13.400      0.000      -0.000      -0.000\n",
            "IDHEMOCLAS             -0.0001   2.02e-05     -5.968      0.000      -0.000   -8.11e-05\n",
            "IDPERTET               -0.0020   2.35e-05    -86.272      0.000      -0.002      -0.002\n",
            "IDPUEBLOIN             -0.0018   1.84e-05    -96.425      0.000      -0.002      -0.002\n",
            "NUMERO_EMBARAZOS       -0.0015   6.76e-05    -22.322      0.000      -0.002      -0.001\n",
            "NUM_CONSUL             -0.0002    1.5e-06   -134.264      0.000      -0.000      -0.000\n",
            "N_HIJOSM                0.0011   6.74e-05     16.864      0.000       0.001       0.001\n",
            "N_HIJOSV                0.0013   6.73e-05     19.788      0.000       0.001       0.001\n",
            "TIPO_ADM_SALUD      -6.045e-05    8.2e-06     -7.376      0.000   -7.65e-05   -4.44e-05\n",
            "==============================================================================\n",
            "Omnibus:                  3993662.011   Durbin-Watson:                   1.999\n",
            "Prob(Omnibus):                  0.000   Jarque-Bera (JB):      77055699925.336\n",
            "Skew:                         -28.335   Prob(JB):                         0.00\n",
            "Kurtosis:                    1083.715   Cond. No.                     8.60e+03\n",
            "==============================================================================\n",
            "\n",
            "Warnings:\n",
            "[1] Standard Errors assume that the covariance matrix of the errors is correctly specified.\n",
            "[2] The condition number is large, 8.6e+03. This might indicate that there are\n",
            "strong multicollinearity or other numerical problems.\n",
            "-7624862.060017666\n"
          ],
          "name": "stdout"
        }
      ]
    },
    {
      "cell_type": "code",
      "metadata": {
        "id": "rKjlLudBPEK3",
        "colab_type": "code",
        "colab": {
          "base_uri": "https://localhost:8080/",
          "height": 765
        },
        "outputId": "3401278a-2515-4ef7-e975-79e67606f721"
      },
      "source": [
        "FORMULA=\"NACIDO_VIVO~APGAR1+APGAR2+TALLA+PESO+AREA+AREA_RESIDENCIA_HAB+ASIS_MED+DEPTO_RESIDENCIA+EDAD_MADRE+EDAD_PADRE+ESTADO_CIVIL_M+IDFACTORRH+IDHEMOCLAS+IDPERTET+IDPUEBLOIN+NUM_CONSUL+TIPO_ADM_SALUD\"\n",
        "modelo2=smf.ols(FORMULA, data=df4).fit()\n",
        "print(modelo2.summary())\n",
        "print(modelo2.aic)"
      ],
      "execution_count": null,
      "outputs": [
        {
          "output_type": "stream",
          "text": [
            "                            OLS Regression Results                            \n",
            "==============================================================================\n",
            "Dep. Variable:            NACIDO_VIVO   R-squared:                       0.993\n",
            "Model:                            OLS   Adj. R-squared:                  0.993\n",
            "Method:                 Least Squares   F-statistic:                 1.237e+07\n",
            "Date:                Sat, 11 Jul 2020   Prob (F-statistic):               0.00\n",
            "Time:                        17:44:19   Log-Likelihood:             3.7958e+06\n",
            "No. Observations:             1579068   AIC:                        -7.592e+06\n",
            "Df Residuals:                 1579050   BIC:                        -7.591e+06\n",
            "Df Model:                          17                                         \n",
            "Covariance Type:            nonrobust                                         \n",
            "=======================================================================================\n",
            "                          coef    std err          t      P>|t|      [0.025      0.975]\n",
            "---------------------------------------------------------------------------------------\n",
            "Intercept               0.1082      0.001    201.383      0.000       0.107       0.109\n",
            "APGAR1                 -0.0003   5.83e-06    -42.971      0.000      -0.000      -0.000\n",
            "APGAR2              -8.346e-05   5.77e-06    -14.469      0.000   -9.48e-05   -7.22e-05\n",
            "TALLA                  -0.0043   3.24e-05   -132.407      0.000      -0.004      -0.004\n",
            "PESO                    0.0011   1.34e-05     81.370      0.000       0.001       0.001\n",
            "AREA                    0.0083   8.61e-05     95.988      0.000       0.008       0.008\n",
            "AREA_RESIDENCIA_HAB    -0.0002    1.9e-05    -10.306      0.000      -0.000      -0.000\n",
            "ASIS_MED                0.1034   4.05e-05   2553.470      0.000       0.103       0.104\n",
            "DEPTO_RESIDENCIA    -3.386e-06   6.66e-07     -5.086      0.000   -4.69e-06   -2.08e-06\n",
            "EDAD_MADRE             -0.0002   3.16e-06    -70.858      0.000      -0.000      -0.000\n",
            "EDAD_PADRE             -0.0001   2.56e-07   -401.240      0.000      -0.000      -0.000\n",
            "ESTADO_CIVIL_M          0.0002   7.85e-06     24.987      0.000       0.000       0.000\n",
            "IDFACTORRH             -0.0003   1.97e-05    -14.320      0.000      -0.000      -0.000\n",
            "IDHEMOCLAS             -0.0001   2.04e-05     -5.567      0.000      -0.000   -7.37e-05\n",
            "IDPERTET               -0.0017   2.35e-05    -70.086      0.000      -0.002      -0.002\n",
            "IDPUEBLOIN             -0.0016   1.86e-05    -87.270      0.000      -0.002      -0.002\n",
            "NUM_CONSUL             -0.0002   1.51e-06   -136.861      0.000      -0.000      -0.000\n",
            "TIPO_ADM_SALUD         -0.0001   8.28e-06    -12.141      0.000      -0.000   -8.43e-05\n",
            "==============================================================================\n",
            "Omnibus:                  4022047.732   Durbin-Watson:                   2.000\n",
            "Prob(Omnibus):                  0.000   Jarque-Bera (JB):      80404841894.159\n",
            "Skew:                         -28.852   Prob(JB):                         0.00\n",
            "Kurtosis:                    1106.961   Cond. No.                     8.57e+03\n",
            "==============================================================================\n",
            "\n",
            "Warnings:\n",
            "[1] Standard Errors assume that the covariance matrix of the errors is correctly specified.\n",
            "[2] The condition number is large, 8.57e+03. This might indicate that there are\n",
            "strong multicollinearity or other numerical problems.\n",
            "-7591531.042493872\n"
          ],
          "name": "stdout"
        }
      ]
    },
    {
      "cell_type": "code",
      "metadata": {
        "id": "iQjKUJ6yOfmz",
        "colab_type": "code",
        "colab": {
          "base_uri": "https://localhost:8080/",
          "height": 493
        },
        "outputId": "a749a82d-9b8b-45a7-bd40-08db4d2ed670"
      },
      "source": [
        "FORMULA=\"NACIDO_VIVO_INV~NUMERO_EMBARAZOS+PESO+EDAD_MADRE\"\n",
        "modelo_full_output=smf.ols(FORMULA, data=df4).fit()\n",
        "print(modelo_full_output.summary())\n",
        "print(modelo_full_output.aic)"
      ],
      "execution_count": null,
      "outputs": [
        {
          "output_type": "stream",
          "text": [
            "                            OLS Regression Results                            \n",
            "==============================================================================\n",
            "Dep. Variable:        NACIDO_VIVO_INV   R-squared:                       0.144\n",
            "Model:                            OLS   Adj. R-squared:                  0.144\n",
            "Method:                 Least Squares   F-statistic:                 8.881e+04\n",
            "Date:                Sat, 11 Jul 2020   Prob (F-statistic):               0.00\n",
            "Time:                        17:44:40   Log-Likelihood:                 50849.\n",
            "No. Observations:             1579068   AIC:                        -1.017e+05\n",
            "Df Residuals:                 1579064   BIC:                        -1.016e+05\n",
            "Df Model:                           3                                         \n",
            "Covariance Type:            nonrobust                                         \n",
            "====================================================================================\n",
            "                       coef    std err          t      P>|t|      [0.025      0.975]\n",
            "------------------------------------------------------------------------------------\n",
            "Intercept            0.2807      0.001    372.513      0.000       0.279       0.282\n",
            "NUMERO_EMBARAZOS     0.0063   1.62e-05    386.684      0.000       0.006       0.006\n",
            "PESO                -0.0405      0.000   -318.249      0.000      -0.041      -0.040\n",
            "EDAD_MADRE          -0.0007   3.49e-05    -20.396      0.000      -0.001      -0.001\n",
            "==============================================================================\n",
            "Omnibus:                  1094975.625   Durbin-Watson:                   1.997\n",
            "Prob(Omnibus):                  0.000   Jarque-Bera (JB):         11656986.706\n",
            "Skew:                           3.407   Prob(JB):                         0.00\n",
            "Kurtosis:                      14.435   Cond. No.                         54.2\n",
            "==============================================================================\n",
            "\n",
            "Warnings:\n",
            "[1] Standard Errors assume that the covariance matrix of the errors is correctly specified.\n",
            "-101689.73667105054\n"
          ],
          "name": "stdout"
        }
      ]
    },
    {
      "cell_type": "code",
      "metadata": {
        "id": "fFkCHACZLkmT",
        "colab_type": "code",
        "colab": {
          "base_uri": "https://localhost:8080/",
          "height": 527
        },
        "outputId": "e18d88ff-d7bf-47be-eb37-479ef0ae33e0"
      },
      "source": [
        "FORMULA=\"NACIDO_VIVO~EDAD_PADRE+NUMERO_EMBARAZOS+PESO\"\n",
        "modelo_full=smf.ols(FORMULA, data=df4).fit()\n",
        "print(modelo_full.summary())\n",
        "print(modelo_full.aic)"
      ],
      "execution_count": null,
      "outputs": [
        {
          "output_type": "stream",
          "text": [
            "                            OLS Regression Results                            \n",
            "==============================================================================\n",
            "Dep. Variable:            NACIDO_VIVO   R-squared:                       0.933\n",
            "Model:                            OLS   Adj. R-squared:                  0.933\n",
            "Method:                 Least Squares   F-statistic:                 7.349e+06\n",
            "Date:                Sat, 11 Jul 2020   Prob (F-statistic):               0.00\n",
            "Time:                        17:44:51   Log-Likelihood:             2.0638e+06\n",
            "No. Observations:             1579068   AIC:                        -4.128e+06\n",
            "Df Residuals:                 1579064   BIC:                        -4.128e+06\n",
            "Df Model:                           3                                         \n",
            "Covariance Type:            nonrobust                                         \n",
            "====================================================================================\n",
            "                       coef    std err          t      P>|t|      [0.025      0.975]\n",
            "------------------------------------------------------------------------------------\n",
            "Intercept            1.0093      0.000   4595.447      0.000       1.009       1.010\n",
            "EDAD_PADRE          -0.0010   2.22e-07  -4317.471      0.000      -0.001      -0.001\n",
            "NUMERO_EMBARAZOS    -0.0004   4.48e-06    -92.216      0.000      -0.000      -0.000\n",
            "PESO                 0.0037   3.65e-05    101.552      0.000       0.004       0.004\n",
            "==============================================================================\n",
            "Omnibus:                  2735447.495   Durbin-Watson:                   2.001\n",
            "Prob(Omnibus):                  0.000   Jarque-Bera (JB):       2046164502.703\n",
            "Skew:                          12.503   Prob(JB):                         0.00\n",
            "Kurtosis:                     177.568   Cond. No.                     1.16e+03\n",
            "==============================================================================\n",
            "\n",
            "Warnings:\n",
            "[1] Standard Errors assume that the covariance matrix of the errors is correctly specified.\n",
            "[2] The condition number is large, 1.16e+03. This might indicate that there are\n",
            "strong multicollinearity or other numerical problems.\n",
            "-4127614.7686267365\n"
          ],
          "name": "stdout"
        }
      ]
    },
    {
      "cell_type": "code",
      "metadata": {
        "id": "IgUeh-S8P0Gr",
        "colab_type": "code",
        "colab": {
          "base_uri": "https://localhost:8080/",
          "height": 493
        },
        "outputId": "9fe55d41-0a10-4bc3-a145-55f9ffe0627e"
      },
      "source": [
        "\n",
        "FORMULA=\"NACIDO_VIVO~NUM_CONSUL+NUMERO_EMBARAZOS+PESO\"\n",
        "modelo_full=smf.ols(FORMULA, data=df4).fit()\n",
        "print(modelo_full.summary())\n",
        "print(modelo_full.aic)"
      ],
      "execution_count": null,
      "outputs": [
        {
          "output_type": "stream",
          "text": [
            "                            OLS Regression Results                            \n",
            "==============================================================================\n",
            "Dep. Variable:            NACIDO_VIVO   R-squared:                       0.799\n",
            "Model:                            OLS   Adj. R-squared:                  0.799\n",
            "Method:                 Least Squares   F-statistic:                 2.096e+06\n",
            "Date:                Sat, 11 Jul 2020   Prob (F-statistic):               0.00\n",
            "Time:                        17:45:03   Log-Likelihood:             1.1955e+06\n",
            "No. Observations:             1579068   AIC:                        -2.391e+06\n",
            "Df Residuals:                 1579064   BIC:                        -2.391e+06\n",
            "Df Model:                           3                                         \n",
            "Covariance Type:            nonrobust                                         \n",
            "====================================================================================\n",
            "                       coef    std err          t      P>|t|      [0.025      0.975]\n",
            "------------------------------------------------------------------------------------\n",
            "Intercept            0.9761      0.000   2571.229      0.000       0.975       0.977\n",
            "NUM_CONSUL          -0.0084    3.7e-06  -2270.033      0.000      -0.008      -0.008\n",
            "NUMERO_EMBARAZOS    -0.0010   7.75e-06   -134.526      0.000      -0.001      -0.001\n",
            "PESO                 0.0135   6.27e-05    215.442      0.000       0.013       0.014\n",
            "==============================================================================\n",
            "Omnibus:                  1521734.337   Durbin-Watson:                   1.997\n",
            "Prob(Omnibus):                  0.000   Jarque-Bera (JB):         78350544.697\n",
            "Skew:                           4.736   Prob(JB):                         0.00\n",
            "Kurtosis:                      36.183   Cond. No.                         128.\n",
            "==============================================================================\n",
            "\n",
            "Warnings:\n",
            "[1] Standard Errors assume that the covariance matrix of the errors is correctly specified.\n",
            "-2391012.5194073715\n"
          ],
          "name": "stdout"
        }
      ]
    },
    {
      "cell_type": "code",
      "metadata": {
        "id": "rNw2VyYtjgfb",
        "colab_type": "code",
        "colab": {
          "base_uri": "https://localhost:8080/",
          "height": 510
        },
        "outputId": "ce4d2b5e-797c-4f48-cf58-cb6867162c47"
      },
      "source": [
        "FORMULA=\"NACIDO_VIVO~APGAR1+APGAR2+TALLA+PESO\"\n",
        "modelo_full=smf.ols(FORMULA, data=df4).fit()\n",
        "print(modelo_full.summary())\n",
        "print(modelo_full.aic)"
      ],
      "execution_count": null,
      "outputs": [
        {
          "output_type": "stream",
          "text": [
            "                            OLS Regression Results                            \n",
            "==============================================================================\n",
            "Dep. Variable:            NACIDO_VIVO   R-squared:                       0.879\n",
            "Model:                            OLS   Adj. R-squared:                  0.879\n",
            "Method:                 Least Squares   F-statistic:                 2.862e+06\n",
            "Date:                Sat, 11 Jul 2020   Prob (F-statistic):               0.00\n",
            "Time:                        17:45:08   Log-Likelihood:             1.5937e+06\n",
            "No. Observations:             1579068   AIC:                        -3.187e+06\n",
            "Df Residuals:                 1579063   BIC:                        -3.187e+06\n",
            "Df Model:                           4                                         \n",
            "Covariance Type:            nonrobust                                         \n",
            "==============================================================================\n",
            "                 coef    std err          t      P>|t|      [0.025      0.975]\n",
            "------------------------------------------------------------------------------\n",
            "Intercept      1.3073      0.000   2676.667      0.000       1.306       1.308\n",
            "APGAR1        -0.0037   2.31e-05   -159.117      0.000      -0.004      -0.004\n",
            "APGAR2        -0.0014   2.32e-05    -62.492      0.000      -0.001      -0.001\n",
            "TALLA         -0.0883      0.000   -803.970      0.000      -0.088      -0.088\n",
            "PESO           0.0244   5.02e-05    486.334      0.000       0.024       0.025\n",
            "==============================================================================\n",
            "Omnibus:                  1440953.351   Durbin-Watson:                   2.002\n",
            "Prob(Omnibus):                  0.000   Jarque-Bera (JB):         85956957.651\n",
            "Skew:                           4.253   Prob(JB):                         0.00\n",
            "Kurtosis:                      38.130   Cond. No.                         299.\n",
            "==============================================================================\n",
            "\n",
            "Warnings:\n",
            "[1] Standard Errors assume that the covariance matrix of the errors is correctly specified.\n",
            "-3187378.815583177\n"
          ],
          "name": "stdout"
        }
      ]
    }
  ]
}
